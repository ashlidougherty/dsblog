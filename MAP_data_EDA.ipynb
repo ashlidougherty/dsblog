{
 "cells": [
  {
   "cell_type": "markdown",
   "metadata": {},
   "source": [
    "# MAP EDA for Blog"
   ]
  },
  {
   "cell_type": "markdown",
   "metadata": {},
   "source": [
    "Sources:\n",
    "[MAP website](https://www.murderdata.org/)"
   ]
  },
  {
   "cell_type": "markdown",
   "metadata": {},
   "source": [
    "Import standard packages."
   ]
  },
  {
   "cell_type": "code",
   "execution_count": 1,
   "metadata": {},
   "outputs": [],
   "source": [
    "import pandas as pd\n",
    "from pandas_profiling import ProfileReport\n",
    "import numpy as np\n",
    "import matplotlib.pyplot as plt\n",
    "%matplotlib inline\n",
    "import seaborn as sns"
   ]
  },
  {
   "cell_type": "markdown",
   "metadata": {},
   "source": [
    "Unzip csv files"
   ]
  },
  {
   "cell_type": "code",
   "execution_count": 2,
   "metadata": {},
   "outputs": [],
   "source": [
    "from zipfile import ZipFile"
   ]
  },
  {
   "cell_type": "code",
   "execution_count": 3,
   "metadata": {},
   "outputs": [
    {
     "name": "stdout",
     "output_type": "stream",
     "text": [
      "/Users/ashlidougherty/Documents/Flatiron/dsblog/MAPdata\n"
     ]
    }
   ],
   "source": [
    "cd MAPdata"
   ]
  },
  {
   "cell_type": "code",
   "execution_count": 4,
   "metadata": {},
   "outputs": [
    {
     "name": "stdout",
     "output_type": "stream",
     "text": [
      "MAPdefinitionsSHR.pdf  UCR65_20.csv.zip\r\n",
      "SHR76_20.csv.zip       \u001b[34munzipped\u001b[m\u001b[m/\r\n"
     ]
    }
   ],
   "source": [
    "ls"
   ]
  },
  {
   "cell_type": "markdown",
   "metadata": {},
   "source": [
    "## Unified Crime Report"
   ]
  },
  {
   "cell_type": "markdown",
   "metadata": {},
   "source": [
    "Cannot find the data dictionary for UCR? Will focus on SHR. There are more details and more entries in that report."
   ]
  },
  {
   "cell_type": "markdown",
   "metadata": {},
   "source": [
    "***"
   ]
  },
  {
   "cell_type": "markdown",
   "metadata": {},
   "source": [
    "## Supplementary Homocide Report"
   ]
  },
  {
   "cell_type": "code",
   "execution_count": 63,
   "metadata": {},
   "outputs": [
    {
     "name": "stdout",
     "output_type": "stream",
     "text": [
      "File Name                                             Modified             Size\n",
      "SHR76_20.csv                                   2022-07-21 20:32:22    303595773\n",
      "__MACOSX/._SHR76_20.csv                        2022-07-21 20:32:22          777\n",
      "Extracting all the files now...\n",
      "Done!\n"
     ]
    }
   ],
   "source": [
    "\n",
    "# specifying the zip file name\n",
    "file_name_1 = \"./SHR76_20.csv.zip\"\n",
    "# opening the zip file in READ mode\n",
    "with ZipFile(file_name_1, 'r') as zip:\n",
    "    # printing all the contents of the zip file\n",
    "    zip.printdir()\n",
    "    # extracting all the files\n",
    "    print('Extracting all the files now...')\n",
    "    # extract data to the same directory as the other data\n",
    "    zip.extractall(path='./unzipped')\n",
    "    print('Done!')"
   ]
  },
  {
   "cell_type": "code",
   "execution_count": 64,
   "metadata": {},
   "outputs": [],
   "source": [
    "shr = pd.read_csv('./unzipped/SHR76_20.csv', low_memory=False)"
   ]
  },
  {
   "cell_type": "code",
   "execution_count": 65,
   "metadata": {},
   "outputs": [
    {
     "data": {
      "text/html": [
       "<div>\n",
       "<style scoped>\n",
       "    .dataframe tbody tr th:only-of-type {\n",
       "        vertical-align: middle;\n",
       "    }\n",
       "\n",
       "    .dataframe tbody tr th {\n",
       "        vertical-align: top;\n",
       "    }\n",
       "\n",
       "    .dataframe thead th {\n",
       "        text-align: right;\n",
       "    }\n",
       "</style>\n",
       "<table border=\"1\" class=\"dataframe\">\n",
       "  <thead>\n",
       "    <tr style=\"text-align: right;\">\n",
       "      <th></th>\n",
       "      <th>ID</th>\n",
       "      <th>CNTYFIPS</th>\n",
       "      <th>Ori</th>\n",
       "      <th>State</th>\n",
       "      <th>Agency</th>\n",
       "      <th>Agentype</th>\n",
       "      <th>Source</th>\n",
       "      <th>Solved</th>\n",
       "      <th>Year</th>\n",
       "      <th>StateName</th>\n",
       "      <th>...</th>\n",
       "      <th>OffRace</th>\n",
       "      <th>OffEthnic</th>\n",
       "      <th>Weapon</th>\n",
       "      <th>Relationship</th>\n",
       "      <th>Circumstance</th>\n",
       "      <th>Subcircum</th>\n",
       "      <th>VicCount</th>\n",
       "      <th>OffCount</th>\n",
       "      <th>FileDate</th>\n",
       "      <th>MSA</th>\n",
       "    </tr>\n",
       "  </thead>\n",
       "  <tbody>\n",
       "    <tr>\n",
       "      <th>0</th>\n",
       "      <td>197609001AL00400</td>\n",
       "      <td>Autauga, AL</td>\n",
       "      <td>AL00400</td>\n",
       "      <td>Alabama</td>\n",
       "      <td>Autauga County</td>\n",
       "      <td>Sheriff</td>\n",
       "      <td>FBI</td>\n",
       "      <td>No</td>\n",
       "      <td>1976</td>\n",
       "      <td>NaN</td>\n",
       "      <td>...</td>\n",
       "      <td>Unknown</td>\n",
       "      <td>Unknown or not reported</td>\n",
       "      <td>Other or type unknown</td>\n",
       "      <td>Relationship not determined</td>\n",
       "      <td>Other</td>\n",
       "      <td>NaN</td>\n",
       "      <td>0</td>\n",
       "      <td>0</td>\n",
       "      <td>30180.0</td>\n",
       "      <td>Montgomery, AL</td>\n",
       "    </tr>\n",
       "    <tr>\n",
       "      <th>1</th>\n",
       "      <td>197701001AL00400</td>\n",
       "      <td>Autauga, AL</td>\n",
       "      <td>AL00400</td>\n",
       "      <td>Alabama</td>\n",
       "      <td>Autauga County</td>\n",
       "      <td>Sheriff</td>\n",
       "      <td>FBI</td>\n",
       "      <td>Yes</td>\n",
       "      <td>1977</td>\n",
       "      <td>NaN</td>\n",
       "      <td>...</td>\n",
       "      <td>Black</td>\n",
       "      <td>Unknown or not reported</td>\n",
       "      <td>Other or type unknown</td>\n",
       "      <td>Acquaintance</td>\n",
       "      <td>Brawl due to influence of alcohol</td>\n",
       "      <td>NaN</td>\n",
       "      <td>0</td>\n",
       "      <td>0</td>\n",
       "      <td>30180.0</td>\n",
       "      <td>Montgomery, AL</td>\n",
       "    </tr>\n",
       "    <tr>\n",
       "      <th>2</th>\n",
       "      <td>197703001AL00400</td>\n",
       "      <td>Autauga, AL</td>\n",
       "      <td>AL00400</td>\n",
       "      <td>Alabama</td>\n",
       "      <td>Autauga County</td>\n",
       "      <td>Sheriff</td>\n",
       "      <td>FBI</td>\n",
       "      <td>Yes</td>\n",
       "      <td>1977</td>\n",
       "      <td>NaN</td>\n",
       "      <td>...</td>\n",
       "      <td>White</td>\n",
       "      <td>Unknown or not reported</td>\n",
       "      <td>Handgun - pistol, revolver, etc</td>\n",
       "      <td>Acquaintance</td>\n",
       "      <td>Other arguments</td>\n",
       "      <td>NaN</td>\n",
       "      <td>0</td>\n",
       "      <td>1</td>\n",
       "      <td>30180.0</td>\n",
       "      <td>Montgomery, AL</td>\n",
       "    </tr>\n",
       "    <tr>\n",
       "      <th>3</th>\n",
       "      <td>197703001AL00401</td>\n",
       "      <td>Autauga, AL</td>\n",
       "      <td>AL00401</td>\n",
       "      <td>Alabama</td>\n",
       "      <td>Prattville</td>\n",
       "      <td>Municipal police</td>\n",
       "      <td>FBI</td>\n",
       "      <td>Yes</td>\n",
       "      <td>1977</td>\n",
       "      <td>NaN</td>\n",
       "      <td>...</td>\n",
       "      <td>Black</td>\n",
       "      <td>Unknown or not reported</td>\n",
       "      <td>Shotgun</td>\n",
       "      <td>Husband</td>\n",
       "      <td>Other arguments</td>\n",
       "      <td>NaN</td>\n",
       "      <td>0</td>\n",
       "      <td>0</td>\n",
       "      <td>30180.0</td>\n",
       "      <td>Montgomery, AL</td>\n",
       "    </tr>\n",
       "    <tr>\n",
       "      <th>4</th>\n",
       "      <td>197708001AL00400</td>\n",
       "      <td>Autauga, AL</td>\n",
       "      <td>AL00400</td>\n",
       "      <td>Alabama</td>\n",
       "      <td>Autauga County</td>\n",
       "      <td>Sheriff</td>\n",
       "      <td>FBI</td>\n",
       "      <td>Yes</td>\n",
       "      <td>1977</td>\n",
       "      <td>NaN</td>\n",
       "      <td>...</td>\n",
       "      <td>Black</td>\n",
       "      <td>Unknown or not reported</td>\n",
       "      <td>Knife or cutting instrument</td>\n",
       "      <td>Acquaintance</td>\n",
       "      <td>Circumstances undetermined</td>\n",
       "      <td>NaN</td>\n",
       "      <td>0</td>\n",
       "      <td>0</td>\n",
       "      <td>30180.0</td>\n",
       "      <td>Montgomery, AL</td>\n",
       "    </tr>\n",
       "  </tbody>\n",
       "</table>\n",
       "<p>5 rows × 31 columns</p>\n",
       "</div>"
      ],
      "text/plain": [
       "                 ID     CNTYFIPS      Ori    State          Agency  \\\n",
       "0  197609001AL00400  Autauga, AL  AL00400  Alabama  Autauga County   \n",
       "1  197701001AL00400  Autauga, AL  AL00400  Alabama  Autauga County   \n",
       "2  197703001AL00400  Autauga, AL  AL00400  Alabama  Autauga County   \n",
       "3  197703001AL00401  Autauga, AL  AL00401  Alabama      Prattville   \n",
       "4  197708001AL00400  Autauga, AL  AL00400  Alabama  Autauga County   \n",
       "\n",
       "           Agentype Source Solved  Year StateName  ...  OffRace  \\\n",
       "0           Sheriff    FBI     No  1976       NaN  ...  Unknown   \n",
       "1           Sheriff    FBI    Yes  1977       NaN  ...    Black   \n",
       "2           Sheriff    FBI    Yes  1977       NaN  ...    White   \n",
       "3  Municipal police    FBI    Yes  1977       NaN  ...    Black   \n",
       "4           Sheriff    FBI    Yes  1977       NaN  ...    Black   \n",
       "\n",
       "                 OffEthnic                           Weapon  \\\n",
       "0  Unknown or not reported            Other or type unknown   \n",
       "1  Unknown or not reported            Other or type unknown   \n",
       "2  Unknown or not reported  Handgun - pistol, revolver, etc   \n",
       "3  Unknown or not reported                          Shotgun   \n",
       "4  Unknown or not reported      Knife or cutting instrument   \n",
       "\n",
       "                  Relationship                       Circumstance  Subcircum  \\\n",
       "0  Relationship not determined                              Other        NaN   \n",
       "1                 Acquaintance  Brawl due to influence of alcohol        NaN   \n",
       "2                 Acquaintance                    Other arguments        NaN   \n",
       "3                      Husband                    Other arguments        NaN   \n",
       "4                 Acquaintance         Circumstances undetermined        NaN   \n",
       "\n",
       "  VicCount OffCount FileDate             MSA  \n",
       "0        0        0  30180.0  Montgomery, AL  \n",
       "1        0        0  30180.0  Montgomery, AL  \n",
       "2        0        1  30180.0  Montgomery, AL  \n",
       "3        0        0  30180.0  Montgomery, AL  \n",
       "4        0        0  30180.0  Montgomery, AL  \n",
       "\n",
       "[5 rows x 31 columns]"
      ]
     },
     "execution_count": 65,
     "metadata": {},
     "output_type": "execute_result"
    }
   ],
   "source": [
    "shr.head()"
   ]
  },
  {
   "cell_type": "code",
   "execution_count": 66,
   "metadata": {},
   "outputs": [
    {
     "data": {
      "text/plain": [
       "(827219, 31)"
      ]
     },
     "execution_count": 66,
     "metadata": {},
     "output_type": "execute_result"
    }
   ],
   "source": [
    "shr.shape"
   ]
  },
  {
   "cell_type": "code",
   "execution_count": 67,
   "metadata": {},
   "outputs": [
    {
     "name": "stdout",
     "output_type": "stream",
     "text": [
      "<class 'pandas.core.frame.DataFrame'>\n",
      "RangeIndex: 827219 entries, 0 to 827218\n",
      "Data columns (total 31 columns):\n",
      " #   Column        Non-Null Count   Dtype  \n",
      "---  ------        --------------   -----  \n",
      " 0   ID            827219 non-null  object \n",
      " 1   CNTYFIPS      827219 non-null  object \n",
      " 2   Ori           827219 non-null  object \n",
      " 3   State         827219 non-null  object \n",
      " 4   Agency        827219 non-null  object \n",
      " 5   Agentype      827219 non-null  object \n",
      " 6   Source        827219 non-null  object \n",
      " 7   Solved        827219 non-null  object \n",
      " 8   Year          827219 non-null  int64  \n",
      " 9   StateName     22468 non-null   object \n",
      " 10  Month         827219 non-null  object \n",
      " 11  Incident      827219 non-null  int64  \n",
      " 12  ActionType    827219 non-null  object \n",
      " 13  Homicide      827219 non-null  object \n",
      " 14  Situation     827219 non-null  object \n",
      " 15  VicAge        827219 non-null  int64  \n",
      " 16  VicSex        827219 non-null  object \n",
      " 17  VicRace       827219 non-null  object \n",
      " 18  VicEthnic     827219 non-null  object \n",
      " 19  OffAge        827219 non-null  int64  \n",
      " 20  OffSex        827219 non-null  object \n",
      " 21  OffRace       827219 non-null  object \n",
      " 22  OffEthnic     827219 non-null  object \n",
      " 23  Weapon        827219 non-null  object \n",
      " 24  Relationship  827219 non-null  object \n",
      " 25  Circumstance  827219 non-null  object \n",
      " 26  Subcircum     32451 non-null   object \n",
      " 27  VicCount      827219 non-null  int64  \n",
      " 28  OffCount      827219 non-null  int64  \n",
      " 29  FileDate      824709 non-null  float64\n",
      " 30  MSA           827219 non-null  object \n",
      "dtypes: float64(1), int64(6), object(24)\n",
      "memory usage: 195.6+ MB\n"
     ]
    }
   ],
   "source": [
    "shr.info()"
   ]
  },
  {
   "cell_type": "markdown",
   "metadata": {},
   "source": [
    "Running Pandas Profiler"
   ]
  },
  {
   "cell_type": "code",
   "execution_count": 15,
   "metadata": {},
   "outputs": [],
   "source": [
    "profile = ProfileReport(shr, title=\"Supp Homocide Report\")"
   ]
  },
  {
   "cell_type": "code",
   "execution_count": 16,
   "metadata": {
    "scrolled": true
   },
   "outputs": [
    {
     "data": {
      "application/vnd.jupyter.widget-view+json": {
       "model_id": "8796e5163a3746cb885ebd303daae441",
       "version_major": 2,
       "version_minor": 0
      },
      "text/plain": [
       "HBox(children=(HTML(value='Summarize dataset'), FloatProgress(value=0.0, max=5.0), HTML(value='')))"
      ]
     },
     "metadata": {},
     "output_type": "display_data"
    },
    {
     "name": "stdout",
     "output_type": "stream",
     "text": [
      "\n"
     ]
    },
    {
     "ename": "KeyboardInterrupt",
     "evalue": "",
     "output_type": "error",
     "traceback": [
      "\u001b[0;31m---------------------------------------------------------------------------\u001b[0m",
      "\u001b[0;31mKeyboardInterrupt\u001b[0m                         Traceback (most recent call last)",
      "\u001b[0;32m<ipython-input-16-8bf19b848b47>\u001b[0m in \u001b[0;36m<module>\u001b[0;34m\u001b[0m\n\u001b[0;32m----> 1\u001b[0;31m \u001b[0mprofile\u001b[0m\u001b[0;34m.\u001b[0m\u001b[0mto_notebook_iframe\u001b[0m\u001b[0;34m(\u001b[0m\u001b[0;34m)\u001b[0m\u001b[0;34m\u001b[0m\u001b[0;34m\u001b[0m\u001b[0m\n\u001b[0m",
      "\u001b[0;32m~/opt/anaconda3/envs/learn-env/lib/python3.8/site-packages/pandas_profiling/profile_report.py\u001b[0m in \u001b[0;36mto_notebook_iframe\u001b[0;34m(self)\u001b[0m\n\u001b[1;32m    396\u001b[0m         \u001b[0;32mwith\u001b[0m \u001b[0mwarnings\u001b[0m\u001b[0;34m.\u001b[0m\u001b[0mcatch_warnings\u001b[0m\u001b[0;34m(\u001b[0m\u001b[0;34m)\u001b[0m\u001b[0;34m:\u001b[0m\u001b[0;34m\u001b[0m\u001b[0;34m\u001b[0m\u001b[0m\n\u001b[1;32m    397\u001b[0m             \u001b[0mwarnings\u001b[0m\u001b[0;34m.\u001b[0m\u001b[0msimplefilter\u001b[0m\u001b[0;34m(\u001b[0m\u001b[0;34m\"ignore\"\u001b[0m\u001b[0;34m)\u001b[0m\u001b[0;34m\u001b[0m\u001b[0;34m\u001b[0m\u001b[0m\n\u001b[0;32m--> 398\u001b[0;31m             \u001b[0mdisplay\u001b[0m\u001b[0;34m(\u001b[0m\u001b[0mget_notebook_iframe\u001b[0m\u001b[0;34m(\u001b[0m\u001b[0mself\u001b[0m\u001b[0;34m.\u001b[0m\u001b[0mconfig\u001b[0m\u001b[0;34m,\u001b[0m \u001b[0mself\u001b[0m\u001b[0;34m)\u001b[0m\u001b[0;34m)\u001b[0m\u001b[0;34m\u001b[0m\u001b[0;34m\u001b[0m\u001b[0m\n\u001b[0m\u001b[1;32m    399\u001b[0m \u001b[0;34m\u001b[0m\u001b[0m\n\u001b[1;32m    400\u001b[0m     \u001b[0;32mdef\u001b[0m \u001b[0mto_widgets\u001b[0m\u001b[0;34m(\u001b[0m\u001b[0mself\u001b[0m\u001b[0;34m)\u001b[0m \u001b[0;34m->\u001b[0m \u001b[0;32mNone\u001b[0m\u001b[0;34m:\u001b[0m\u001b[0;34m\u001b[0m\u001b[0;34m\u001b[0m\u001b[0m\n",
      "\u001b[0;32m~/opt/anaconda3/envs/learn-env/lib/python3.8/site-packages/pandas_profiling/report/presentation/flavours/widget/notebook.py\u001b[0m in \u001b[0;36mget_notebook_iframe\u001b[0;34m(config, profile)\u001b[0m\n\u001b[1;32m     73\u001b[0m         \u001b[0moutput\u001b[0m \u001b[0;34m=\u001b[0m \u001b[0mget_notebook_iframe_src\u001b[0m\u001b[0;34m(\u001b[0m\u001b[0mconfig\u001b[0m\u001b[0;34m,\u001b[0m \u001b[0mprofile\u001b[0m\u001b[0;34m)\u001b[0m\u001b[0;34m\u001b[0m\u001b[0;34m\u001b[0m\u001b[0m\n\u001b[1;32m     74\u001b[0m     \u001b[0;32melif\u001b[0m \u001b[0mattribute\u001b[0m \u001b[0;34m==\u001b[0m \u001b[0mIframeAttribute\u001b[0m\u001b[0;34m.\u001b[0m\u001b[0msrcdoc\u001b[0m\u001b[0;34m:\u001b[0m\u001b[0;34m\u001b[0m\u001b[0;34m\u001b[0m\u001b[0m\n\u001b[0;32m---> 75\u001b[0;31m         \u001b[0moutput\u001b[0m \u001b[0;34m=\u001b[0m \u001b[0mget_notebook_iframe_srcdoc\u001b[0m\u001b[0;34m(\u001b[0m\u001b[0mconfig\u001b[0m\u001b[0;34m,\u001b[0m \u001b[0mprofile\u001b[0m\u001b[0;34m)\u001b[0m\u001b[0;34m\u001b[0m\u001b[0;34m\u001b[0m\u001b[0m\n\u001b[0m\u001b[1;32m     76\u001b[0m     \u001b[0;32melse\u001b[0m\u001b[0;34m:\u001b[0m\u001b[0;34m\u001b[0m\u001b[0;34m\u001b[0m\u001b[0m\n\u001b[1;32m     77\u001b[0m         raise ValueError(\n",
      "\u001b[0;32m~/opt/anaconda3/envs/learn-env/lib/python3.8/site-packages/pandas_profiling/report/presentation/flavours/widget/notebook.py\u001b[0m in \u001b[0;36mget_notebook_iframe_srcdoc\u001b[0;34m(config, profile)\u001b[0m\n\u001b[1;32m     27\u001b[0m     \u001b[0mwidth\u001b[0m \u001b[0;34m=\u001b[0m \u001b[0mconfig\u001b[0m\u001b[0;34m.\u001b[0m\u001b[0mnotebook\u001b[0m\u001b[0;34m.\u001b[0m\u001b[0miframe\u001b[0m\u001b[0;34m.\u001b[0m\u001b[0mwidth\u001b[0m\u001b[0;34m\u001b[0m\u001b[0;34m\u001b[0m\u001b[0m\n\u001b[1;32m     28\u001b[0m     \u001b[0mheight\u001b[0m \u001b[0;34m=\u001b[0m \u001b[0mconfig\u001b[0m\u001b[0;34m.\u001b[0m\u001b[0mnotebook\u001b[0m\u001b[0;34m.\u001b[0m\u001b[0miframe\u001b[0m\u001b[0;34m.\u001b[0m\u001b[0mheight\u001b[0m\u001b[0;34m\u001b[0m\u001b[0;34m\u001b[0m\u001b[0m\n\u001b[0;32m---> 29\u001b[0;31m     \u001b[0msrc\u001b[0m \u001b[0;34m=\u001b[0m \u001b[0mhtml\u001b[0m\u001b[0;34m.\u001b[0m\u001b[0mescape\u001b[0m\u001b[0;34m(\u001b[0m\u001b[0mprofile\u001b[0m\u001b[0;34m.\u001b[0m\u001b[0mto_html\u001b[0m\u001b[0;34m(\u001b[0m\u001b[0;34m)\u001b[0m\u001b[0;34m)\u001b[0m\u001b[0;34m\u001b[0m\u001b[0;34m\u001b[0m\u001b[0m\n\u001b[0m\u001b[1;32m     30\u001b[0m \u001b[0;34m\u001b[0m\u001b[0m\n\u001b[1;32m     31\u001b[0m     \u001b[0miframe\u001b[0m \u001b[0;34m=\u001b[0m \u001b[0;34mf'<iframe width=\"{width}\" height=\"{height}\" srcdoc=\"{src}\" frameborder=\"0\" allowfullscreen></iframe>'\u001b[0m\u001b[0;34m\u001b[0m\u001b[0;34m\u001b[0m\u001b[0m\n",
      "\u001b[0;32m~/opt/anaconda3/envs/learn-env/lib/python3.8/site-packages/pandas_profiling/profile_report.py\u001b[0m in \u001b[0;36mto_html\u001b[0;34m(self)\u001b[0m\n\u001b[1;32m    366\u001b[0m \u001b[0;34m\u001b[0m\u001b[0m\n\u001b[1;32m    367\u001b[0m         \"\"\"\n\u001b[0;32m--> 368\u001b[0;31m         \u001b[0;32mreturn\u001b[0m \u001b[0mself\u001b[0m\u001b[0;34m.\u001b[0m\u001b[0mhtml\u001b[0m\u001b[0;34m\u001b[0m\u001b[0;34m\u001b[0m\u001b[0m\n\u001b[0m\u001b[1;32m    369\u001b[0m \u001b[0;34m\u001b[0m\u001b[0m\n\u001b[1;32m    370\u001b[0m     \u001b[0;32mdef\u001b[0m \u001b[0mto_json\u001b[0m\u001b[0;34m(\u001b[0m\u001b[0mself\u001b[0m\u001b[0;34m)\u001b[0m \u001b[0;34m->\u001b[0m \u001b[0mstr\u001b[0m\u001b[0;34m:\u001b[0m\u001b[0;34m\u001b[0m\u001b[0;34m\u001b[0m\u001b[0m\n",
      "\u001b[0;32m~/opt/anaconda3/envs/learn-env/lib/python3.8/site-packages/pandas_profiling/profile_report.py\u001b[0m in \u001b[0;36mhtml\u001b[0;34m(self)\u001b[0m\n\u001b[1;32m    183\u001b[0m     \u001b[0;32mdef\u001b[0m \u001b[0mhtml\u001b[0m\u001b[0;34m(\u001b[0m\u001b[0mself\u001b[0m\u001b[0;34m)\u001b[0m \u001b[0;34m->\u001b[0m \u001b[0mstr\u001b[0m\u001b[0;34m:\u001b[0m\u001b[0;34m\u001b[0m\u001b[0;34m\u001b[0m\u001b[0m\n\u001b[1;32m    184\u001b[0m         \u001b[0;32mif\u001b[0m \u001b[0mself\u001b[0m\u001b[0;34m.\u001b[0m\u001b[0m_html\u001b[0m \u001b[0;32mis\u001b[0m \u001b[0;32mNone\u001b[0m\u001b[0;34m:\u001b[0m\u001b[0;34m\u001b[0m\u001b[0;34m\u001b[0m\u001b[0m\n\u001b[0;32m--> 185\u001b[0;31m             \u001b[0mself\u001b[0m\u001b[0;34m.\u001b[0m\u001b[0m_html\u001b[0m \u001b[0;34m=\u001b[0m \u001b[0mself\u001b[0m\u001b[0;34m.\u001b[0m\u001b[0m_render_html\u001b[0m\u001b[0;34m(\u001b[0m\u001b[0;34m)\u001b[0m\u001b[0;34m\u001b[0m\u001b[0;34m\u001b[0m\u001b[0m\n\u001b[0m\u001b[1;32m    186\u001b[0m         \u001b[0;32mreturn\u001b[0m \u001b[0mself\u001b[0m\u001b[0;34m.\u001b[0m\u001b[0m_html\u001b[0m\u001b[0;34m\u001b[0m\u001b[0;34m\u001b[0m\u001b[0m\n\u001b[1;32m    187\u001b[0m \u001b[0;34m\u001b[0m\u001b[0m\n",
      "\u001b[0;32m~/opt/anaconda3/envs/learn-env/lib/python3.8/site-packages/pandas_profiling/profile_report.py\u001b[0m in \u001b[0;36m_render_html\u001b[0;34m(self)\u001b[0m\n\u001b[1;32m    285\u001b[0m         \u001b[0;32mfrom\u001b[0m \u001b[0mpandas_profiling\u001b[0m\u001b[0;34m.\u001b[0m\u001b[0mreport\u001b[0m\u001b[0;34m.\u001b[0m\u001b[0mpresentation\u001b[0m\u001b[0;34m.\u001b[0m\u001b[0mflavours\u001b[0m \u001b[0;32mimport\u001b[0m \u001b[0mHTMLReport\u001b[0m\u001b[0;34m\u001b[0m\u001b[0;34m\u001b[0m\u001b[0m\n\u001b[1;32m    286\u001b[0m \u001b[0;34m\u001b[0m\u001b[0m\n\u001b[0;32m--> 287\u001b[0;31m         \u001b[0mreport\u001b[0m \u001b[0;34m=\u001b[0m \u001b[0mself\u001b[0m\u001b[0;34m.\u001b[0m\u001b[0mreport\u001b[0m\u001b[0;34m\u001b[0m\u001b[0;34m\u001b[0m\u001b[0m\n\u001b[0m\u001b[1;32m    288\u001b[0m \u001b[0;34m\u001b[0m\u001b[0m\n\u001b[1;32m    289\u001b[0m         with tqdm(\n",
      "\u001b[0;32m~/opt/anaconda3/envs/learn-env/lib/python3.8/site-packages/pandas_profiling/profile_report.py\u001b[0m in \u001b[0;36mreport\u001b[0;34m(self)\u001b[0m\n\u001b[1;32m    177\u001b[0m     \u001b[0;32mdef\u001b[0m \u001b[0mreport\u001b[0m\u001b[0;34m(\u001b[0m\u001b[0mself\u001b[0m\u001b[0;34m)\u001b[0m \u001b[0;34m->\u001b[0m \u001b[0mRoot\u001b[0m\u001b[0;34m:\u001b[0m\u001b[0;34m\u001b[0m\u001b[0;34m\u001b[0m\u001b[0m\n\u001b[1;32m    178\u001b[0m         \u001b[0;32mif\u001b[0m \u001b[0mself\u001b[0m\u001b[0;34m.\u001b[0m\u001b[0m_report\u001b[0m \u001b[0;32mis\u001b[0m \u001b[0;32mNone\u001b[0m\u001b[0;34m:\u001b[0m\u001b[0;34m\u001b[0m\u001b[0;34m\u001b[0m\u001b[0m\n\u001b[0;32m--> 179\u001b[0;31m             \u001b[0mself\u001b[0m\u001b[0;34m.\u001b[0m\u001b[0m_report\u001b[0m \u001b[0;34m=\u001b[0m \u001b[0mget_report_structure\u001b[0m\u001b[0;34m(\u001b[0m\u001b[0mself\u001b[0m\u001b[0;34m.\u001b[0m\u001b[0mconfig\u001b[0m\u001b[0;34m,\u001b[0m \u001b[0mself\u001b[0m\u001b[0;34m.\u001b[0m\u001b[0mdescription_set\u001b[0m\u001b[0;34m)\u001b[0m\u001b[0;34m\u001b[0m\u001b[0;34m\u001b[0m\u001b[0m\n\u001b[0m\u001b[1;32m    180\u001b[0m         \u001b[0;32mreturn\u001b[0m \u001b[0mself\u001b[0m\u001b[0;34m.\u001b[0m\u001b[0m_report\u001b[0m\u001b[0;34m\u001b[0m\u001b[0;34m\u001b[0m\u001b[0m\n\u001b[1;32m    181\u001b[0m \u001b[0;34m\u001b[0m\u001b[0m\n",
      "\u001b[0;32m~/opt/anaconda3/envs/learn-env/lib/python3.8/site-packages/pandas_profiling/profile_report.py\u001b[0m in \u001b[0;36mdescription_set\u001b[0;34m(self)\u001b[0m\n\u001b[1;32m    159\u001b[0m     \u001b[0;32mdef\u001b[0m \u001b[0mdescription_set\u001b[0m\u001b[0;34m(\u001b[0m\u001b[0mself\u001b[0m\u001b[0;34m)\u001b[0m \u001b[0;34m->\u001b[0m \u001b[0mDict\u001b[0m\u001b[0;34m[\u001b[0m\u001b[0mstr\u001b[0m\u001b[0;34m,\u001b[0m \u001b[0mAny\u001b[0m\u001b[0;34m]\u001b[0m\u001b[0;34m:\u001b[0m\u001b[0;34m\u001b[0m\u001b[0;34m\u001b[0m\u001b[0m\n\u001b[1;32m    160\u001b[0m         \u001b[0;32mif\u001b[0m \u001b[0mself\u001b[0m\u001b[0;34m.\u001b[0m\u001b[0m_description_set\u001b[0m \u001b[0;32mis\u001b[0m \u001b[0;32mNone\u001b[0m\u001b[0;34m:\u001b[0m\u001b[0;34m\u001b[0m\u001b[0;34m\u001b[0m\u001b[0m\n\u001b[0;32m--> 161\u001b[0;31m             self._description_set = describe_df(\n\u001b[0m\u001b[1;32m    162\u001b[0m                 \u001b[0mself\u001b[0m\u001b[0;34m.\u001b[0m\u001b[0mconfig\u001b[0m\u001b[0;34m,\u001b[0m\u001b[0;34m\u001b[0m\u001b[0;34m\u001b[0m\u001b[0m\n\u001b[1;32m    163\u001b[0m                 \u001b[0mself\u001b[0m\u001b[0;34m.\u001b[0m\u001b[0mdf\u001b[0m\u001b[0;34m,\u001b[0m\u001b[0;34m\u001b[0m\u001b[0;34m\u001b[0m\u001b[0m\n",
      "\u001b[0;32m~/opt/anaconda3/envs/learn-env/lib/python3.8/site-packages/pandas_profiling/model/describe.py\u001b[0m in \u001b[0;36mdescribe\u001b[0;34m(config, df, summarizer, typeset, sample)\u001b[0m\n\u001b[1;32m     69\u001b[0m         \u001b[0;31m# Variable-specific\u001b[0m\u001b[0;34m\u001b[0m\u001b[0;34m\u001b[0m\u001b[0;34m\u001b[0m\u001b[0m\n\u001b[1;32m     70\u001b[0m         \u001b[0mpbar\u001b[0m\u001b[0;34m.\u001b[0m\u001b[0mtotal\u001b[0m \u001b[0;34m+=\u001b[0m \u001b[0mlen\u001b[0m\u001b[0;34m(\u001b[0m\u001b[0mdf\u001b[0m\u001b[0;34m.\u001b[0m\u001b[0mcolumns\u001b[0m\u001b[0;34m)\u001b[0m\u001b[0;34m\u001b[0m\u001b[0;34m\u001b[0m\u001b[0m\n\u001b[0;32m---> 71\u001b[0;31m         series_description = get_series_descriptions(\n\u001b[0m\u001b[1;32m     72\u001b[0m             \u001b[0mconfig\u001b[0m\u001b[0;34m,\u001b[0m \u001b[0mdf\u001b[0m\u001b[0;34m,\u001b[0m \u001b[0msummarizer\u001b[0m\u001b[0;34m,\u001b[0m \u001b[0mtypeset\u001b[0m\u001b[0;34m,\u001b[0m \u001b[0mpbar\u001b[0m\u001b[0;34m\u001b[0m\u001b[0;34m\u001b[0m\u001b[0m\n\u001b[1;32m     73\u001b[0m         )\n",
      "\u001b[0;32m~/opt/anaconda3/envs/learn-env/lib/python3.8/site-packages/multimethod/__init__.py\u001b[0m in \u001b[0;36m__call__\u001b[0;34m(self, *args, **kwargs)\u001b[0m\n\u001b[1;32m    310\u001b[0m         \u001b[0mfunc\u001b[0m \u001b[0;34m=\u001b[0m \u001b[0mself\u001b[0m\u001b[0;34m[\u001b[0m\u001b[0mtuple\u001b[0m\u001b[0;34m(\u001b[0m\u001b[0mfunc\u001b[0m\u001b[0;34m(\u001b[0m\u001b[0marg\u001b[0m\u001b[0;34m)\u001b[0m \u001b[0;32mfor\u001b[0m \u001b[0mfunc\u001b[0m\u001b[0;34m,\u001b[0m \u001b[0marg\u001b[0m \u001b[0;32min\u001b[0m \u001b[0mzip\u001b[0m\u001b[0;34m(\u001b[0m\u001b[0mself\u001b[0m\u001b[0;34m.\u001b[0m\u001b[0mtype_checkers\u001b[0m\u001b[0;34m,\u001b[0m \u001b[0margs\u001b[0m\u001b[0;34m)\u001b[0m\u001b[0;34m)\u001b[0m\u001b[0;34m]\u001b[0m\u001b[0;34m\u001b[0m\u001b[0;34m\u001b[0m\u001b[0m\n\u001b[1;32m    311\u001b[0m         \u001b[0;32mtry\u001b[0m\u001b[0;34m:\u001b[0m\u001b[0;34m\u001b[0m\u001b[0;34m\u001b[0m\u001b[0m\n\u001b[0;32m--> 312\u001b[0;31m             \u001b[0;32mreturn\u001b[0m \u001b[0mfunc\u001b[0m\u001b[0;34m(\u001b[0m\u001b[0;34m*\u001b[0m\u001b[0margs\u001b[0m\u001b[0;34m,\u001b[0m \u001b[0;34m**\u001b[0m\u001b[0mkwargs\u001b[0m\u001b[0;34m)\u001b[0m\u001b[0;34m\u001b[0m\u001b[0;34m\u001b[0m\u001b[0m\n\u001b[0m\u001b[1;32m    313\u001b[0m         \u001b[0;32mexcept\u001b[0m \u001b[0mTypeError\u001b[0m \u001b[0;32mas\u001b[0m \u001b[0mex\u001b[0m\u001b[0;34m:\u001b[0m\u001b[0;34m\u001b[0m\u001b[0;34m\u001b[0m\u001b[0m\n\u001b[1;32m    314\u001b[0m             \u001b[0;32mraise\u001b[0m \u001b[0mDispatchError\u001b[0m\u001b[0;34m(\u001b[0m\u001b[0;34mf\"Function {func.__code__}\"\u001b[0m\u001b[0;34m)\u001b[0m \u001b[0;32mfrom\u001b[0m \u001b[0mex\u001b[0m\u001b[0;34m\u001b[0m\u001b[0;34m\u001b[0m\u001b[0m\n",
      "\u001b[0;32m~/opt/anaconda3/envs/learn-env/lib/python3.8/site-packages/pandas_profiling/model/pandas/summary_pandas.py\u001b[0m in \u001b[0;36mpandas_get_series_descriptions\u001b[0;34m(config, df, summarizer, typeset, pbar)\u001b[0m\n\u001b[1;32m     95\u001b[0m                 \u001b[0mpbar\u001b[0m\u001b[0;34m.\u001b[0m\u001b[0mset_postfix_str\u001b[0m\u001b[0;34m(\u001b[0m\u001b[0;34mf\"Describe variable:{column}\"\u001b[0m\u001b[0;34m)\u001b[0m\u001b[0;34m\u001b[0m\u001b[0;34m\u001b[0m\u001b[0m\n\u001b[1;32m     96\u001b[0m                 \u001b[0mseries_description\u001b[0m\u001b[0;34m[\u001b[0m\u001b[0mcolumn\u001b[0m\u001b[0;34m]\u001b[0m \u001b[0;34m=\u001b[0m \u001b[0mdescription\u001b[0m\u001b[0;34m\u001b[0m\u001b[0;34m\u001b[0m\u001b[0m\n\u001b[0;32m---> 97\u001b[0;31m                 \u001b[0mpbar\u001b[0m\u001b[0;34m.\u001b[0m\u001b[0mupdate\u001b[0m\u001b[0;34m(\u001b[0m\u001b[0;34m)\u001b[0m\u001b[0;34m\u001b[0m\u001b[0;34m\u001b[0m\u001b[0m\n\u001b[0m\u001b[1;32m     98\u001b[0m \u001b[0;34m\u001b[0m\u001b[0m\n\u001b[1;32m     99\u001b[0m         \u001b[0;31m# Restore the original order\u001b[0m\u001b[0;34m\u001b[0m\u001b[0;34m\u001b[0m\u001b[0;34m\u001b[0m\u001b[0m\n",
      "\u001b[0;32m~/opt/anaconda3/envs/learn-env/lib/python3.8/site-packages/tqdm/notebook.py\u001b[0m in \u001b[0;36mupdate\u001b[0;34m(self, *args, **kwargs)\u001b[0m\n\u001b[1;32m    244\u001b[0m     \u001b[0;32mdef\u001b[0m \u001b[0mupdate\u001b[0m\u001b[0;34m(\u001b[0m\u001b[0mself\u001b[0m\u001b[0;34m,\u001b[0m \u001b[0;34m*\u001b[0m\u001b[0margs\u001b[0m\u001b[0;34m,\u001b[0m \u001b[0;34m**\u001b[0m\u001b[0mkwargs\u001b[0m\u001b[0;34m)\u001b[0m\u001b[0;34m:\u001b[0m\u001b[0;34m\u001b[0m\u001b[0;34m\u001b[0m\u001b[0m\n\u001b[1;32m    245\u001b[0m         \u001b[0;32mtry\u001b[0m\u001b[0;34m:\u001b[0m\u001b[0;34m\u001b[0m\u001b[0;34m\u001b[0m\u001b[0m\n\u001b[0;32m--> 246\u001b[0;31m             \u001b[0;32mreturn\u001b[0m \u001b[0msuper\u001b[0m\u001b[0;34m(\u001b[0m\u001b[0mtqdm_notebook\u001b[0m\u001b[0;34m,\u001b[0m \u001b[0mself\u001b[0m\u001b[0;34m)\u001b[0m\u001b[0;34m.\u001b[0m\u001b[0mupdate\u001b[0m\u001b[0;34m(\u001b[0m\u001b[0;34m*\u001b[0m\u001b[0margs\u001b[0m\u001b[0;34m,\u001b[0m \u001b[0;34m**\u001b[0m\u001b[0mkwargs\u001b[0m\u001b[0;34m)\u001b[0m\u001b[0;34m\u001b[0m\u001b[0;34m\u001b[0m\u001b[0m\n\u001b[0m\u001b[1;32m    247\u001b[0m         \u001b[0;31m# NB: except ... [ as ...] breaks IPython async KeyboardInterrupt\u001b[0m\u001b[0;34m\u001b[0m\u001b[0;34m\u001b[0m\u001b[0;34m\u001b[0m\u001b[0m\n\u001b[1;32m    248\u001b[0m         \u001b[0;32mexcept\u001b[0m\u001b[0;34m:\u001b[0m  \u001b[0;31m# NOQA\u001b[0m\u001b[0;34m\u001b[0m\u001b[0;34m\u001b[0m\u001b[0m\n",
      "\u001b[0;32m~/opt/anaconda3/envs/learn-env/lib/python3.8/site-packages/tqdm/std.py\u001b[0m in \u001b[0;36mupdate\u001b[0;34m(self, n)\u001b[0m\n\u001b[1;32m   1271\u001b[0m                         fp_write=getattr(self.fp, 'write', sys.stderr.write))\n\u001b[1;32m   1272\u001b[0m \u001b[0;34m\u001b[0m\u001b[0m\n\u001b[0;32m-> 1273\u001b[0;31m                 \u001b[0mself\u001b[0m\u001b[0;34m.\u001b[0m\u001b[0mrefresh\u001b[0m\u001b[0;34m(\u001b[0m\u001b[0mlock_args\u001b[0m\u001b[0;34m=\u001b[0m\u001b[0mself\u001b[0m\u001b[0;34m.\u001b[0m\u001b[0mlock_args\u001b[0m\u001b[0;34m)\u001b[0m\u001b[0;34m\u001b[0m\u001b[0;34m\u001b[0m\u001b[0m\n\u001b[0m\u001b[1;32m   1274\u001b[0m \u001b[0;34m\u001b[0m\u001b[0m\n\u001b[1;32m   1275\u001b[0m                 \u001b[0;31m# If no `miniters` was specified, adjust automatically to the\u001b[0m\u001b[0;34m\u001b[0m\u001b[0;34m\u001b[0m\u001b[0;34m\u001b[0m\u001b[0m\n",
      "\u001b[0;32m~/opt/anaconda3/envs/learn-env/lib/python3.8/site-packages/tqdm/std.py\u001b[0m in \u001b[0;36mrefresh\u001b[0;34m(self, nolock, lock_args)\u001b[0m\n\u001b[1;32m   1378\u001b[0m             \u001b[0;32melse\u001b[0m\u001b[0;34m:\u001b[0m\u001b[0;34m\u001b[0m\u001b[0;34m\u001b[0m\u001b[0m\n\u001b[1;32m   1379\u001b[0m                 \u001b[0mself\u001b[0m\u001b[0;34m.\u001b[0m\u001b[0m_lock\u001b[0m\u001b[0;34m.\u001b[0m\u001b[0macquire\u001b[0m\u001b[0;34m(\u001b[0m\u001b[0;34m)\u001b[0m\u001b[0;34m\u001b[0m\u001b[0;34m\u001b[0m\u001b[0m\n\u001b[0;32m-> 1380\u001b[0;31m         \u001b[0mself\u001b[0m\u001b[0;34m.\u001b[0m\u001b[0mdisplay\u001b[0m\u001b[0;34m(\u001b[0m\u001b[0;34m)\u001b[0m\u001b[0;34m\u001b[0m\u001b[0;34m\u001b[0m\u001b[0m\n\u001b[0m\u001b[1;32m   1381\u001b[0m         \u001b[0;32mif\u001b[0m \u001b[0;32mnot\u001b[0m \u001b[0mnolock\u001b[0m\u001b[0;34m:\u001b[0m\u001b[0;34m\u001b[0m\u001b[0;34m\u001b[0m\u001b[0m\n\u001b[1;32m   1382\u001b[0m             \u001b[0mself\u001b[0m\u001b[0;34m.\u001b[0m\u001b[0m_lock\u001b[0m\u001b[0;34m.\u001b[0m\u001b[0mrelease\u001b[0m\u001b[0;34m(\u001b[0m\u001b[0;34m)\u001b[0m\u001b[0;34m\u001b[0m\u001b[0;34m\u001b[0m\u001b[0m\n",
      "\u001b[0;32m~/opt/anaconda3/envs/learn-env/lib/python3.8/site-packages/tqdm/notebook.py\u001b[0m in \u001b[0;36mdisplay\u001b[0;34m(self, msg, pos, close, bar_style)\u001b[0m\n\u001b[1;32m    169\u001b[0m             \u001b[0;31m# never clear the bar (signal: msg='')\u001b[0m\u001b[0;34m\u001b[0m\u001b[0;34m\u001b[0m\u001b[0;34m\u001b[0m\u001b[0m\n\u001b[1;32m    170\u001b[0m             \u001b[0;32mif\u001b[0m \u001b[0mright\u001b[0m\u001b[0;34m:\u001b[0m\u001b[0;34m\u001b[0m\u001b[0;34m\u001b[0m\u001b[0m\n\u001b[0;32m--> 171\u001b[0;31m                 \u001b[0mrtext\u001b[0m\u001b[0;34m.\u001b[0m\u001b[0mvalue\u001b[0m \u001b[0;34m=\u001b[0m \u001b[0mright\u001b[0m\u001b[0;34m\u001b[0m\u001b[0;34m\u001b[0m\u001b[0m\n\u001b[0m\u001b[1;32m    172\u001b[0m \u001b[0;34m\u001b[0m\u001b[0m\n\u001b[1;32m    173\u001b[0m         \u001b[0;31m# Change bar style\u001b[0m\u001b[0;34m\u001b[0m\u001b[0;34m\u001b[0m\u001b[0;34m\u001b[0m\u001b[0m\n",
      "\u001b[0;32m~/opt/anaconda3/envs/learn-env/lib/python3.8/site-packages/traitlets/traitlets.py\u001b[0m in \u001b[0;36m__set__\u001b[0;34m(self, obj, value)\u001b[0m\n\u001b[1;32m    602\u001b[0m             \u001b[0;32mraise\u001b[0m \u001b[0mTraitError\u001b[0m\u001b[0;34m(\u001b[0m\u001b[0;34m'The \"%s\" trait is read-only.'\u001b[0m \u001b[0;34m%\u001b[0m \u001b[0mself\u001b[0m\u001b[0;34m.\u001b[0m\u001b[0mname\u001b[0m\u001b[0;34m)\u001b[0m\u001b[0;34m\u001b[0m\u001b[0;34m\u001b[0m\u001b[0m\n\u001b[1;32m    603\u001b[0m         \u001b[0;32melse\u001b[0m\u001b[0;34m:\u001b[0m\u001b[0;34m\u001b[0m\u001b[0;34m\u001b[0m\u001b[0m\n\u001b[0;32m--> 604\u001b[0;31m             \u001b[0mself\u001b[0m\u001b[0;34m.\u001b[0m\u001b[0mset\u001b[0m\u001b[0;34m(\u001b[0m\u001b[0mobj\u001b[0m\u001b[0;34m,\u001b[0m \u001b[0mvalue\u001b[0m\u001b[0;34m)\u001b[0m\u001b[0;34m\u001b[0m\u001b[0;34m\u001b[0m\u001b[0m\n\u001b[0m\u001b[1;32m    605\u001b[0m \u001b[0;34m\u001b[0m\u001b[0m\n\u001b[1;32m    606\u001b[0m     \u001b[0;32mdef\u001b[0m \u001b[0m_validate\u001b[0m\u001b[0;34m(\u001b[0m\u001b[0mself\u001b[0m\u001b[0;34m,\u001b[0m \u001b[0mobj\u001b[0m\u001b[0;34m,\u001b[0m \u001b[0mvalue\u001b[0m\u001b[0;34m)\u001b[0m\u001b[0;34m:\u001b[0m\u001b[0;34m\u001b[0m\u001b[0;34m\u001b[0m\u001b[0m\n",
      "\u001b[0;32m~/opt/anaconda3/envs/learn-env/lib/python3.8/site-packages/traitlets/traitlets.py\u001b[0m in \u001b[0;36mset\u001b[0;34m(self, obj, value)\u001b[0m\n\u001b[1;32m    591\u001b[0m             \u001b[0;31m# we explicitly compare silent to True just in case the equality\u001b[0m\u001b[0;34m\u001b[0m\u001b[0;34m\u001b[0m\u001b[0;34m\u001b[0m\u001b[0m\n\u001b[1;32m    592\u001b[0m             \u001b[0;31m# comparison above returns something other than True/False\u001b[0m\u001b[0;34m\u001b[0m\u001b[0;34m\u001b[0m\u001b[0;34m\u001b[0m\u001b[0m\n\u001b[0;32m--> 593\u001b[0;31m             \u001b[0mobj\u001b[0m\u001b[0;34m.\u001b[0m\u001b[0m_notify_trait\u001b[0m\u001b[0;34m(\u001b[0m\u001b[0mself\u001b[0m\u001b[0;34m.\u001b[0m\u001b[0mname\u001b[0m\u001b[0;34m,\u001b[0m \u001b[0mold_value\u001b[0m\u001b[0;34m,\u001b[0m \u001b[0mnew_value\u001b[0m\u001b[0;34m)\u001b[0m\u001b[0;34m\u001b[0m\u001b[0;34m\u001b[0m\u001b[0m\n\u001b[0m\u001b[1;32m    594\u001b[0m \u001b[0;34m\u001b[0m\u001b[0m\n\u001b[1;32m    595\u001b[0m     \u001b[0;32mdef\u001b[0m \u001b[0m__set__\u001b[0m\u001b[0;34m(\u001b[0m\u001b[0mself\u001b[0m\u001b[0;34m,\u001b[0m \u001b[0mobj\u001b[0m\u001b[0;34m,\u001b[0m \u001b[0mvalue\u001b[0m\u001b[0;34m)\u001b[0m\u001b[0;34m:\u001b[0m\u001b[0;34m\u001b[0m\u001b[0;34m\u001b[0m\u001b[0m\n",
      "\u001b[0;32m~/opt/anaconda3/envs/learn-env/lib/python3.8/site-packages/traitlets/traitlets.py\u001b[0m in \u001b[0;36m_notify_trait\u001b[0;34m(self, name, old_value, new_value)\u001b[0m\n\u001b[1;32m   1215\u001b[0m \u001b[0;34m\u001b[0m\u001b[0m\n\u001b[1;32m   1216\u001b[0m     \u001b[0;32mdef\u001b[0m \u001b[0m_notify_trait\u001b[0m\u001b[0;34m(\u001b[0m\u001b[0mself\u001b[0m\u001b[0;34m,\u001b[0m \u001b[0mname\u001b[0m\u001b[0;34m,\u001b[0m \u001b[0mold_value\u001b[0m\u001b[0;34m,\u001b[0m \u001b[0mnew_value\u001b[0m\u001b[0;34m)\u001b[0m\u001b[0;34m:\u001b[0m\u001b[0;34m\u001b[0m\u001b[0;34m\u001b[0m\u001b[0m\n\u001b[0;32m-> 1217\u001b[0;31m         self.notify_change(Bunch(\n\u001b[0m\u001b[1;32m   1218\u001b[0m             \u001b[0mname\u001b[0m\u001b[0;34m=\u001b[0m\u001b[0mname\u001b[0m\u001b[0;34m,\u001b[0m\u001b[0;34m\u001b[0m\u001b[0;34m\u001b[0m\u001b[0m\n\u001b[1;32m   1219\u001b[0m             \u001b[0mold\u001b[0m\u001b[0;34m=\u001b[0m\u001b[0mold_value\u001b[0m\u001b[0;34m,\u001b[0m\u001b[0;34m\u001b[0m\u001b[0;34m\u001b[0m\u001b[0m\n",
      "\u001b[0;32m~/opt/anaconda3/envs/learn-env/lib/python3.8/site-packages/ipywidgets/widgets/widget.py\u001b[0m in \u001b[0;36mnotify_change\u001b[0;34m(self, change)\u001b[0m\n\u001b[1;32m    603\u001b[0m             \u001b[0;32mif\u001b[0m \u001b[0mname\u001b[0m \u001b[0;32min\u001b[0m \u001b[0mself\u001b[0m\u001b[0;34m.\u001b[0m\u001b[0mkeys\u001b[0m \u001b[0;32mand\u001b[0m \u001b[0mself\u001b[0m\u001b[0;34m.\u001b[0m\u001b[0m_should_send_property\u001b[0m\u001b[0;34m(\u001b[0m\u001b[0mname\u001b[0m\u001b[0;34m,\u001b[0m \u001b[0mgetattr\u001b[0m\u001b[0;34m(\u001b[0m\u001b[0mself\u001b[0m\u001b[0;34m,\u001b[0m \u001b[0mname\u001b[0m\u001b[0;34m)\u001b[0m\u001b[0;34m)\u001b[0m\u001b[0;34m:\u001b[0m\u001b[0;34m\u001b[0m\u001b[0;34m\u001b[0m\u001b[0m\n\u001b[1;32m    604\u001b[0m                 \u001b[0;31m# Send new state to front-end\u001b[0m\u001b[0;34m\u001b[0m\u001b[0;34m\u001b[0m\u001b[0;34m\u001b[0m\u001b[0m\n\u001b[0;32m--> 605\u001b[0;31m                 \u001b[0mself\u001b[0m\u001b[0;34m.\u001b[0m\u001b[0msend_state\u001b[0m\u001b[0;34m(\u001b[0m\u001b[0mkey\u001b[0m\u001b[0;34m=\u001b[0m\u001b[0mname\u001b[0m\u001b[0;34m)\u001b[0m\u001b[0;34m\u001b[0m\u001b[0;34m\u001b[0m\u001b[0m\n\u001b[0m\u001b[1;32m    606\u001b[0m         \u001b[0msuper\u001b[0m\u001b[0;34m(\u001b[0m\u001b[0mWidget\u001b[0m\u001b[0;34m,\u001b[0m \u001b[0mself\u001b[0m\u001b[0;34m)\u001b[0m\u001b[0;34m.\u001b[0m\u001b[0mnotify_change\u001b[0m\u001b[0;34m(\u001b[0m\u001b[0mchange\u001b[0m\u001b[0;34m)\u001b[0m\u001b[0;34m\u001b[0m\u001b[0;34m\u001b[0m\u001b[0m\n\u001b[1;32m    607\u001b[0m \u001b[0;34m\u001b[0m\u001b[0m\n",
      "\u001b[0;32m~/opt/anaconda3/envs/learn-env/lib/python3.8/site-packages/ipywidgets/widgets/widget.py\u001b[0m in \u001b[0;36msend_state\u001b[0;34m(self, key)\u001b[0m\n\u001b[1;32m    487\u001b[0m             \u001b[0mstate\u001b[0m\u001b[0;34m,\u001b[0m \u001b[0mbuffer_paths\u001b[0m\u001b[0;34m,\u001b[0m \u001b[0mbuffers\u001b[0m \u001b[0;34m=\u001b[0m \u001b[0m_remove_buffers\u001b[0m\u001b[0;34m(\u001b[0m\u001b[0mstate\u001b[0m\u001b[0;34m)\u001b[0m\u001b[0;34m\u001b[0m\u001b[0;34m\u001b[0m\u001b[0m\n\u001b[1;32m    488\u001b[0m             \u001b[0mmsg\u001b[0m \u001b[0;34m=\u001b[0m \u001b[0;34m{\u001b[0m\u001b[0;34m'method'\u001b[0m\u001b[0;34m:\u001b[0m \u001b[0;34m'update'\u001b[0m\u001b[0;34m,\u001b[0m \u001b[0;34m'state'\u001b[0m\u001b[0;34m:\u001b[0m \u001b[0mstate\u001b[0m\u001b[0;34m,\u001b[0m \u001b[0;34m'buffer_paths'\u001b[0m\u001b[0;34m:\u001b[0m \u001b[0mbuffer_paths\u001b[0m\u001b[0;34m}\u001b[0m\u001b[0;34m\u001b[0m\u001b[0;34m\u001b[0m\u001b[0m\n\u001b[0;32m--> 489\u001b[0;31m             \u001b[0mself\u001b[0m\u001b[0;34m.\u001b[0m\u001b[0m_send\u001b[0m\u001b[0;34m(\u001b[0m\u001b[0mmsg\u001b[0m\u001b[0;34m,\u001b[0m \u001b[0mbuffers\u001b[0m\u001b[0;34m=\u001b[0m\u001b[0mbuffers\u001b[0m\u001b[0;34m)\u001b[0m\u001b[0;34m\u001b[0m\u001b[0;34m\u001b[0m\u001b[0m\n\u001b[0m\u001b[1;32m    490\u001b[0m \u001b[0;34m\u001b[0m\u001b[0m\n\u001b[1;32m    491\u001b[0m \u001b[0;34m\u001b[0m\u001b[0m\n",
      "\u001b[0;32m~/opt/anaconda3/envs/learn-env/lib/python3.8/site-packages/ipywidgets/widgets/widget.py\u001b[0m in \u001b[0;36m_send\u001b[0;34m(self, msg, buffers)\u001b[0m\n\u001b[1;32m    735\u001b[0m         \u001b[0;34m\"\"\"Sends a message to the model in the front-end.\"\"\"\u001b[0m\u001b[0;34m\u001b[0m\u001b[0;34m\u001b[0m\u001b[0m\n\u001b[1;32m    736\u001b[0m         \u001b[0;32mif\u001b[0m \u001b[0mself\u001b[0m\u001b[0;34m.\u001b[0m\u001b[0mcomm\u001b[0m \u001b[0;32mis\u001b[0m \u001b[0;32mnot\u001b[0m \u001b[0;32mNone\u001b[0m \u001b[0;32mand\u001b[0m \u001b[0mself\u001b[0m\u001b[0;34m.\u001b[0m\u001b[0mcomm\u001b[0m\u001b[0;34m.\u001b[0m\u001b[0mkernel\u001b[0m \u001b[0;32mis\u001b[0m \u001b[0;32mnot\u001b[0m \u001b[0;32mNone\u001b[0m\u001b[0;34m:\u001b[0m\u001b[0;34m\u001b[0m\u001b[0;34m\u001b[0m\u001b[0m\n\u001b[0;32m--> 737\u001b[0;31m             \u001b[0mself\u001b[0m\u001b[0;34m.\u001b[0m\u001b[0mcomm\u001b[0m\u001b[0;34m.\u001b[0m\u001b[0msend\u001b[0m\u001b[0;34m(\u001b[0m\u001b[0mdata\u001b[0m\u001b[0;34m=\u001b[0m\u001b[0mmsg\u001b[0m\u001b[0;34m,\u001b[0m \u001b[0mbuffers\u001b[0m\u001b[0;34m=\u001b[0m\u001b[0mbuffers\u001b[0m\u001b[0;34m)\u001b[0m\u001b[0;34m\u001b[0m\u001b[0;34m\u001b[0m\u001b[0m\n\u001b[0m\u001b[1;32m    738\u001b[0m \u001b[0;34m\u001b[0m\u001b[0m\n\u001b[1;32m    739\u001b[0m     \u001b[0;32mdef\u001b[0m \u001b[0m_repr_keys\u001b[0m\u001b[0;34m(\u001b[0m\u001b[0mself\u001b[0m\u001b[0;34m)\u001b[0m\u001b[0;34m:\u001b[0m\u001b[0;34m\u001b[0m\u001b[0;34m\u001b[0m\u001b[0m\n",
      "\u001b[0;32m~/opt/anaconda3/envs/learn-env/lib/python3.8/site-packages/ipykernel/comm/comm.py\u001b[0m in \u001b[0;36msend\u001b[0;34m(self, data, metadata, buffers)\u001b[0m\n\u001b[1;32m    120\u001b[0m     \u001b[0;32mdef\u001b[0m \u001b[0msend\u001b[0m\u001b[0;34m(\u001b[0m\u001b[0mself\u001b[0m\u001b[0;34m,\u001b[0m \u001b[0mdata\u001b[0m\u001b[0;34m=\u001b[0m\u001b[0;32mNone\u001b[0m\u001b[0;34m,\u001b[0m \u001b[0mmetadata\u001b[0m\u001b[0;34m=\u001b[0m\u001b[0;32mNone\u001b[0m\u001b[0;34m,\u001b[0m \u001b[0mbuffers\u001b[0m\u001b[0;34m=\u001b[0m\u001b[0;32mNone\u001b[0m\u001b[0;34m)\u001b[0m\u001b[0;34m:\u001b[0m\u001b[0;34m\u001b[0m\u001b[0;34m\u001b[0m\u001b[0m\n\u001b[1;32m    121\u001b[0m         \u001b[0;34m\"\"\"Send a message to the frontend-side version of this comm\"\"\"\u001b[0m\u001b[0;34m\u001b[0m\u001b[0;34m\u001b[0m\u001b[0m\n\u001b[0;32m--> 122\u001b[0;31m         self._publish_msg('comm_msg',\n\u001b[0m\u001b[1;32m    123\u001b[0m             \u001b[0mdata\u001b[0m\u001b[0;34m=\u001b[0m\u001b[0mdata\u001b[0m\u001b[0;34m,\u001b[0m \u001b[0mmetadata\u001b[0m\u001b[0;34m=\u001b[0m\u001b[0mmetadata\u001b[0m\u001b[0;34m,\u001b[0m \u001b[0mbuffers\u001b[0m\u001b[0;34m=\u001b[0m\u001b[0mbuffers\u001b[0m\u001b[0;34m,\u001b[0m\u001b[0;34m\u001b[0m\u001b[0;34m\u001b[0m\u001b[0m\n\u001b[1;32m    124\u001b[0m         )\n",
      "\u001b[0;32m~/opt/anaconda3/envs/learn-env/lib/python3.8/site-packages/ipykernel/comm/comm.py\u001b[0m in \u001b[0;36m_publish_msg\u001b[0;34m(self, msg_type, data, metadata, buffers, **keys)\u001b[0m\n\u001b[1;32m     64\u001b[0m         \u001b[0mmetadata\u001b[0m \u001b[0;34m=\u001b[0m \u001b[0;34m{\u001b[0m\u001b[0;34m}\u001b[0m \u001b[0;32mif\u001b[0m \u001b[0mmetadata\u001b[0m \u001b[0;32mis\u001b[0m \u001b[0;32mNone\u001b[0m \u001b[0;32melse\u001b[0m \u001b[0mmetadata\u001b[0m\u001b[0;34m\u001b[0m\u001b[0;34m\u001b[0m\u001b[0m\n\u001b[1;32m     65\u001b[0m         \u001b[0mcontent\u001b[0m \u001b[0;34m=\u001b[0m \u001b[0mjson_clean\u001b[0m\u001b[0;34m(\u001b[0m\u001b[0mdict\u001b[0m\u001b[0;34m(\u001b[0m\u001b[0mdata\u001b[0m\u001b[0;34m=\u001b[0m\u001b[0mdata\u001b[0m\u001b[0;34m,\u001b[0m \u001b[0mcomm_id\u001b[0m\u001b[0;34m=\u001b[0m\u001b[0mself\u001b[0m\u001b[0;34m.\u001b[0m\u001b[0mcomm_id\u001b[0m\u001b[0;34m,\u001b[0m \u001b[0;34m**\u001b[0m\u001b[0mkeys\u001b[0m\u001b[0;34m)\u001b[0m\u001b[0;34m)\u001b[0m\u001b[0;34m\u001b[0m\u001b[0;34m\u001b[0m\u001b[0m\n\u001b[0;32m---> 66\u001b[0;31m         self.kernel.session.send(self.kernel.iopub_socket, msg_type,\n\u001b[0m\u001b[1;32m     67\u001b[0m             \u001b[0mcontent\u001b[0m\u001b[0;34m,\u001b[0m\u001b[0;34m\u001b[0m\u001b[0;34m\u001b[0m\u001b[0m\n\u001b[1;32m     68\u001b[0m             \u001b[0mmetadata\u001b[0m\u001b[0;34m=\u001b[0m\u001b[0mjson_clean\u001b[0m\u001b[0;34m(\u001b[0m\u001b[0mmetadata\u001b[0m\u001b[0;34m)\u001b[0m\u001b[0;34m,\u001b[0m\u001b[0;34m\u001b[0m\u001b[0;34m\u001b[0m\u001b[0m\n",
      "\u001b[0;32m~/opt/anaconda3/envs/learn-env/lib/python3.8/site-packages/jupyter_client/session.py\u001b[0m in \u001b[0;36msend\u001b[0;34m(self, stream, msg_or_type, content, parent, ident, buffers, track, header, metadata)\u001b[0m\n\u001b[1;32m    749\u001b[0m             \u001b[0;31m# use dummy tracker, which will be done immediately\u001b[0m\u001b[0;34m\u001b[0m\u001b[0;34m\u001b[0m\u001b[0;34m\u001b[0m\u001b[0m\n\u001b[1;32m    750\u001b[0m             \u001b[0mtracker\u001b[0m \u001b[0;34m=\u001b[0m \u001b[0mDONE\u001b[0m\u001b[0;34m\u001b[0m\u001b[0;34m\u001b[0m\u001b[0m\n\u001b[0;32m--> 751\u001b[0;31m             \u001b[0mstream\u001b[0m\u001b[0;34m.\u001b[0m\u001b[0msend_multipart\u001b[0m\u001b[0;34m(\u001b[0m\u001b[0mto_send\u001b[0m\u001b[0;34m,\u001b[0m \u001b[0mcopy\u001b[0m\u001b[0;34m=\u001b[0m\u001b[0mcopy\u001b[0m\u001b[0;34m)\u001b[0m\u001b[0;34m\u001b[0m\u001b[0;34m\u001b[0m\u001b[0m\n\u001b[0m\u001b[1;32m    752\u001b[0m \u001b[0;34m\u001b[0m\u001b[0m\n\u001b[1;32m    753\u001b[0m         \u001b[0;32mif\u001b[0m \u001b[0mself\u001b[0m\u001b[0;34m.\u001b[0m\u001b[0mdebug\u001b[0m\u001b[0;34m:\u001b[0m\u001b[0;34m\u001b[0m\u001b[0;34m\u001b[0m\u001b[0m\n",
      "\u001b[0;32m~/opt/anaconda3/envs/learn-env/lib/python3.8/site-packages/ipykernel/iostream.py\u001b[0m in \u001b[0;36msend_multipart\u001b[0;34m(self, *args, **kwargs)\u001b[0m\n\u001b[1;32m    262\u001b[0m     \u001b[0;32mdef\u001b[0m \u001b[0msend_multipart\u001b[0m\u001b[0;34m(\u001b[0m\u001b[0mself\u001b[0m\u001b[0;34m,\u001b[0m \u001b[0;34m*\u001b[0m\u001b[0margs\u001b[0m\u001b[0;34m,\u001b[0m \u001b[0;34m**\u001b[0m\u001b[0mkwargs\u001b[0m\u001b[0;34m)\u001b[0m\u001b[0;34m:\u001b[0m\u001b[0;34m\u001b[0m\u001b[0;34m\u001b[0m\u001b[0m\n\u001b[1;32m    263\u001b[0m         \u001b[0;34m\"\"\"Schedule send in IO thread\"\"\"\u001b[0m\u001b[0;34m\u001b[0m\u001b[0;34m\u001b[0m\u001b[0m\n\u001b[0;32m--> 264\u001b[0;31m         \u001b[0;32mreturn\u001b[0m \u001b[0mself\u001b[0m\u001b[0;34m.\u001b[0m\u001b[0mio_thread\u001b[0m\u001b[0;34m.\u001b[0m\u001b[0msend_multipart\u001b[0m\u001b[0;34m(\u001b[0m\u001b[0;34m*\u001b[0m\u001b[0margs\u001b[0m\u001b[0;34m,\u001b[0m \u001b[0;34m**\u001b[0m\u001b[0mkwargs\u001b[0m\u001b[0;34m)\u001b[0m\u001b[0;34m\u001b[0m\u001b[0;34m\u001b[0m\u001b[0m\n\u001b[0m\u001b[1;32m    265\u001b[0m \u001b[0;34m\u001b[0m\u001b[0m\n\u001b[1;32m    266\u001b[0m \u001b[0;34m\u001b[0m\u001b[0m\n",
      "\u001b[0;32m~/opt/anaconda3/envs/learn-env/lib/python3.8/site-packages/ipykernel/iostream.py\u001b[0m in \u001b[0;36msend_multipart\u001b[0;34m(self, *args, **kwargs)\u001b[0m\n\u001b[1;32m    212\u001b[0m         \u001b[0mIf\u001b[0m \u001b[0mmy\u001b[0m \u001b[0mthread\u001b[0m \u001b[0misn\u001b[0m\u001b[0;31m'\u001b[0m\u001b[0mt\u001b[0m \u001b[0mrunning\u001b[0m \u001b[0;34m(\u001b[0m\u001b[0me\u001b[0m\u001b[0;34m.\u001b[0m\u001b[0mg\u001b[0m\u001b[0;34m.\u001b[0m \u001b[0mforked\u001b[0m \u001b[0mprocess\u001b[0m\u001b[0;34m)\u001b[0m\u001b[0;34m,\u001b[0m \u001b[0msend\u001b[0m \u001b[0mimmediately\u001b[0m\u001b[0;34m.\u001b[0m\u001b[0;34m\u001b[0m\u001b[0;34m\u001b[0m\u001b[0m\n\u001b[1;32m    213\u001b[0m         \"\"\"\n\u001b[0;32m--> 214\u001b[0;31m         \u001b[0mself\u001b[0m\u001b[0;34m.\u001b[0m\u001b[0mschedule\u001b[0m\u001b[0;34m(\u001b[0m\u001b[0;32mlambda\u001b[0m \u001b[0;34m:\u001b[0m \u001b[0mself\u001b[0m\u001b[0;34m.\u001b[0m\u001b[0m_really_send\u001b[0m\u001b[0;34m(\u001b[0m\u001b[0;34m*\u001b[0m\u001b[0margs\u001b[0m\u001b[0;34m,\u001b[0m \u001b[0;34m**\u001b[0m\u001b[0mkwargs\u001b[0m\u001b[0;34m)\u001b[0m\u001b[0;34m)\u001b[0m\u001b[0;34m\u001b[0m\u001b[0;34m\u001b[0m\u001b[0m\n\u001b[0m\u001b[1;32m    215\u001b[0m \u001b[0;34m\u001b[0m\u001b[0m\n\u001b[1;32m    216\u001b[0m     \u001b[0;32mdef\u001b[0m \u001b[0m_really_send\u001b[0m\u001b[0;34m(\u001b[0m\u001b[0mself\u001b[0m\u001b[0;34m,\u001b[0m \u001b[0mmsg\u001b[0m\u001b[0;34m,\u001b[0m \u001b[0;34m*\u001b[0m\u001b[0margs\u001b[0m\u001b[0;34m,\u001b[0m \u001b[0;34m**\u001b[0m\u001b[0mkwargs\u001b[0m\u001b[0;34m)\u001b[0m\u001b[0;34m:\u001b[0m\u001b[0;34m\u001b[0m\u001b[0;34m\u001b[0m\u001b[0m\n",
      "\u001b[0;32m~/opt/anaconda3/envs/learn-env/lib/python3.8/site-packages/ipykernel/iostream.py\u001b[0m in \u001b[0;36mschedule\u001b[0;34m(self, f)\u001b[0m\n\u001b[1;32m    203\u001b[0m             \u001b[0mself\u001b[0m\u001b[0;34m.\u001b[0m\u001b[0m_events\u001b[0m\u001b[0;34m.\u001b[0m\u001b[0mappend\u001b[0m\u001b[0;34m(\u001b[0m\u001b[0mf\u001b[0m\u001b[0;34m)\u001b[0m\u001b[0;34m\u001b[0m\u001b[0;34m\u001b[0m\u001b[0m\n\u001b[1;32m    204\u001b[0m             \u001b[0;31m# wake event thread (message content is ignored)\u001b[0m\u001b[0;34m\u001b[0m\u001b[0;34m\u001b[0m\u001b[0;34m\u001b[0m\u001b[0m\n\u001b[0;32m--> 205\u001b[0;31m             \u001b[0mself\u001b[0m\u001b[0;34m.\u001b[0m\u001b[0m_event_pipe\u001b[0m\u001b[0;34m.\u001b[0m\u001b[0msend\u001b[0m\u001b[0;34m(\u001b[0m\u001b[0;34mb''\u001b[0m\u001b[0;34m)\u001b[0m\u001b[0;34m\u001b[0m\u001b[0;34m\u001b[0m\u001b[0m\n\u001b[0m\u001b[1;32m    206\u001b[0m         \u001b[0;32melse\u001b[0m\u001b[0;34m:\u001b[0m\u001b[0;34m\u001b[0m\u001b[0;34m\u001b[0m\u001b[0m\n\u001b[1;32m    207\u001b[0m             \u001b[0mf\u001b[0m\u001b[0;34m(\u001b[0m\u001b[0;34m)\u001b[0m\u001b[0;34m\u001b[0m\u001b[0;34m\u001b[0m\u001b[0m\n",
      "\u001b[0;32m~/opt/anaconda3/envs/learn-env/lib/python3.8/site-packages/zmq/sugar/socket.py\u001b[0m in \u001b[0;36msend\u001b[0;34m(self, data, flags, copy, track, routing_id, group)\u001b[0m\n\u001b[1;32m    414\u001b[0m                                  copy_threshold=self.copy_threshold)\n\u001b[1;32m    415\u001b[0m             \u001b[0mdata\u001b[0m\u001b[0;34m.\u001b[0m\u001b[0mgroup\u001b[0m \u001b[0;34m=\u001b[0m \u001b[0mgroup\u001b[0m\u001b[0;34m\u001b[0m\u001b[0;34m\u001b[0m\u001b[0m\n\u001b[0;32m--> 416\u001b[0;31m         \u001b[0;32mreturn\u001b[0m \u001b[0msuper\u001b[0m\u001b[0;34m(\u001b[0m\u001b[0mSocket\u001b[0m\u001b[0;34m,\u001b[0m \u001b[0mself\u001b[0m\u001b[0;34m)\u001b[0m\u001b[0;34m.\u001b[0m\u001b[0msend\u001b[0m\u001b[0;34m(\u001b[0m\u001b[0mdata\u001b[0m\u001b[0;34m,\u001b[0m \u001b[0mflags\u001b[0m\u001b[0;34m=\u001b[0m\u001b[0mflags\u001b[0m\u001b[0;34m,\u001b[0m \u001b[0mcopy\u001b[0m\u001b[0;34m=\u001b[0m\u001b[0mcopy\u001b[0m\u001b[0;34m,\u001b[0m \u001b[0mtrack\u001b[0m\u001b[0;34m=\u001b[0m\u001b[0mtrack\u001b[0m\u001b[0;34m)\u001b[0m\u001b[0;34m\u001b[0m\u001b[0;34m\u001b[0m\u001b[0m\n\u001b[0m\u001b[1;32m    417\u001b[0m \u001b[0;34m\u001b[0m\u001b[0m\n\u001b[1;32m    418\u001b[0m     \u001b[0;32mdef\u001b[0m \u001b[0msend_multipart\u001b[0m\u001b[0;34m(\u001b[0m\u001b[0mself\u001b[0m\u001b[0;34m,\u001b[0m \u001b[0mmsg_parts\u001b[0m\u001b[0;34m,\u001b[0m \u001b[0mflags\u001b[0m\u001b[0;34m=\u001b[0m\u001b[0;36m0\u001b[0m\u001b[0;34m,\u001b[0m \u001b[0mcopy\u001b[0m\u001b[0;34m=\u001b[0m\u001b[0;32mTrue\u001b[0m\u001b[0;34m,\u001b[0m \u001b[0mtrack\u001b[0m\u001b[0;34m=\u001b[0m\u001b[0;32mFalse\u001b[0m\u001b[0;34m,\u001b[0m \u001b[0;34m**\u001b[0m\u001b[0mkwargs\u001b[0m\u001b[0;34m)\u001b[0m\u001b[0;34m:\u001b[0m\u001b[0;34m\u001b[0m\u001b[0;34m\u001b[0m\u001b[0m\n",
      "\u001b[0;32mzmq/backend/cython/socket.pyx\u001b[0m in \u001b[0;36mzmq.backend.cython.socket.Socket.send\u001b[0;34m()\u001b[0m\n",
      "\u001b[0;32mzmq/backend/cython/socket.pyx\u001b[0m in \u001b[0;36mzmq.backend.cython.socket.Socket.send\u001b[0;34m()\u001b[0m\n",
      "\u001b[0;32mzmq/backend/cython/socket.pyx\u001b[0m in \u001b[0;36mzmq.backend.cython.socket._send_copy\u001b[0;34m()\u001b[0m\n",
      "\u001b[0;32m~/opt/anaconda3/envs/learn-env/lib/python3.8/site-packages/zmq/backend/cython/checkrc.pxd\u001b[0m in \u001b[0;36mzmq.backend.cython.checkrc._check_rc\u001b[0;34m()\u001b[0m\n",
      "\u001b[0;31mKeyboardInterrupt\u001b[0m: "
     ]
    }
   ],
   "source": [
    "profile.to_notebook_iframe()"
   ]
  },
  {
   "cell_type": "markdown",
   "metadata": {},
   "source": [
    "First thoughts: \n",
    "- Lots of categorical info\n",
    "- lots of null values"
   ]
  },
  {
   "cell_type": "markdown",
   "metadata": {},
   "source": [
    "### Cleaning of Data"
   ]
  },
  {
   "cell_type": "code",
   "execution_count": 68,
   "metadata": {},
   "outputs": [
    {
     "data": {
      "text/html": [
       "<div>\n",
       "<style scoped>\n",
       "    .dataframe tbody tr th:only-of-type {\n",
       "        vertical-align: middle;\n",
       "    }\n",
       "\n",
       "    .dataframe tbody tr th {\n",
       "        vertical-align: top;\n",
       "    }\n",
       "\n",
       "    .dataframe thead th {\n",
       "        text-align: right;\n",
       "    }\n",
       "</style>\n",
       "<table border=\"1\" class=\"dataframe\">\n",
       "  <thead>\n",
       "    <tr style=\"text-align: right;\">\n",
       "      <th></th>\n",
       "      <th>Year</th>\n",
       "      <th>Incident</th>\n",
       "      <th>VicAge</th>\n",
       "      <th>OffAge</th>\n",
       "      <th>VicCount</th>\n",
       "      <th>OffCount</th>\n",
       "      <th>FileDate</th>\n",
       "    </tr>\n",
       "  </thead>\n",
       "  <tbody>\n",
       "    <tr>\n",
       "      <th>count</th>\n",
       "      <td>827219.000000</td>\n",
       "      <td>827219.000000</td>\n",
       "      <td>827219.000000</td>\n",
       "      <td>827219.000000</td>\n",
       "      <td>827219.000000</td>\n",
       "      <td>827219.000000</td>\n",
       "      <td>824709.000000</td>\n",
       "    </tr>\n",
       "    <tr>\n",
       "      <th>mean</th>\n",
       "      <td>1996.991040</td>\n",
       "      <td>28.947475</td>\n",
       "      <td>47.540888</td>\n",
       "      <td>352.717006</td>\n",
       "      <td>0.128523</td>\n",
       "      <td>0.185658</td>\n",
       "      <td>52603.878351</td>\n",
       "    </tr>\n",
       "    <tr>\n",
       "      <th>std</th>\n",
       "      <td>13.008957</td>\n",
       "      <td>110.180594</td>\n",
       "      <td>118.824307</td>\n",
       "      <td>456.035658</td>\n",
       "      <td>0.564474</td>\n",
       "      <td>0.596206</td>\n",
       "      <td>32519.244970</td>\n",
       "    </tr>\n",
       "    <tr>\n",
       "      <th>min</th>\n",
       "      <td>1976.000000</td>\n",
       "      <td>0.000000</td>\n",
       "      <td>0.000000</td>\n",
       "      <td>0.000000</td>\n",
       "      <td>0.000000</td>\n",
       "      <td>0.000000</td>\n",
       "      <td>10181.000000</td>\n",
       "    </tr>\n",
       "    <tr>\n",
       "      <th>25%</th>\n",
       "      <td>1986.000000</td>\n",
       "      <td>1.000000</td>\n",
       "      <td>22.000000</td>\n",
       "      <td>24.000000</td>\n",
       "      <td>0.000000</td>\n",
       "      <td>0.000000</td>\n",
       "      <td>30180.000000</td>\n",
       "    </tr>\n",
       "    <tr>\n",
       "      <th>50%</th>\n",
       "      <td>1996.000000</td>\n",
       "      <td>2.000000</td>\n",
       "      <td>30.000000</td>\n",
       "      <td>38.000000</td>\n",
       "      <td>0.000000</td>\n",
       "      <td>0.000000</td>\n",
       "      <td>40605.000000</td>\n",
       "    </tr>\n",
       "    <tr>\n",
       "      <th>75%</th>\n",
       "      <td>2008.000000</td>\n",
       "      <td>10.000000</td>\n",
       "      <td>42.000000</td>\n",
       "      <td>999.000000</td>\n",
       "      <td>0.000000</td>\n",
       "      <td>0.000000</td>\n",
       "      <td>82306.000000</td>\n",
       "    </tr>\n",
       "    <tr>\n",
       "      <th>max</th>\n",
       "      <td>2020.000000</td>\n",
       "      <td>999.000000</td>\n",
       "      <td>999.000000</td>\n",
       "      <td>999.000000</td>\n",
       "      <td>21.000000</td>\n",
       "      <td>40.000000</td>\n",
       "      <td>123197.000000</td>\n",
       "    </tr>\n",
       "  </tbody>\n",
       "</table>\n",
       "</div>"
      ],
      "text/plain": [
       "                Year       Incident         VicAge         OffAge  \\\n",
       "count  827219.000000  827219.000000  827219.000000  827219.000000   \n",
       "mean     1996.991040      28.947475      47.540888     352.717006   \n",
       "std        13.008957     110.180594     118.824307     456.035658   \n",
       "min      1976.000000       0.000000       0.000000       0.000000   \n",
       "25%      1986.000000       1.000000      22.000000      24.000000   \n",
       "50%      1996.000000       2.000000      30.000000      38.000000   \n",
       "75%      2008.000000      10.000000      42.000000     999.000000   \n",
       "max      2020.000000     999.000000     999.000000     999.000000   \n",
       "\n",
       "            VicCount       OffCount       FileDate  \n",
       "count  827219.000000  827219.000000  824709.000000  \n",
       "mean        0.128523       0.185658   52603.878351  \n",
       "std         0.564474       0.596206   32519.244970  \n",
       "min         0.000000       0.000000   10181.000000  \n",
       "25%         0.000000       0.000000   30180.000000  \n",
       "50%         0.000000       0.000000   40605.000000  \n",
       "75%         0.000000       0.000000   82306.000000  \n",
       "max        21.000000      40.000000  123197.000000  "
      ]
     },
     "execution_count": 68,
     "metadata": {},
     "output_type": "execute_result"
    }
   ],
   "source": [
    "shr.describe()"
   ]
  },
  {
   "cell_type": "markdown",
   "metadata": {},
   "source": [
    "Mean for offender age seems weird. According to data dictionary: \n",
    "\n",
    "OFFAGE – A three-digit numeric variable describing the age in years of the offender. When the offender was not identified at the time of the report, age was reported as 999. A value of 99 represents all offenders 99 or older"
   ]
  },
  {
   "cell_type": "code",
   "execution_count": 36,
   "metadata": {},
   "outputs": [
    {
     "data": {
      "text/plain": [
       "999    274871\n",
       "20      26945\n",
       "19      25187\n",
       "21      24217\n",
       "22      23888\n",
       "        ...  \n",
       "95         13\n",
       "98         10\n",
       "96         10\n",
       "2           8\n",
       "97          5\n",
       "Name: OffAge, Length: 101, dtype: int64"
      ]
     },
     "execution_count": 36,
     "metadata": {},
     "output_type": "execute_result"
    }
   ],
   "source": [
    "shr.OffAge.value_counts()"
   ]
  },
  {
   "cell_type": "code",
   "execution_count": 69,
   "metadata": {},
   "outputs": [],
   "source": [
    "shr = shr[shr.OffAge != 999]"
   ]
  },
  {
   "cell_type": "code",
   "execution_count": 70,
   "metadata": {},
   "outputs": [
    {
     "data": {
      "text/plain": [
       "20    26945\n",
       "19    25187\n",
       "21    24217\n",
       "22    23888\n",
       "18    23295\n",
       "      ...  \n",
       "95       13\n",
       "96       10\n",
       "98       10\n",
       "2         8\n",
       "97        5\n",
       "Name: OffAge, Length: 100, dtype: int64"
      ]
     },
     "execution_count": 70,
     "metadata": {},
     "output_type": "execute_result"
    }
   ],
   "source": [
    "shr.OffAge.value_counts()"
   ]
  },
  {
   "cell_type": "code",
   "execution_count": 71,
   "metadata": {},
   "outputs": [
    {
     "data": {
      "text/plain": [
       "(552348, 31)"
      ]
     },
     "execution_count": 71,
     "metadata": {},
     "output_type": "execute_result"
    }
   ],
   "source": [
    "shr.shape"
   ]
  },
  {
   "cell_type": "code",
   "execution_count": 72,
   "metadata": {},
   "outputs": [
    {
     "data": {
      "text/plain": [
       "ID                   0\n",
       "CNTYFIPS             0\n",
       "Ori                  0\n",
       "State                0\n",
       "Agency               0\n",
       "Agentype             0\n",
       "Source               0\n",
       "Solved               0\n",
       "Year                 0\n",
       "StateName       537774\n",
       "Month                0\n",
       "Incident             0\n",
       "ActionType           0\n",
       "Homicide             0\n",
       "Situation            0\n",
       "VicAge               0\n",
       "VicSex               0\n",
       "VicRace              0\n",
       "VicEthnic            0\n",
       "OffAge               0\n",
       "OffSex               0\n",
       "OffRace              0\n",
       "OffEthnic            0\n",
       "Weapon               0\n",
       "Relationship         0\n",
       "Circumstance         0\n",
       "Subcircum       524895\n",
       "VicCount             0\n",
       "OffCount             0\n",
       "FileDate          2075\n",
       "MSA                  0\n",
       "dtype: int64"
      ]
     },
     "execution_count": 72,
     "metadata": {},
     "output_type": "execute_result"
    }
   ],
   "source": [
    "shr.isna().sum()"
   ]
  },
  {
   "cell_type": "code",
   "execution_count": 73,
   "metadata": {},
   "outputs": [],
   "source": [
    "#will be dropping StateName, redundant info from State column\n",
    "\n",
    "shr.drop(columns='StateName', inplace = True)"
   ]
  },
  {
   "cell_type": "code",
   "execution_count": 74,
   "metadata": {},
   "outputs": [
    {
     "name": "stdout",
     "output_type": "stream",
     "text": [
      "<class 'pandas.core.frame.DataFrame'>\n",
      "Int64Index: 552348 entries, 1 to 827217\n",
      "Data columns (total 30 columns):\n",
      " #   Column        Non-Null Count   Dtype  \n",
      "---  ------        --------------   -----  \n",
      " 0   ID            552348 non-null  object \n",
      " 1   CNTYFIPS      552348 non-null  object \n",
      " 2   Ori           552348 non-null  object \n",
      " 3   State         552348 non-null  object \n",
      " 4   Agency        552348 non-null  object \n",
      " 5   Agentype      552348 non-null  object \n",
      " 6   Source        552348 non-null  object \n",
      " 7   Solved        552348 non-null  object \n",
      " 8   Year          552348 non-null  int64  \n",
      " 9   Month         552348 non-null  object \n",
      " 10  Incident      552348 non-null  int64  \n",
      " 11  ActionType    552348 non-null  object \n",
      " 12  Homicide      552348 non-null  object \n",
      " 13  Situation     552348 non-null  object \n",
      " 14  VicAge        552348 non-null  int64  \n",
      " 15  VicSex        552348 non-null  object \n",
      " 16  VicRace       552348 non-null  object \n",
      " 17  VicEthnic     552348 non-null  object \n",
      " 18  OffAge        552348 non-null  int64  \n",
      " 19  OffSex        552348 non-null  object \n",
      " 20  OffRace       552348 non-null  object \n",
      " 21  OffEthnic     552348 non-null  object \n",
      " 22  Weapon        552348 non-null  object \n",
      " 23  Relationship  552348 non-null  object \n",
      " 24  Circumstance  552348 non-null  object \n",
      " 25  Subcircum     27453 non-null   object \n",
      " 26  VicCount      552348 non-null  int64  \n",
      " 27  OffCount      552348 non-null  int64  \n",
      " 28  FileDate      550273 non-null  float64\n",
      " 29  MSA           552348 non-null  object \n",
      "dtypes: float64(1), int64(6), object(23)\n",
      "memory usage: 130.6+ MB\n"
     ]
    }
   ],
   "source": [
    "shr.info()"
   ]
  },
  {
   "cell_type": "code",
   "execution_count": 75,
   "metadata": {},
   "outputs": [
    {
     "data": {
      "text/plain": [
       "ID                   0\n",
       "CNTYFIPS             0\n",
       "Ori                  0\n",
       "State                0\n",
       "Agency               0\n",
       "Agentype             0\n",
       "Source               0\n",
       "Solved               0\n",
       "Year                 0\n",
       "Month                0\n",
       "Incident             0\n",
       "ActionType           0\n",
       "Homicide             0\n",
       "Situation            0\n",
       "VicAge               0\n",
       "VicSex               0\n",
       "VicRace              0\n",
       "VicEthnic            0\n",
       "OffAge               0\n",
       "OffSex               0\n",
       "OffRace              0\n",
       "OffEthnic            0\n",
       "Weapon               0\n",
       "Relationship         0\n",
       "Circumstance         0\n",
       "Subcircum       524895\n",
       "VicCount             0\n",
       "OffCount             0\n",
       "FileDate          2075\n",
       "MSA                  0\n",
       "dtype: int64"
      ]
     },
     "execution_count": 75,
     "metadata": {},
     "output_type": "execute_result"
    }
   ],
   "source": [
    "shr.isna().sum()"
   ]
  },
  {
   "cell_type": "code",
   "execution_count": 76,
   "metadata": {},
   "outputs": [],
   "source": [
    "#most files do not have a sub circumstance, will drop column instead of null rows\n",
    "shr.drop(columns='Subcircum', inplace = True)"
   ]
  },
  {
   "cell_type": "code",
   "execution_count": 77,
   "metadata": {},
   "outputs": [
    {
     "name": "stdout",
     "output_type": "stream",
     "text": [
      "<class 'pandas.core.frame.DataFrame'>\n",
      "Int64Index: 552348 entries, 1 to 827217\n",
      "Data columns (total 29 columns):\n",
      " #   Column        Non-Null Count   Dtype  \n",
      "---  ------        --------------   -----  \n",
      " 0   ID            552348 non-null  object \n",
      " 1   CNTYFIPS      552348 non-null  object \n",
      " 2   Ori           552348 non-null  object \n",
      " 3   State         552348 non-null  object \n",
      " 4   Agency        552348 non-null  object \n",
      " 5   Agentype      552348 non-null  object \n",
      " 6   Source        552348 non-null  object \n",
      " 7   Solved        552348 non-null  object \n",
      " 8   Year          552348 non-null  int64  \n",
      " 9   Month         552348 non-null  object \n",
      " 10  Incident      552348 non-null  int64  \n",
      " 11  ActionType    552348 non-null  object \n",
      " 12  Homicide      552348 non-null  object \n",
      " 13  Situation     552348 non-null  object \n",
      " 14  VicAge        552348 non-null  int64  \n",
      " 15  VicSex        552348 non-null  object \n",
      " 16  VicRace       552348 non-null  object \n",
      " 17  VicEthnic     552348 non-null  object \n",
      " 18  OffAge        552348 non-null  int64  \n",
      " 19  OffSex        552348 non-null  object \n",
      " 20  OffRace       552348 non-null  object \n",
      " 21  OffEthnic     552348 non-null  object \n",
      " 22  Weapon        552348 non-null  object \n",
      " 23  Relationship  552348 non-null  object \n",
      " 24  Circumstance  552348 non-null  object \n",
      " 25  VicCount      552348 non-null  int64  \n",
      " 26  OffCount      552348 non-null  int64  \n",
      " 27  FileDate      550273 non-null  float64\n",
      " 28  MSA           552348 non-null  object \n",
      "dtypes: float64(1), int64(6), object(22)\n",
      "memory usage: 126.4+ MB\n"
     ]
    }
   ],
   "source": [
    "shr.info()"
   ]
  },
  {
   "cell_type": "code",
   "execution_count": 78,
   "metadata": {},
   "outputs": [
    {
     "data": {
      "text/plain": [
       "30180.0     57427\n",
       "83121.0     12795\n",
       "43020.0     10457\n",
       "93019.0     10423\n",
       "70618.0      4539\n",
       "            ...  \n",
       "102315.0        1\n",
       "102391.0        1\n",
       "102606.0        1\n",
       "71284.0         1\n",
       "32718.0         1\n",
       "Name: FileDate, Length: 5488, dtype: int64"
      ]
     },
     "execution_count": 78,
     "metadata": {},
     "output_type": "execute_result"
    }
   ],
   "source": [
    "shr.FileDate.value_counts()"
   ]
  },
  {
   "cell_type": "code",
   "execution_count": 79,
   "metadata": {},
   "outputs": [],
   "source": [
    "#contains year the report was made, year of homocide or recovery is already given so will drop this column too\n",
    "shr.drop(columns='FileDate', inplace = True)"
   ]
  },
  {
   "cell_type": "code",
   "execution_count": 80,
   "metadata": {},
   "outputs": [
    {
     "data": {
      "text/plain": [
       "ID              0\n",
       "CNTYFIPS        0\n",
       "Ori             0\n",
       "State           0\n",
       "Agency          0\n",
       "Agentype        0\n",
       "Source          0\n",
       "Solved          0\n",
       "Year            0\n",
       "Month           0\n",
       "Incident        0\n",
       "ActionType      0\n",
       "Homicide        0\n",
       "Situation       0\n",
       "VicAge          0\n",
       "VicSex          0\n",
       "VicRace         0\n",
       "VicEthnic       0\n",
       "OffAge          0\n",
       "OffSex          0\n",
       "OffRace         0\n",
       "OffEthnic       0\n",
       "Weapon          0\n",
       "Relationship    0\n",
       "Circumstance    0\n",
       "VicCount        0\n",
       "OffCount        0\n",
       "MSA             0\n",
       "dtype: int64"
      ]
     },
     "execution_count": 80,
     "metadata": {},
     "output_type": "execute_result"
    }
   ],
   "source": [
    "shr.isna().sum()\n",
    "# all null values dealt with"
   ]
  },
  {
   "cell_type": "code",
   "execution_count": 81,
   "metadata": {},
   "outputs": [
    {
     "data": {
      "text/html": [
       "<div>\n",
       "<style scoped>\n",
       "    .dataframe tbody tr th:only-of-type {\n",
       "        vertical-align: middle;\n",
       "    }\n",
       "\n",
       "    .dataframe tbody tr th {\n",
       "        vertical-align: top;\n",
       "    }\n",
       "\n",
       "    .dataframe thead th {\n",
       "        text-align: right;\n",
       "    }\n",
       "</style>\n",
       "<table border=\"1\" class=\"dataframe\">\n",
       "  <thead>\n",
       "    <tr style=\"text-align: right;\">\n",
       "      <th></th>\n",
       "      <th>ID</th>\n",
       "      <th>CNTYFIPS</th>\n",
       "      <th>Ori</th>\n",
       "      <th>State</th>\n",
       "      <th>Agency</th>\n",
       "      <th>Agentype</th>\n",
       "      <th>Source</th>\n",
       "      <th>Solved</th>\n",
       "      <th>Year</th>\n",
       "      <th>Month</th>\n",
       "      <th>...</th>\n",
       "      <th>OffAge</th>\n",
       "      <th>OffSex</th>\n",
       "      <th>OffRace</th>\n",
       "      <th>OffEthnic</th>\n",
       "      <th>Weapon</th>\n",
       "      <th>Relationship</th>\n",
       "      <th>Circumstance</th>\n",
       "      <th>VicCount</th>\n",
       "      <th>OffCount</th>\n",
       "      <th>MSA</th>\n",
       "    </tr>\n",
       "  </thead>\n",
       "  <tbody>\n",
       "    <tr>\n",
       "      <th>1</th>\n",
       "      <td>197701001AL00400</td>\n",
       "      <td>Autauga, AL</td>\n",
       "      <td>AL00400</td>\n",
       "      <td>Alabama</td>\n",
       "      <td>Autauga County</td>\n",
       "      <td>Sheriff</td>\n",
       "      <td>FBI</td>\n",
       "      <td>Yes</td>\n",
       "      <td>1977</td>\n",
       "      <td>January</td>\n",
       "      <td>...</td>\n",
       "      <td>62</td>\n",
       "      <td>Male</td>\n",
       "      <td>Black</td>\n",
       "      <td>Unknown or not reported</td>\n",
       "      <td>Other or type unknown</td>\n",
       "      <td>Acquaintance</td>\n",
       "      <td>Brawl due to influence of alcohol</td>\n",
       "      <td>0</td>\n",
       "      <td>0</td>\n",
       "      <td>Montgomery, AL</td>\n",
       "    </tr>\n",
       "    <tr>\n",
       "      <th>2</th>\n",
       "      <td>197703001AL00400</td>\n",
       "      <td>Autauga, AL</td>\n",
       "      <td>AL00400</td>\n",
       "      <td>Alabama</td>\n",
       "      <td>Autauga County</td>\n",
       "      <td>Sheriff</td>\n",
       "      <td>FBI</td>\n",
       "      <td>Yes</td>\n",
       "      <td>1977</td>\n",
       "      <td>March</td>\n",
       "      <td>...</td>\n",
       "      <td>52</td>\n",
       "      <td>Male</td>\n",
       "      <td>White</td>\n",
       "      <td>Unknown or not reported</td>\n",
       "      <td>Handgun - pistol, revolver, etc</td>\n",
       "      <td>Acquaintance</td>\n",
       "      <td>Other arguments</td>\n",
       "      <td>0</td>\n",
       "      <td>1</td>\n",
       "      <td>Montgomery, AL</td>\n",
       "    </tr>\n",
       "    <tr>\n",
       "      <th>3</th>\n",
       "      <td>197703001AL00401</td>\n",
       "      <td>Autauga, AL</td>\n",
       "      <td>AL00401</td>\n",
       "      <td>Alabama</td>\n",
       "      <td>Prattville</td>\n",
       "      <td>Municipal police</td>\n",
       "      <td>FBI</td>\n",
       "      <td>Yes</td>\n",
       "      <td>1977</td>\n",
       "      <td>March</td>\n",
       "      <td>...</td>\n",
       "      <td>22</td>\n",
       "      <td>Female</td>\n",
       "      <td>Black</td>\n",
       "      <td>Unknown or not reported</td>\n",
       "      <td>Shotgun</td>\n",
       "      <td>Husband</td>\n",
       "      <td>Other arguments</td>\n",
       "      <td>0</td>\n",
       "      <td>0</td>\n",
       "      <td>Montgomery, AL</td>\n",
       "    </tr>\n",
       "    <tr>\n",
       "      <th>4</th>\n",
       "      <td>197708001AL00400</td>\n",
       "      <td>Autauga, AL</td>\n",
       "      <td>AL00400</td>\n",
       "      <td>Alabama</td>\n",
       "      <td>Autauga County</td>\n",
       "      <td>Sheriff</td>\n",
       "      <td>FBI</td>\n",
       "      <td>Yes</td>\n",
       "      <td>1977</td>\n",
       "      <td>August</td>\n",
       "      <td>...</td>\n",
       "      <td>21</td>\n",
       "      <td>Male</td>\n",
       "      <td>Black</td>\n",
       "      <td>Unknown or not reported</td>\n",
       "      <td>Knife or cutting instrument</td>\n",
       "      <td>Acquaintance</td>\n",
       "      <td>Circumstances undetermined</td>\n",
       "      <td>0</td>\n",
       "      <td>0</td>\n",
       "      <td>Montgomery, AL</td>\n",
       "    </tr>\n",
       "    <tr>\n",
       "      <th>5</th>\n",
       "      <td>197710001AL00400</td>\n",
       "      <td>Autauga, AL</td>\n",
       "      <td>AL00400</td>\n",
       "      <td>Alabama</td>\n",
       "      <td>Autauga County</td>\n",
       "      <td>Sheriff</td>\n",
       "      <td>FBI</td>\n",
       "      <td>Yes</td>\n",
       "      <td>1977</td>\n",
       "      <td>October</td>\n",
       "      <td>...</td>\n",
       "      <td>80</td>\n",
       "      <td>Male</td>\n",
       "      <td>Black</td>\n",
       "      <td>Unknown or not reported</td>\n",
       "      <td>Shotgun</td>\n",
       "      <td>Stranger</td>\n",
       "      <td>Robbery</td>\n",
       "      <td>0</td>\n",
       "      <td>0</td>\n",
       "      <td>Montgomery, AL</td>\n",
       "    </tr>\n",
       "  </tbody>\n",
       "</table>\n",
       "<p>5 rows × 28 columns</p>\n",
       "</div>"
      ],
      "text/plain": [
       "                 ID     CNTYFIPS      Ori    State          Agency  \\\n",
       "1  197701001AL00400  Autauga, AL  AL00400  Alabama  Autauga County   \n",
       "2  197703001AL00400  Autauga, AL  AL00400  Alabama  Autauga County   \n",
       "3  197703001AL00401  Autauga, AL  AL00401  Alabama      Prattville   \n",
       "4  197708001AL00400  Autauga, AL  AL00400  Alabama  Autauga County   \n",
       "5  197710001AL00400  Autauga, AL  AL00400  Alabama  Autauga County   \n",
       "\n",
       "           Agentype Source Solved  Year    Month  ...  OffAge  OffSex OffRace  \\\n",
       "1           Sheriff    FBI    Yes  1977  January  ...      62    Male   Black   \n",
       "2           Sheriff    FBI    Yes  1977    March  ...      52    Male   White   \n",
       "3  Municipal police    FBI    Yes  1977    March  ...      22  Female   Black   \n",
       "4           Sheriff    FBI    Yes  1977   August  ...      21    Male   Black   \n",
       "5           Sheriff    FBI    Yes  1977  October  ...      80    Male   Black   \n",
       "\n",
       "                 OffEthnic                           Weapon  Relationship  \\\n",
       "1  Unknown or not reported            Other or type unknown  Acquaintance   \n",
       "2  Unknown or not reported  Handgun - pistol, revolver, etc  Acquaintance   \n",
       "3  Unknown or not reported                          Shotgun       Husband   \n",
       "4  Unknown or not reported      Knife or cutting instrument  Acquaintance   \n",
       "5  Unknown or not reported                          Shotgun      Stranger   \n",
       "\n",
       "                        Circumstance VicCount  OffCount             MSA  \n",
       "1  Brawl due to influence of alcohol        0         0  Montgomery, AL  \n",
       "2                    Other arguments        0         1  Montgomery, AL  \n",
       "3                    Other arguments        0         0  Montgomery, AL  \n",
       "4         Circumstances undetermined        0         0  Montgomery, AL  \n",
       "5                            Robbery        0         0  Montgomery, AL  \n",
       "\n",
       "[5 rows x 28 columns]"
      ]
     },
     "execution_count": 81,
     "metadata": {},
     "output_type": "execute_result"
    }
   ],
   "source": [
    "shr.head()\n",
    "# I am only concerned about Dallas Country which is in Texas so i will filter records for only this state"
   ]
  },
  {
   "cell_type": "code",
   "execution_count": 150,
   "metadata": {},
   "outputs": [
    {
     "data": {
      "text/plain": [
       "California              75842\n",
       "Texas                   56847\n",
       "Florida                 32615\n",
       "New York                29236\n",
       "Michigan                22496\n",
       "Illinois                21766\n",
       "Pennsylvania            20540\n",
       "North Carolina          19817\n",
       "Georgia                 19162\n",
       "Ohio                    18014\n",
       "Louisiana               16036\n",
       "Virginia                15829\n",
       "Tennessee               15616\n",
       "South Carolina          13982\n",
       "Missouri                12662\n",
       "Maryland                11847\n",
       "Alabama                 11779\n",
       "New Jersey              11260\n",
       "Arizona                 10663\n",
       "Oklahoma                 9521\n",
       "Indiana                  9411\n",
       "Washington               7775\n",
       "Arkansas                 7606\n",
       "Kentucky                 7433\n",
       "Mississippi              6887\n",
       "Colorado                 6874\n",
       "Wisconsin                6798\n",
       "Nevada                   4954\n",
       "Massachusetts            4856\n",
       "Oregon                   4352\n",
       "Minnesota                4166\n",
       "New Mexico               4134\n",
       "Connecticut              3996\n",
       "West Virginia            3595\n",
       "Kansas                   3384\n",
       "District of Columbia     2804\n",
       "Utah                     2297\n",
       "Iowa                     2122\n",
       "Alaska                   1827\n",
       "Nebraska                 1504\n",
       "Idaho                    1452\n",
       "Hawaii                   1402\n",
       "Delaware                 1202\n",
       "Maine                    1024\n",
       "Rhodes Island             993\n",
       "Montana                   897\n",
       "Wyoming                   758\n",
       "New Hampshire             742\n",
       "South Dakota              633\n",
       "Vermont                   473\n",
       "North Dakota              466\n",
       "PAPSP8                      1\n",
       "Name: State, dtype: int64"
      ]
     },
     "execution_count": 150,
     "metadata": {},
     "output_type": "execute_result"
    }
   ],
   "source": [
    "shr.State.value_counts()"
   ]
  },
  {
   "cell_type": "code",
   "execution_count": 309,
   "metadata": {},
   "outputs": [],
   "source": [
    "shr_texas = shr[shr.State == 'Texas']"
   ]
  },
  {
   "cell_type": "code",
   "execution_count": 310,
   "metadata": {},
   "outputs": [
    {
     "data": {
      "text/plain": [
       "(56847, 28)"
      ]
     },
     "execution_count": 310,
     "metadata": {},
     "output_type": "execute_result"
    }
   ],
   "source": [
    "shr_texas.shape"
   ]
  },
  {
   "cell_type": "code",
   "execution_count": 311,
   "metadata": {},
   "outputs": [
    {
     "name": "stdout",
     "output_type": "stream",
     "text": [
      "<class 'pandas.core.frame.DataFrame'>\n",
      "Int64Index: 56847 entries, 700892 to 780257\n",
      "Data columns (total 28 columns):\n",
      " #   Column        Non-Null Count  Dtype \n",
      "---  ------        --------------  ----- \n",
      " 0   ID            56847 non-null  object\n",
      " 1   CNTYFIPS      56847 non-null  object\n",
      " 2   Ori           56847 non-null  object\n",
      " 3   State         56847 non-null  object\n",
      " 4   Agency        56847 non-null  object\n",
      " 5   Agentype      56847 non-null  object\n",
      " 6   Source        56847 non-null  object\n",
      " 7   Solved        56847 non-null  object\n",
      " 8   Year          56847 non-null  int64 \n",
      " 9   Month         56847 non-null  object\n",
      " 10  Incident      56847 non-null  int64 \n",
      " 11  ActionType    56847 non-null  object\n",
      " 12  Homicide      56847 non-null  object\n",
      " 13  Situation     56847 non-null  object\n",
      " 14  VicAge        56847 non-null  int64 \n",
      " 15  VicSex        56847 non-null  object\n",
      " 16  VicRace       56847 non-null  object\n",
      " 17  VicEthnic     56847 non-null  object\n",
      " 18  OffAge        56847 non-null  int64 \n",
      " 19  OffSex        56847 non-null  object\n",
      " 20  OffRace       56847 non-null  object\n",
      " 21  OffEthnic     56847 non-null  object\n",
      " 22  Weapon        56847 non-null  object\n",
      " 23  Relationship  56847 non-null  object\n",
      " 24  Circumstance  56847 non-null  object\n",
      " 25  VicCount      56847 non-null  int64 \n",
      " 26  OffCount      56847 non-null  int64 \n",
      " 27  MSA           56847 non-null  object\n",
      "dtypes: int64(6), object(22)\n",
      "memory usage: 12.6+ MB\n"
     ]
    }
   ],
   "source": [
    "shr_texas.info()"
   ]
  },
  {
   "cell_type": "code",
   "execution_count": 312,
   "metadata": {},
   "outputs": [],
   "source": [
    "#more data cleaning, looking at victim and offender specific data\n",
    "\n",
    "relvant_columns = ['Solved',\n",
    "                   'Year',\n",
    "                   #'Month',\n",
    "                   'Homicide', \n",
    "                   'Situation', \n",
    "                   'VicAge', \n",
    "                   'VicSex',\n",
    "                   'VicRace',\n",
    "                   'VicEthnic', \n",
    "                   'OffAge', \n",
    "                   'OffSex',\n",
    "                   'OffRace',\n",
    "                   'OffEthnic',\n",
    "                   'Weapon', \n",
    "                   'Relationship'\n",
    "                   ]\n",
    "shr_texas = shr_texas[relvant_columns]"
   ]
  },
  {
   "cell_type": "code",
   "execution_count": 313,
   "metadata": {},
   "outputs": [
    {
     "data": {
      "text/html": [
       "<div>\n",
       "<style scoped>\n",
       "    .dataframe tbody tr th:only-of-type {\n",
       "        vertical-align: middle;\n",
       "    }\n",
       "\n",
       "    .dataframe tbody tr th {\n",
       "        vertical-align: top;\n",
       "    }\n",
       "\n",
       "    .dataframe thead th {\n",
       "        text-align: right;\n",
       "    }\n",
       "</style>\n",
       "<table border=\"1\" class=\"dataframe\">\n",
       "  <thead>\n",
       "    <tr style=\"text-align: right;\">\n",
       "      <th></th>\n",
       "      <th>Solved</th>\n",
       "      <th>Year</th>\n",
       "      <th>Homicide</th>\n",
       "      <th>Situation</th>\n",
       "      <th>VicAge</th>\n",
       "      <th>VicSex</th>\n",
       "      <th>VicRace</th>\n",
       "      <th>VicEthnic</th>\n",
       "      <th>OffAge</th>\n",
       "      <th>OffSex</th>\n",
       "      <th>OffRace</th>\n",
       "      <th>OffEthnic</th>\n",
       "      <th>Weapon</th>\n",
       "      <th>Relationship</th>\n",
       "    </tr>\n",
       "  </thead>\n",
       "  <tbody>\n",
       "    <tr>\n",
       "      <th>700892</th>\n",
       "      <td>Yes</td>\n",
       "      <td>1976</td>\n",
       "      <td>Murder and non-negligent manslaughter</td>\n",
       "      <td>Single victim/single offender</td>\n",
       "      <td>27</td>\n",
       "      <td>Male</td>\n",
       "      <td>Black</td>\n",
       "      <td>Unknown or not reported</td>\n",
       "      <td>26</td>\n",
       "      <td>Male</td>\n",
       "      <td>Black</td>\n",
       "      <td>Unknown or not reported</td>\n",
       "      <td>Shotgun</td>\n",
       "      <td>Acquaintance</td>\n",
       "    </tr>\n",
       "    <tr>\n",
       "      <th>700893</th>\n",
       "      <td>Yes</td>\n",
       "      <td>1976</td>\n",
       "      <td>Murder and non-negligent manslaughter</td>\n",
       "      <td>Single victim/single offender</td>\n",
       "      <td>24</td>\n",
       "      <td>Male</td>\n",
       "      <td>Black</td>\n",
       "      <td>Unknown or not reported</td>\n",
       "      <td>22</td>\n",
       "      <td>Female</td>\n",
       "      <td>Black</td>\n",
       "      <td>Unknown or not reported</td>\n",
       "      <td>Rifle</td>\n",
       "      <td>Husband</td>\n",
       "    </tr>\n",
       "    <tr>\n",
       "      <th>700894</th>\n",
       "      <td>Yes</td>\n",
       "      <td>1976</td>\n",
       "      <td>Murder and non-negligent manslaughter</td>\n",
       "      <td>Single victim/single offender</td>\n",
       "      <td>20</td>\n",
       "      <td>Female</td>\n",
       "      <td>White</td>\n",
       "      <td>Unknown or not reported</td>\n",
       "      <td>20</td>\n",
       "      <td>Male</td>\n",
       "      <td>White</td>\n",
       "      <td>Unknown or not reported</td>\n",
       "      <td>Rifle</td>\n",
       "      <td>Wife</td>\n",
       "    </tr>\n",
       "    <tr>\n",
       "      <th>700895</th>\n",
       "      <td>Yes</td>\n",
       "      <td>1977</td>\n",
       "      <td>Murder and non-negligent manslaughter</td>\n",
       "      <td>Single victim/single offender</td>\n",
       "      <td>43</td>\n",
       "      <td>Female</td>\n",
       "      <td>Black</td>\n",
       "      <td>Unknown or not reported</td>\n",
       "      <td>34</td>\n",
       "      <td>Male</td>\n",
       "      <td>Black</td>\n",
       "      <td>Unknown or not reported</td>\n",
       "      <td>Handgun - pistol, revolver, etc</td>\n",
       "      <td>Wife</td>\n",
       "    </tr>\n",
       "    <tr>\n",
       "      <th>700896</th>\n",
       "      <td>Yes</td>\n",
       "      <td>1977</td>\n",
       "      <td>Murder and non-negligent manslaughter</td>\n",
       "      <td>Single victim/single offender</td>\n",
       "      <td>24</td>\n",
       "      <td>Female</td>\n",
       "      <td>White</td>\n",
       "      <td>Unknown or not reported</td>\n",
       "      <td>32</td>\n",
       "      <td>Male</td>\n",
       "      <td>White</td>\n",
       "      <td>Unknown or not reported</td>\n",
       "      <td>Handgun - pistol, revolver, etc</td>\n",
       "      <td>Wife</td>\n",
       "    </tr>\n",
       "  </tbody>\n",
       "</table>\n",
       "</div>"
      ],
      "text/plain": [
       "       Solved  Year                               Homicide  \\\n",
       "700892    Yes  1976  Murder and non-negligent manslaughter   \n",
       "700893    Yes  1976  Murder and non-negligent manslaughter   \n",
       "700894    Yes  1976  Murder and non-negligent manslaughter   \n",
       "700895    Yes  1977  Murder and non-negligent manslaughter   \n",
       "700896    Yes  1977  Murder and non-negligent manslaughter   \n",
       "\n",
       "                            Situation  VicAge  VicSex VicRace  \\\n",
       "700892  Single victim/single offender      27    Male   Black   \n",
       "700893  Single victim/single offender      24    Male   Black   \n",
       "700894  Single victim/single offender      20  Female   White   \n",
       "700895  Single victim/single offender      43  Female   Black   \n",
       "700896  Single victim/single offender      24  Female   White   \n",
       "\n",
       "                      VicEthnic  OffAge  OffSex OffRace  \\\n",
       "700892  Unknown or not reported      26    Male   Black   \n",
       "700893  Unknown or not reported      22  Female   Black   \n",
       "700894  Unknown or not reported      20    Male   White   \n",
       "700895  Unknown or not reported      34    Male   Black   \n",
       "700896  Unknown or not reported      32    Male   White   \n",
       "\n",
       "                      OffEthnic                           Weapon  Relationship  \n",
       "700892  Unknown or not reported                          Shotgun  Acquaintance  \n",
       "700893  Unknown or not reported                            Rifle       Husband  \n",
       "700894  Unknown or not reported                            Rifle          Wife  \n",
       "700895  Unknown or not reported  Handgun - pistol, revolver, etc          Wife  \n",
       "700896  Unknown or not reported  Handgun - pistol, revolver, etc          Wife  "
      ]
     },
     "execution_count": 313,
     "metadata": {},
     "output_type": "execute_result"
    }
   ],
   "source": [
    "shr_texas.head()"
   ]
  },
  {
   "cell_type": "code",
   "execution_count": 314,
   "metadata": {},
   "outputs": [
    {
     "data": {
      "text/plain": [
       "(56847, 14)"
      ]
     },
     "execution_count": 314,
     "metadata": {},
     "output_type": "execute_result"
    }
   ],
   "source": [
    "shr_texas.shape"
   ]
  },
  {
   "cell_type": "code",
   "execution_count": 315,
   "metadata": {
    "scrolled": true
   },
   "outputs": [
    {
     "data": {
      "text/plain": [
       "Yes    56718\n",
       "No       129\n",
       "Name: Solved, dtype: int64"
      ]
     },
     "execution_count": 315,
     "metadata": {},
     "output_type": "execute_result"
    }
   ],
   "source": [
    "shr_texas.Solved.value_counts()"
   ]
  },
  {
   "cell_type": "code",
   "execution_count": 316,
   "metadata": {},
   "outputs": [],
   "source": [
    "shr_texas.Solved = shr_texas.Solved.apply(lambda x: 1 if x == 'Yes' else 0)"
   ]
  },
  {
   "cell_type": "code",
   "execution_count": 317,
   "metadata": {},
   "outputs": [
    {
     "data": {
      "text/html": [
       "<div>\n",
       "<style scoped>\n",
       "    .dataframe tbody tr th:only-of-type {\n",
       "        vertical-align: middle;\n",
       "    }\n",
       "\n",
       "    .dataframe tbody tr th {\n",
       "        vertical-align: top;\n",
       "    }\n",
       "\n",
       "    .dataframe thead th {\n",
       "        text-align: right;\n",
       "    }\n",
       "</style>\n",
       "<table border=\"1\" class=\"dataframe\">\n",
       "  <thead>\n",
       "    <tr style=\"text-align: right;\">\n",
       "      <th></th>\n",
       "      <th>Solved</th>\n",
       "      <th>Year</th>\n",
       "      <th>Homicide</th>\n",
       "      <th>Situation</th>\n",
       "      <th>VicAge</th>\n",
       "      <th>VicSex</th>\n",
       "      <th>VicRace</th>\n",
       "      <th>VicEthnic</th>\n",
       "      <th>OffAge</th>\n",
       "      <th>OffSex</th>\n",
       "      <th>OffRace</th>\n",
       "      <th>OffEthnic</th>\n",
       "      <th>Weapon</th>\n",
       "      <th>Relationship</th>\n",
       "    </tr>\n",
       "  </thead>\n",
       "  <tbody>\n",
       "    <tr>\n",
       "      <th>700892</th>\n",
       "      <td>1</td>\n",
       "      <td>1976</td>\n",
       "      <td>Murder and non-negligent manslaughter</td>\n",
       "      <td>Single victim/single offender</td>\n",
       "      <td>27</td>\n",
       "      <td>Male</td>\n",
       "      <td>Black</td>\n",
       "      <td>Unknown or not reported</td>\n",
       "      <td>26</td>\n",
       "      <td>Male</td>\n",
       "      <td>Black</td>\n",
       "      <td>Unknown or not reported</td>\n",
       "      <td>Shotgun</td>\n",
       "      <td>Acquaintance</td>\n",
       "    </tr>\n",
       "    <tr>\n",
       "      <th>700893</th>\n",
       "      <td>1</td>\n",
       "      <td>1976</td>\n",
       "      <td>Murder and non-negligent manslaughter</td>\n",
       "      <td>Single victim/single offender</td>\n",
       "      <td>24</td>\n",
       "      <td>Male</td>\n",
       "      <td>Black</td>\n",
       "      <td>Unknown or not reported</td>\n",
       "      <td>22</td>\n",
       "      <td>Female</td>\n",
       "      <td>Black</td>\n",
       "      <td>Unknown or not reported</td>\n",
       "      <td>Rifle</td>\n",
       "      <td>Husband</td>\n",
       "    </tr>\n",
       "    <tr>\n",
       "      <th>700894</th>\n",
       "      <td>1</td>\n",
       "      <td>1976</td>\n",
       "      <td>Murder and non-negligent manslaughter</td>\n",
       "      <td>Single victim/single offender</td>\n",
       "      <td>20</td>\n",
       "      <td>Female</td>\n",
       "      <td>White</td>\n",
       "      <td>Unknown or not reported</td>\n",
       "      <td>20</td>\n",
       "      <td>Male</td>\n",
       "      <td>White</td>\n",
       "      <td>Unknown or not reported</td>\n",
       "      <td>Rifle</td>\n",
       "      <td>Wife</td>\n",
       "    </tr>\n",
       "    <tr>\n",
       "      <th>700895</th>\n",
       "      <td>1</td>\n",
       "      <td>1977</td>\n",
       "      <td>Murder and non-negligent manslaughter</td>\n",
       "      <td>Single victim/single offender</td>\n",
       "      <td>43</td>\n",
       "      <td>Female</td>\n",
       "      <td>Black</td>\n",
       "      <td>Unknown or not reported</td>\n",
       "      <td>34</td>\n",
       "      <td>Male</td>\n",
       "      <td>Black</td>\n",
       "      <td>Unknown or not reported</td>\n",
       "      <td>Handgun - pistol, revolver, etc</td>\n",
       "      <td>Wife</td>\n",
       "    </tr>\n",
       "    <tr>\n",
       "      <th>700896</th>\n",
       "      <td>1</td>\n",
       "      <td>1977</td>\n",
       "      <td>Murder and non-negligent manslaughter</td>\n",
       "      <td>Single victim/single offender</td>\n",
       "      <td>24</td>\n",
       "      <td>Female</td>\n",
       "      <td>White</td>\n",
       "      <td>Unknown or not reported</td>\n",
       "      <td>32</td>\n",
       "      <td>Male</td>\n",
       "      <td>White</td>\n",
       "      <td>Unknown or not reported</td>\n",
       "      <td>Handgun - pistol, revolver, etc</td>\n",
       "      <td>Wife</td>\n",
       "    </tr>\n",
       "  </tbody>\n",
       "</table>\n",
       "</div>"
      ],
      "text/plain": [
       "        Solved  Year                               Homicide  \\\n",
       "700892       1  1976  Murder and non-negligent manslaughter   \n",
       "700893       1  1976  Murder and non-negligent manslaughter   \n",
       "700894       1  1976  Murder and non-negligent manslaughter   \n",
       "700895       1  1977  Murder and non-negligent manslaughter   \n",
       "700896       1  1977  Murder and non-negligent manslaughter   \n",
       "\n",
       "                            Situation  VicAge  VicSex VicRace  \\\n",
       "700892  Single victim/single offender      27    Male   Black   \n",
       "700893  Single victim/single offender      24    Male   Black   \n",
       "700894  Single victim/single offender      20  Female   White   \n",
       "700895  Single victim/single offender      43  Female   Black   \n",
       "700896  Single victim/single offender      24  Female   White   \n",
       "\n",
       "                      VicEthnic  OffAge  OffSex OffRace  \\\n",
       "700892  Unknown or not reported      26    Male   Black   \n",
       "700893  Unknown or not reported      22  Female   Black   \n",
       "700894  Unknown or not reported      20    Male   White   \n",
       "700895  Unknown or not reported      34    Male   Black   \n",
       "700896  Unknown or not reported      32    Male   White   \n",
       "\n",
       "                      OffEthnic                           Weapon  Relationship  \n",
       "700892  Unknown or not reported                          Shotgun  Acquaintance  \n",
       "700893  Unknown or not reported                            Rifle       Husband  \n",
       "700894  Unknown or not reported                            Rifle          Wife  \n",
       "700895  Unknown or not reported  Handgun - pistol, revolver, etc          Wife  \n",
       "700896  Unknown or not reported  Handgun - pistol, revolver, etc          Wife  "
      ]
     },
     "execution_count": 317,
     "metadata": {},
     "output_type": "execute_result"
    }
   ],
   "source": [
    "shr_texas.head()"
   ]
  },
  {
   "cell_type": "code",
   "execution_count": 318,
   "metadata": {},
   "outputs": [
    {
     "name": "stdout",
     "output_type": "stream",
     "text": [
      "<class 'pandas.core.frame.DataFrame'>\n",
      "Int64Index: 56847 entries, 700892 to 780257\n",
      "Data columns (total 14 columns):\n",
      " #   Column        Non-Null Count  Dtype \n",
      "---  ------        --------------  ----- \n",
      " 0   Solved        56847 non-null  int64 \n",
      " 1   Year          56847 non-null  int64 \n",
      " 2   Homicide      56847 non-null  object\n",
      " 3   Situation     56847 non-null  object\n",
      " 4   VicAge        56847 non-null  int64 \n",
      " 5   VicSex        56847 non-null  object\n",
      " 6   VicRace       56847 non-null  object\n",
      " 7   VicEthnic     56847 non-null  object\n",
      " 8   OffAge        56847 non-null  int64 \n",
      " 9   OffSex        56847 non-null  object\n",
      " 10  OffRace       56847 non-null  object\n",
      " 11  OffEthnic     56847 non-null  object\n",
      " 12  Weapon        56847 non-null  object\n",
      " 13  Relationship  56847 non-null  object\n",
      "dtypes: int64(4), object(10)\n",
      "memory usage: 6.5+ MB\n"
     ]
    }
   ],
   "source": [
    "shr_texas.info()"
   ]
  },
  {
   "cell_type": "code",
   "execution_count": 319,
   "metadata": {},
   "outputs": [
    {
     "data": {
      "text/plain": [
       "Handgun - pistol, revolver, etc         27991\n",
       "Knife or cutting instrument              9110\n",
       "Firearm, type not stated                 3926\n",
       "Shotgun                                  3893\n",
       "Personal weapons, includes beating       3379\n",
       "Rifle                                    2997\n",
       "Blunt object - hammer, club, etc         2170\n",
       "Other or type unknown                    2029\n",
       "Strangulation - hanging                   472\n",
       "Asphyxiation - includes death by gas      303\n",
       "Fire                                      238\n",
       "Drowning                                  120\n",
       "Narcotics or drugs, sleeping pills         88\n",
       "Other gun                                  73\n",
       "Poison - does not include gas              32\n",
       "Explosives                                 15\n",
       "Pushed or thrown out window                11\n",
       "Name: Weapon, dtype: int64"
      ]
     },
     "execution_count": 319,
     "metadata": {},
     "output_type": "execute_result"
    }
   ],
   "source": [
    "shr_texas.Weapon.value_counts()"
   ]
  },
  {
   "cell_type": "code",
   "execution_count": 320,
   "metadata": {},
   "outputs": [],
   "source": [
    "shr_texas['Weapon_Type'] = shr_texas.Weapon.map({'Handgun - pistol, revolver, etc':'Firearm',\n",
    "                                                 'Firearm, type not stated': 'Firearm', \n",
    "                                                 'Shotgun': 'Firearm',\n",
    "                                                 'Rifle': 'Firearm',\n",
    "                                                 'Other gun': 'Firearm',\n",
    "                                                 'Knife or cutting instrument': 'Stabbing', \n",
    "                                                 'Personal weapons, includes beating': 'Blunt Force Trauma',\n",
    "                                                 'Blunt object - hammer, club, etc': 'Blunt Force Trauma',\n",
    "                                                 'Other or type unknown': 'Other', \n",
    "                                                 'Strangulation - hanging': 'Strangle or Asphyx',\n",
    "                                                 'Asphyxiation - includes death by gas':'Strangle or Asphyx',\n",
    "                                                 'Fire': 'Other', \n",
    "                                                 'Drowning': 'Other',\n",
    "                                                 'Narcotics or drugs, sleeping pills': 'Other',\n",
    "                                                 'Poison - does not include gas': 'Other',\n",
    "                                                 'Explosives': 'Other',\n",
    "                                                 'Pushed or thrown out window': 'Blunt Force Trauma'\n",
    "                                                })"
   ]
  },
  {
   "cell_type": "code",
   "execution_count": 321,
   "metadata": {},
   "outputs": [
    {
     "data": {
      "text/plain": [
       "0"
      ]
     },
     "execution_count": 321,
     "metadata": {},
     "output_type": "execute_result"
    }
   ],
   "source": [
    "shr_texas.Weapon_Type.isna().sum()"
   ]
  },
  {
   "cell_type": "code",
   "execution_count": 244,
   "metadata": {},
   "outputs": [
    {
     "data": {
      "text/html": [
       "<div>\n",
       "<style scoped>\n",
       "    .dataframe tbody tr th:only-of-type {\n",
       "        vertical-align: middle;\n",
       "    }\n",
       "\n",
       "    .dataframe tbody tr th {\n",
       "        vertical-align: top;\n",
       "    }\n",
       "\n",
       "    .dataframe thead th {\n",
       "        text-align: right;\n",
       "    }\n",
       "</style>\n",
       "<table border=\"1\" class=\"dataframe\">\n",
       "  <thead>\n",
       "    <tr style=\"text-align: right;\">\n",
       "      <th></th>\n",
       "      <th>Solved</th>\n",
       "      <th>Year</th>\n",
       "      <th>Homicide</th>\n",
       "      <th>Situation</th>\n",
       "      <th>VicAge</th>\n",
       "      <th>VicSex</th>\n",
       "      <th>VicRace</th>\n",
       "      <th>VicEthnic</th>\n",
       "      <th>OffAge</th>\n",
       "      <th>OffSex</th>\n",
       "      <th>OffRace</th>\n",
       "      <th>OffEthnic</th>\n",
       "      <th>Weapon</th>\n",
       "      <th>Relationship</th>\n",
       "      <th>Weapon_Type</th>\n",
       "    </tr>\n",
       "  </thead>\n",
       "  <tbody>\n",
       "    <tr>\n",
       "      <th>700892</th>\n",
       "      <td>1</td>\n",
       "      <td>1976</td>\n",
       "      <td>Murder and non-negligent manslaughter</td>\n",
       "      <td>Single victim/single offender</td>\n",
       "      <td>27</td>\n",
       "      <td>Male</td>\n",
       "      <td>Black</td>\n",
       "      <td>Unknown or not reported</td>\n",
       "      <td>26</td>\n",
       "      <td>Male</td>\n",
       "      <td>Black</td>\n",
       "      <td>Unknown or not reported</td>\n",
       "      <td>Shotgun</td>\n",
       "      <td>Acquaintance</td>\n",
       "      <td>Firearm</td>\n",
       "    </tr>\n",
       "    <tr>\n",
       "      <th>700893</th>\n",
       "      <td>1</td>\n",
       "      <td>1976</td>\n",
       "      <td>Murder and non-negligent manslaughter</td>\n",
       "      <td>Single victim/single offender</td>\n",
       "      <td>24</td>\n",
       "      <td>Male</td>\n",
       "      <td>Black</td>\n",
       "      <td>Unknown or not reported</td>\n",
       "      <td>22</td>\n",
       "      <td>Female</td>\n",
       "      <td>Black</td>\n",
       "      <td>Unknown or not reported</td>\n",
       "      <td>Rifle</td>\n",
       "      <td>Husband</td>\n",
       "      <td>Firearm</td>\n",
       "    </tr>\n",
       "    <tr>\n",
       "      <th>700894</th>\n",
       "      <td>1</td>\n",
       "      <td>1976</td>\n",
       "      <td>Murder and non-negligent manslaughter</td>\n",
       "      <td>Single victim/single offender</td>\n",
       "      <td>20</td>\n",
       "      <td>Female</td>\n",
       "      <td>White</td>\n",
       "      <td>Unknown or not reported</td>\n",
       "      <td>20</td>\n",
       "      <td>Male</td>\n",
       "      <td>White</td>\n",
       "      <td>Unknown or not reported</td>\n",
       "      <td>Rifle</td>\n",
       "      <td>Wife</td>\n",
       "      <td>Firearm</td>\n",
       "    </tr>\n",
       "    <tr>\n",
       "      <th>700895</th>\n",
       "      <td>1</td>\n",
       "      <td>1977</td>\n",
       "      <td>Murder and non-negligent manslaughter</td>\n",
       "      <td>Single victim/single offender</td>\n",
       "      <td>43</td>\n",
       "      <td>Female</td>\n",
       "      <td>Black</td>\n",
       "      <td>Unknown or not reported</td>\n",
       "      <td>34</td>\n",
       "      <td>Male</td>\n",
       "      <td>Black</td>\n",
       "      <td>Unknown or not reported</td>\n",
       "      <td>Handgun - pistol, revolver, etc</td>\n",
       "      <td>Wife</td>\n",
       "      <td>Firearm</td>\n",
       "    </tr>\n",
       "    <tr>\n",
       "      <th>700896</th>\n",
       "      <td>1</td>\n",
       "      <td>1977</td>\n",
       "      <td>Murder and non-negligent manslaughter</td>\n",
       "      <td>Single victim/single offender</td>\n",
       "      <td>24</td>\n",
       "      <td>Female</td>\n",
       "      <td>White</td>\n",
       "      <td>Unknown or not reported</td>\n",
       "      <td>32</td>\n",
       "      <td>Male</td>\n",
       "      <td>White</td>\n",
       "      <td>Unknown or not reported</td>\n",
       "      <td>Handgun - pistol, revolver, etc</td>\n",
       "      <td>Wife</td>\n",
       "      <td>Firearm</td>\n",
       "    </tr>\n",
       "  </tbody>\n",
       "</table>\n",
       "</div>"
      ],
      "text/plain": [
       "        Solved  Year                               Homicide  \\\n",
       "700892       1  1976  Murder and non-negligent manslaughter   \n",
       "700893       1  1976  Murder and non-negligent manslaughter   \n",
       "700894       1  1976  Murder and non-negligent manslaughter   \n",
       "700895       1  1977  Murder and non-negligent manslaughter   \n",
       "700896       1  1977  Murder and non-negligent manslaughter   \n",
       "\n",
       "                            Situation  VicAge  VicSex VicRace  \\\n",
       "700892  Single victim/single offender      27    Male   Black   \n",
       "700893  Single victim/single offender      24    Male   Black   \n",
       "700894  Single victim/single offender      20  Female   White   \n",
       "700895  Single victim/single offender      43  Female   Black   \n",
       "700896  Single victim/single offender      24  Female   White   \n",
       "\n",
       "                      VicEthnic  OffAge  OffSex OffRace  \\\n",
       "700892  Unknown or not reported      26    Male   Black   \n",
       "700893  Unknown or not reported      22  Female   Black   \n",
       "700894  Unknown or not reported      20    Male   White   \n",
       "700895  Unknown or not reported      34    Male   Black   \n",
       "700896  Unknown or not reported      32    Male   White   \n",
       "\n",
       "                      OffEthnic                           Weapon  \\\n",
       "700892  Unknown or not reported                          Shotgun   \n",
       "700893  Unknown or not reported                            Rifle   \n",
       "700894  Unknown or not reported                            Rifle   \n",
       "700895  Unknown or not reported  Handgun - pistol, revolver, etc   \n",
       "700896  Unknown or not reported  Handgun - pistol, revolver, etc   \n",
       "\n",
       "        Relationship Weapon_Type  \n",
       "700892  Acquaintance     Firearm  \n",
       "700893       Husband     Firearm  \n",
       "700894          Wife     Firearm  \n",
       "700895          Wife     Firearm  \n",
       "700896          Wife     Firearm  "
      ]
     },
     "execution_count": 244,
     "metadata": {},
     "output_type": "execute_result"
    }
   ],
   "source": [
    "shr_texas.head()"
   ]
  },
  {
   "cell_type": "code",
   "execution_count": 322,
   "metadata": {},
   "outputs": [],
   "source": [
    "shr_texas.drop('Weapon', axis=1, inplace=True)"
   ]
  },
  {
   "cell_type": "code",
   "execution_count": 323,
   "metadata": {},
   "outputs": [
    {
     "data": {
      "text/html": [
       "<div>\n",
       "<style scoped>\n",
       "    .dataframe tbody tr th:only-of-type {\n",
       "        vertical-align: middle;\n",
       "    }\n",
       "\n",
       "    .dataframe tbody tr th {\n",
       "        vertical-align: top;\n",
       "    }\n",
       "\n",
       "    .dataframe thead th {\n",
       "        text-align: right;\n",
       "    }\n",
       "</style>\n",
       "<table border=\"1\" class=\"dataframe\">\n",
       "  <thead>\n",
       "    <tr style=\"text-align: right;\">\n",
       "      <th></th>\n",
       "      <th>Solved</th>\n",
       "      <th>Year</th>\n",
       "      <th>Homicide</th>\n",
       "      <th>Situation</th>\n",
       "      <th>VicAge</th>\n",
       "      <th>VicSex</th>\n",
       "      <th>VicRace</th>\n",
       "      <th>VicEthnic</th>\n",
       "      <th>OffAge</th>\n",
       "      <th>OffSex</th>\n",
       "      <th>OffRace</th>\n",
       "      <th>OffEthnic</th>\n",
       "      <th>Relationship</th>\n",
       "      <th>Weapon_Type</th>\n",
       "    </tr>\n",
       "  </thead>\n",
       "  <tbody>\n",
       "    <tr>\n",
       "      <th>700892</th>\n",
       "      <td>1</td>\n",
       "      <td>1976</td>\n",
       "      <td>Murder and non-negligent manslaughter</td>\n",
       "      <td>Single victim/single offender</td>\n",
       "      <td>27</td>\n",
       "      <td>Male</td>\n",
       "      <td>Black</td>\n",
       "      <td>Unknown or not reported</td>\n",
       "      <td>26</td>\n",
       "      <td>Male</td>\n",
       "      <td>Black</td>\n",
       "      <td>Unknown or not reported</td>\n",
       "      <td>Acquaintance</td>\n",
       "      <td>Firearm</td>\n",
       "    </tr>\n",
       "    <tr>\n",
       "      <th>700893</th>\n",
       "      <td>1</td>\n",
       "      <td>1976</td>\n",
       "      <td>Murder and non-negligent manslaughter</td>\n",
       "      <td>Single victim/single offender</td>\n",
       "      <td>24</td>\n",
       "      <td>Male</td>\n",
       "      <td>Black</td>\n",
       "      <td>Unknown or not reported</td>\n",
       "      <td>22</td>\n",
       "      <td>Female</td>\n",
       "      <td>Black</td>\n",
       "      <td>Unknown or not reported</td>\n",
       "      <td>Husband</td>\n",
       "      <td>Firearm</td>\n",
       "    </tr>\n",
       "    <tr>\n",
       "      <th>700894</th>\n",
       "      <td>1</td>\n",
       "      <td>1976</td>\n",
       "      <td>Murder and non-negligent manslaughter</td>\n",
       "      <td>Single victim/single offender</td>\n",
       "      <td>20</td>\n",
       "      <td>Female</td>\n",
       "      <td>White</td>\n",
       "      <td>Unknown or not reported</td>\n",
       "      <td>20</td>\n",
       "      <td>Male</td>\n",
       "      <td>White</td>\n",
       "      <td>Unknown or not reported</td>\n",
       "      <td>Wife</td>\n",
       "      <td>Firearm</td>\n",
       "    </tr>\n",
       "    <tr>\n",
       "      <th>700895</th>\n",
       "      <td>1</td>\n",
       "      <td>1977</td>\n",
       "      <td>Murder and non-negligent manslaughter</td>\n",
       "      <td>Single victim/single offender</td>\n",
       "      <td>43</td>\n",
       "      <td>Female</td>\n",
       "      <td>Black</td>\n",
       "      <td>Unknown or not reported</td>\n",
       "      <td>34</td>\n",
       "      <td>Male</td>\n",
       "      <td>Black</td>\n",
       "      <td>Unknown or not reported</td>\n",
       "      <td>Wife</td>\n",
       "      <td>Firearm</td>\n",
       "    </tr>\n",
       "    <tr>\n",
       "      <th>700896</th>\n",
       "      <td>1</td>\n",
       "      <td>1977</td>\n",
       "      <td>Murder and non-negligent manslaughter</td>\n",
       "      <td>Single victim/single offender</td>\n",
       "      <td>24</td>\n",
       "      <td>Female</td>\n",
       "      <td>White</td>\n",
       "      <td>Unknown or not reported</td>\n",
       "      <td>32</td>\n",
       "      <td>Male</td>\n",
       "      <td>White</td>\n",
       "      <td>Unknown or not reported</td>\n",
       "      <td>Wife</td>\n",
       "      <td>Firearm</td>\n",
       "    </tr>\n",
       "  </tbody>\n",
       "</table>\n",
       "</div>"
      ],
      "text/plain": [
       "        Solved  Year                               Homicide  \\\n",
       "700892       1  1976  Murder and non-negligent manslaughter   \n",
       "700893       1  1976  Murder and non-negligent manslaughter   \n",
       "700894       1  1976  Murder and non-negligent manslaughter   \n",
       "700895       1  1977  Murder and non-negligent manslaughter   \n",
       "700896       1  1977  Murder and non-negligent manslaughter   \n",
       "\n",
       "                            Situation  VicAge  VicSex VicRace  \\\n",
       "700892  Single victim/single offender      27    Male   Black   \n",
       "700893  Single victim/single offender      24    Male   Black   \n",
       "700894  Single victim/single offender      20  Female   White   \n",
       "700895  Single victim/single offender      43  Female   Black   \n",
       "700896  Single victim/single offender      24  Female   White   \n",
       "\n",
       "                      VicEthnic  OffAge  OffSex OffRace  \\\n",
       "700892  Unknown or not reported      26    Male   Black   \n",
       "700893  Unknown or not reported      22  Female   Black   \n",
       "700894  Unknown or not reported      20    Male   White   \n",
       "700895  Unknown or not reported      34    Male   Black   \n",
       "700896  Unknown or not reported      32    Male   White   \n",
       "\n",
       "                      OffEthnic  Relationship Weapon_Type  \n",
       "700892  Unknown or not reported  Acquaintance     Firearm  \n",
       "700893  Unknown or not reported       Husband     Firearm  \n",
       "700894  Unknown or not reported          Wife     Firearm  \n",
       "700895  Unknown or not reported          Wife     Firearm  \n",
       "700896  Unknown or not reported          Wife     Firearm  "
      ]
     },
     "execution_count": 323,
     "metadata": {},
     "output_type": "execute_result"
    }
   ],
   "source": [
    "shr_texas.head()"
   ]
  },
  {
   "cell_type": "code",
   "execution_count": 324,
   "metadata": {},
   "outputs": [
    {
     "data": {
      "text/plain": [
       "Acquaintance                   18034\n",
       "Stranger                       12126\n",
       "Relationship not determined     5491\n",
       "Wife                            3184\n",
       "Friend                          2316\n",
       "Other - known to victim         1898\n",
       "Husband                         1651\n",
       "Girlfriend                      1546\n",
       "Other family                    1458\n",
       "Son                             1170\n",
       "Neighbor                         902\n",
       "In-law                           890\n",
       "Daughter                         852\n",
       "Brother                          730\n",
       "Boyfriend                        699\n",
       "Common-law wife                  688\n",
       "Father                           594\n",
       "Common-law husband               590\n",
       "Mother                           489\n",
       "Ex-wife                          324\n",
       "Stepson                          292\n",
       "Stepfather                       253\n",
       "Ex-husband                       147\n",
       "Stepdaughter                     144\n",
       "Sister                           130\n",
       "Homosexual relationship          109\n",
       "Employer                          56\n",
       "Employee                          54\n",
       "Stepmother                        30\n",
       "Name: Relationship, dtype: int64"
      ]
     },
     "execution_count": 324,
     "metadata": {},
     "output_type": "execute_result"
    }
   ],
   "source": [
    "shr_texas.Relationship.value_counts()"
   ]
  },
  {
   "cell_type": "code",
   "execution_count": 332,
   "metadata": {},
   "outputs": [],
   "source": [
    "shr_texas['VicOff_Relationship'] = shr_texas.Relationship.map({\n",
    "    'Acquaintance': 'Acquaintance',\n",
    "    'Friend': 'Acquaintance',\n",
    "    'Other - known to victim': 'Acquaintance',\n",
    "    'Neighbor': 'Acquaintance',\n",
    "    'Employer': 'Acquaintance',\n",
    "    'Employee': 'Acquaintance',\n",
    "    'Stranger': 'Stranger',\n",
    "    'Relationship not determined': 'Unknown',\n",
    "    'Wife': 'Partner',\n",
    "    'Husband': 'Partner',\n",
    "    'Girlfriend': 'Partner',\n",
    "    'Boyfriend': 'Partner',\n",
    "    'Common-law wife': 'Partner',\n",
    "    'Common-law husband': 'Partner',\n",
    "    'Ex-husband': 'Partner',\n",
    "    'Homosexual relationship': 'Partner',\n",
    "    'Ex-wife': 'Partner',\n",
    "    'Other family': 'Family',\n",
    "    'In-law': 'Family',\n",
    "    'Son': 'Family',\n",
    "    'Daughter': 'Family',\n",
    "    'Brother': 'Family',\n",
    "    'Father': 'Family',\n",
    "    'Mother': 'Family',\n",
    "    'Stepson': 'Family',\n",
    "    'Stepfather': 'Family',\n",
    "    'Stepdaughter': 'Family',\n",
    "    'Sister': 'Family',\n",
    "    'Stepmother': 'Family'\n",
    "                                                })"
   ]
  },
  {
   "cell_type": "code",
   "execution_count": 334,
   "metadata": {},
   "outputs": [
    {
     "data": {
      "text/plain": [
       "Acquaintance    23260\n",
       "Stranger        12126\n",
       "Partner          8938\n",
       "Family           7032\n",
       "Unknown          5491\n",
       "Name: VicOff_Relationship, dtype: int64"
      ]
     },
     "execution_count": 334,
     "metadata": {},
     "output_type": "execute_result"
    }
   ],
   "source": [
    "shr_texas.VicOff_Relationship.value_counts()"
   ]
  },
  {
   "cell_type": "code",
   "execution_count": 335,
   "metadata": {},
   "outputs": [
    {
     "data": {
      "text/html": [
       "<div>\n",
       "<style scoped>\n",
       "    .dataframe tbody tr th:only-of-type {\n",
       "        vertical-align: middle;\n",
       "    }\n",
       "\n",
       "    .dataframe tbody tr th {\n",
       "        vertical-align: top;\n",
       "    }\n",
       "\n",
       "    .dataframe thead th {\n",
       "        text-align: right;\n",
       "    }\n",
       "</style>\n",
       "<table border=\"1\" class=\"dataframe\">\n",
       "  <thead>\n",
       "    <tr style=\"text-align: right;\">\n",
       "      <th></th>\n",
       "      <th>Solved</th>\n",
       "      <th>Year</th>\n",
       "      <th>Homicide</th>\n",
       "      <th>Situation</th>\n",
       "      <th>VicAge</th>\n",
       "      <th>VicSex</th>\n",
       "      <th>VicRace</th>\n",
       "      <th>VicEthnic</th>\n",
       "      <th>OffAge</th>\n",
       "      <th>OffSex</th>\n",
       "      <th>OffRace</th>\n",
       "      <th>OffEthnic</th>\n",
       "      <th>Relationship</th>\n",
       "      <th>Weapon_Type</th>\n",
       "      <th>VicOff_Relationship</th>\n",
       "    </tr>\n",
       "  </thead>\n",
       "  <tbody>\n",
       "    <tr>\n",
       "      <th>700892</th>\n",
       "      <td>1</td>\n",
       "      <td>1976</td>\n",
       "      <td>Murder and non-negligent manslaughter</td>\n",
       "      <td>Single victim/single offender</td>\n",
       "      <td>27</td>\n",
       "      <td>Male</td>\n",
       "      <td>Black</td>\n",
       "      <td>Unknown or not reported</td>\n",
       "      <td>26</td>\n",
       "      <td>Male</td>\n",
       "      <td>Black</td>\n",
       "      <td>Unknown or not reported</td>\n",
       "      <td>Acquaintance</td>\n",
       "      <td>Firearm</td>\n",
       "      <td>Acquaintance</td>\n",
       "    </tr>\n",
       "    <tr>\n",
       "      <th>700893</th>\n",
       "      <td>1</td>\n",
       "      <td>1976</td>\n",
       "      <td>Murder and non-negligent manslaughter</td>\n",
       "      <td>Single victim/single offender</td>\n",
       "      <td>24</td>\n",
       "      <td>Male</td>\n",
       "      <td>Black</td>\n",
       "      <td>Unknown or not reported</td>\n",
       "      <td>22</td>\n",
       "      <td>Female</td>\n",
       "      <td>Black</td>\n",
       "      <td>Unknown or not reported</td>\n",
       "      <td>Husband</td>\n",
       "      <td>Firearm</td>\n",
       "      <td>Partner</td>\n",
       "    </tr>\n",
       "    <tr>\n",
       "      <th>700894</th>\n",
       "      <td>1</td>\n",
       "      <td>1976</td>\n",
       "      <td>Murder and non-negligent manslaughter</td>\n",
       "      <td>Single victim/single offender</td>\n",
       "      <td>20</td>\n",
       "      <td>Female</td>\n",
       "      <td>White</td>\n",
       "      <td>Unknown or not reported</td>\n",
       "      <td>20</td>\n",
       "      <td>Male</td>\n",
       "      <td>White</td>\n",
       "      <td>Unknown or not reported</td>\n",
       "      <td>Wife</td>\n",
       "      <td>Firearm</td>\n",
       "      <td>Partner</td>\n",
       "    </tr>\n",
       "    <tr>\n",
       "      <th>700895</th>\n",
       "      <td>1</td>\n",
       "      <td>1977</td>\n",
       "      <td>Murder and non-negligent manslaughter</td>\n",
       "      <td>Single victim/single offender</td>\n",
       "      <td>43</td>\n",
       "      <td>Female</td>\n",
       "      <td>Black</td>\n",
       "      <td>Unknown or not reported</td>\n",
       "      <td>34</td>\n",
       "      <td>Male</td>\n",
       "      <td>Black</td>\n",
       "      <td>Unknown or not reported</td>\n",
       "      <td>Wife</td>\n",
       "      <td>Firearm</td>\n",
       "      <td>Partner</td>\n",
       "    </tr>\n",
       "    <tr>\n",
       "      <th>700896</th>\n",
       "      <td>1</td>\n",
       "      <td>1977</td>\n",
       "      <td>Murder and non-negligent manslaughter</td>\n",
       "      <td>Single victim/single offender</td>\n",
       "      <td>24</td>\n",
       "      <td>Female</td>\n",
       "      <td>White</td>\n",
       "      <td>Unknown or not reported</td>\n",
       "      <td>32</td>\n",
       "      <td>Male</td>\n",
       "      <td>White</td>\n",
       "      <td>Unknown or not reported</td>\n",
       "      <td>Wife</td>\n",
       "      <td>Firearm</td>\n",
       "      <td>Partner</td>\n",
       "    </tr>\n",
       "  </tbody>\n",
       "</table>\n",
       "</div>"
      ],
      "text/plain": [
       "        Solved  Year                               Homicide  \\\n",
       "700892       1  1976  Murder and non-negligent manslaughter   \n",
       "700893       1  1976  Murder and non-negligent manslaughter   \n",
       "700894       1  1976  Murder and non-negligent manslaughter   \n",
       "700895       1  1977  Murder and non-negligent manslaughter   \n",
       "700896       1  1977  Murder and non-negligent manslaughter   \n",
       "\n",
       "                            Situation  VicAge  VicSex VicRace  \\\n",
       "700892  Single victim/single offender      27    Male   Black   \n",
       "700893  Single victim/single offender      24    Male   Black   \n",
       "700894  Single victim/single offender      20  Female   White   \n",
       "700895  Single victim/single offender      43  Female   Black   \n",
       "700896  Single victim/single offender      24  Female   White   \n",
       "\n",
       "                      VicEthnic  OffAge  OffSex OffRace  \\\n",
       "700892  Unknown or not reported      26    Male   Black   \n",
       "700893  Unknown or not reported      22  Female   Black   \n",
       "700894  Unknown or not reported      20    Male   White   \n",
       "700895  Unknown or not reported      34    Male   Black   \n",
       "700896  Unknown or not reported      32    Male   White   \n",
       "\n",
       "                      OffEthnic  Relationship Weapon_Type VicOff_Relationship  \n",
       "700892  Unknown or not reported  Acquaintance     Firearm        Acquaintance  \n",
       "700893  Unknown or not reported       Husband     Firearm             Partner  \n",
       "700894  Unknown or not reported          Wife     Firearm             Partner  \n",
       "700895  Unknown or not reported          Wife     Firearm             Partner  \n",
       "700896  Unknown or not reported          Wife     Firearm             Partner  "
      ]
     },
     "execution_count": 335,
     "metadata": {},
     "output_type": "execute_result"
    }
   ],
   "source": [
    "shr_texas.head()"
   ]
  },
  {
   "cell_type": "code",
   "execution_count": 336,
   "metadata": {},
   "outputs": [],
   "source": [
    "shr_texas.drop('Relationship', axis=1, inplace=True)"
   ]
  },
  {
   "cell_type": "code",
   "execution_count": 337,
   "metadata": {},
   "outputs": [
    {
     "data": {
      "text/html": [
       "<div>\n",
       "<style scoped>\n",
       "    .dataframe tbody tr th:only-of-type {\n",
       "        vertical-align: middle;\n",
       "    }\n",
       "\n",
       "    .dataframe tbody tr th {\n",
       "        vertical-align: top;\n",
       "    }\n",
       "\n",
       "    .dataframe thead th {\n",
       "        text-align: right;\n",
       "    }\n",
       "</style>\n",
       "<table border=\"1\" class=\"dataframe\">\n",
       "  <thead>\n",
       "    <tr style=\"text-align: right;\">\n",
       "      <th></th>\n",
       "      <th>Solved</th>\n",
       "      <th>Year</th>\n",
       "      <th>Homicide</th>\n",
       "      <th>Situation</th>\n",
       "      <th>VicAge</th>\n",
       "      <th>VicSex</th>\n",
       "      <th>VicRace</th>\n",
       "      <th>VicEthnic</th>\n",
       "      <th>OffAge</th>\n",
       "      <th>OffSex</th>\n",
       "      <th>OffRace</th>\n",
       "      <th>OffEthnic</th>\n",
       "      <th>Weapon_Type</th>\n",
       "      <th>VicOff_Relationship</th>\n",
       "    </tr>\n",
       "  </thead>\n",
       "  <tbody>\n",
       "    <tr>\n",
       "      <th>700892</th>\n",
       "      <td>1</td>\n",
       "      <td>1976</td>\n",
       "      <td>Murder and non-negligent manslaughter</td>\n",
       "      <td>Single victim/single offender</td>\n",
       "      <td>27</td>\n",
       "      <td>Male</td>\n",
       "      <td>Black</td>\n",
       "      <td>Unknown or not reported</td>\n",
       "      <td>26</td>\n",
       "      <td>Male</td>\n",
       "      <td>Black</td>\n",
       "      <td>Unknown or not reported</td>\n",
       "      <td>Firearm</td>\n",
       "      <td>Acquaintance</td>\n",
       "    </tr>\n",
       "    <tr>\n",
       "      <th>700893</th>\n",
       "      <td>1</td>\n",
       "      <td>1976</td>\n",
       "      <td>Murder and non-negligent manslaughter</td>\n",
       "      <td>Single victim/single offender</td>\n",
       "      <td>24</td>\n",
       "      <td>Male</td>\n",
       "      <td>Black</td>\n",
       "      <td>Unknown or not reported</td>\n",
       "      <td>22</td>\n",
       "      <td>Female</td>\n",
       "      <td>Black</td>\n",
       "      <td>Unknown or not reported</td>\n",
       "      <td>Firearm</td>\n",
       "      <td>Partner</td>\n",
       "    </tr>\n",
       "    <tr>\n",
       "      <th>700894</th>\n",
       "      <td>1</td>\n",
       "      <td>1976</td>\n",
       "      <td>Murder and non-negligent manslaughter</td>\n",
       "      <td>Single victim/single offender</td>\n",
       "      <td>20</td>\n",
       "      <td>Female</td>\n",
       "      <td>White</td>\n",
       "      <td>Unknown or not reported</td>\n",
       "      <td>20</td>\n",
       "      <td>Male</td>\n",
       "      <td>White</td>\n",
       "      <td>Unknown or not reported</td>\n",
       "      <td>Firearm</td>\n",
       "      <td>Partner</td>\n",
       "    </tr>\n",
       "    <tr>\n",
       "      <th>700895</th>\n",
       "      <td>1</td>\n",
       "      <td>1977</td>\n",
       "      <td>Murder and non-negligent manslaughter</td>\n",
       "      <td>Single victim/single offender</td>\n",
       "      <td>43</td>\n",
       "      <td>Female</td>\n",
       "      <td>Black</td>\n",
       "      <td>Unknown or not reported</td>\n",
       "      <td>34</td>\n",
       "      <td>Male</td>\n",
       "      <td>Black</td>\n",
       "      <td>Unknown or not reported</td>\n",
       "      <td>Firearm</td>\n",
       "      <td>Partner</td>\n",
       "    </tr>\n",
       "    <tr>\n",
       "      <th>700896</th>\n",
       "      <td>1</td>\n",
       "      <td>1977</td>\n",
       "      <td>Murder and non-negligent manslaughter</td>\n",
       "      <td>Single victim/single offender</td>\n",
       "      <td>24</td>\n",
       "      <td>Female</td>\n",
       "      <td>White</td>\n",
       "      <td>Unknown or not reported</td>\n",
       "      <td>32</td>\n",
       "      <td>Male</td>\n",
       "      <td>White</td>\n",
       "      <td>Unknown or not reported</td>\n",
       "      <td>Firearm</td>\n",
       "      <td>Partner</td>\n",
       "    </tr>\n",
       "  </tbody>\n",
       "</table>\n",
       "</div>"
      ],
      "text/plain": [
       "        Solved  Year                               Homicide  \\\n",
       "700892       1  1976  Murder and non-negligent manslaughter   \n",
       "700893       1  1976  Murder and non-negligent manslaughter   \n",
       "700894       1  1976  Murder and non-negligent manslaughter   \n",
       "700895       1  1977  Murder and non-negligent manslaughter   \n",
       "700896       1  1977  Murder and non-negligent manslaughter   \n",
       "\n",
       "                            Situation  VicAge  VicSex VicRace  \\\n",
       "700892  Single victim/single offender      27    Male   Black   \n",
       "700893  Single victim/single offender      24    Male   Black   \n",
       "700894  Single victim/single offender      20  Female   White   \n",
       "700895  Single victim/single offender      43  Female   Black   \n",
       "700896  Single victim/single offender      24  Female   White   \n",
       "\n",
       "                      VicEthnic  OffAge  OffSex OffRace  \\\n",
       "700892  Unknown or not reported      26    Male   Black   \n",
       "700893  Unknown or not reported      22  Female   Black   \n",
       "700894  Unknown or not reported      20    Male   White   \n",
       "700895  Unknown or not reported      34    Male   Black   \n",
       "700896  Unknown or not reported      32    Male   White   \n",
       "\n",
       "                      OffEthnic Weapon_Type VicOff_Relationship  \n",
       "700892  Unknown or not reported     Firearm        Acquaintance  \n",
       "700893  Unknown or not reported     Firearm             Partner  \n",
       "700894  Unknown or not reported     Firearm             Partner  \n",
       "700895  Unknown or not reported     Firearm             Partner  \n",
       "700896  Unknown or not reported     Firearm             Partner  "
      ]
     },
     "execution_count": 337,
     "metadata": {},
     "output_type": "execute_result"
    }
   ],
   "source": [
    "shr_texas.head()"
   ]
  },
  {
   "cell_type": "code",
   "execution_count": 338,
   "metadata": {},
   "outputs": [
    {
     "data": {
      "text/plain": [
       "Acquaintance    0.409168\n",
       "Stranger        0.213309\n",
       "Partner         0.157229\n",
       "Family          0.123700\n",
       "Unknown         0.096593\n",
       "Name: VicOff_Relationship, dtype: float64"
      ]
     },
     "execution_count": 338,
     "metadata": {},
     "output_type": "execute_result"
    }
   ],
   "source": [
    "shr_texas.VicOff_Relationship.value_counts(normalize=True)"
   ]
  },
  {
   "cell_type": "code",
   "execution_count": 339,
   "metadata": {},
   "outputs": [
    {
     "data": {
      "text/plain": [
       "<AxesSubplot:ylabel='VicOff_Relationship'>"
      ]
     },
     "execution_count": 339,
     "metadata": {},
     "output_type": "execute_result"
    },
    {
     "data": {
      "image/png": "[encoded data removed]",
      "text/plain": [
       "<Figure size 432x288 with 1 Axes>"
      ]
     },
     "metadata": {
      "needs_background": "light"
     },
     "output_type": "display_data"
    }
   ],
   "source": [
    "sns.barplot(x = shr_texas.VicOff_Relationship.value_counts().index, y =shr_texas.VicOff_Relationship.value_counts())"
   ]
  },
  {
   "cell_type": "code",
   "execution_count": 340,
   "metadata": {},
   "outputs": [
    {
     "data": {
      "text/plain": [
       "Firearm               0.683941\n",
       "Stabbing              0.160255\n",
       "Blunt Force Trauma    0.097806\n",
       "Other                 0.044365\n",
       "Strangle or Asphyx    0.013633\n",
       "Name: Weapon_Type, dtype: float64"
      ]
     },
     "execution_count": 340,
     "metadata": {},
     "output_type": "execute_result"
    }
   ],
   "source": [
    "shr_texas.Weapon_Type.value_counts(normalize=True)"
   ]
  },
  {
   "cell_type": "code",
   "execution_count": 341,
   "metadata": {},
   "outputs": [
    {
     "data": {
      "text/plain": [
       "<AxesSubplot:ylabel='Weapon_Type'>"
      ]
     },
     "execution_count": 341,
     "metadata": {},
     "output_type": "execute_result"
    },
    {
     "data": {
      "image/png": "[encoded data removed]",
      "text/plain": [
       "<Figure size 432x288 with 1 Axes>"
      ]
     },
     "metadata": {
      "needs_background": "light"
     },
     "output_type": "display_data"
    }
   ],
   "source": [
    "sns.barplot(x = shr_texas.Weapon_Type.value_counts().index, y =shr_texas.Weapon_Type.value_counts())"
   ]
  },
  {
   "cell_type": "code",
   "execution_count": 342,
   "metadata": {},
   "outputs": [
    {
     "data": {
      "text/plain": [
       "<AxesSubplot:ylabel='VicSex'>"
      ]
     },
     "execution_count": 342,
     "metadata": {},
     "output_type": "execute_result"
    },
    {
     "data": {
      "image/png": "[encoded data removed]",
      "text/plain": [
       "<Figure size 432x288 with 1 Axes>"
      ]
     },
     "metadata": {
      "needs_background": "light"
     },
     "output_type": "display_data"
    }
   ],
   "source": [
    "sns.barplot(x = shr_texas.VicSex.value_counts().index, y =shr_texas.VicSex.value_counts())"
   ]
  },
  {
   "cell_type": "code",
   "execution_count": 343,
   "metadata": {},
   "outputs": [
    {
     "data": {
      "text/plain": [
       "<AxesSubplot:ylabel='OffSex'>"
      ]
     },
     "execution_count": 343,
     "metadata": {},
     "output_type": "execute_result"
    },
    {
     "data": {
      "image/png": "[encoded data removed]",
      "text/plain": [
       "<Figure size 432x288 with 1 Axes>"
      ]
     },
     "metadata": {
      "needs_background": "light"
     },
     "output_type": "display_data"
    }
   ],
   "source": [
    "sns.barplot(x = shr_texas.OffSex.value_counts().index, y =shr_texas.OffSex.value_counts())"
   ]
  },
  {
   "cell_type": "code",
   "execution_count": 344,
   "metadata": {},
   "outputs": [
    {
     "data": {
      "text/plain": [
       "White                                  0.645980\n",
       "Black                                  0.339473\n",
       "Asian                                  0.010942\n",
       "Unknown                                0.002304\n",
       "American Indian or Alaskan Native      0.001126\n",
       "Native Hawaiian or Pacific Islander    0.000176\n",
       "Name: VicRace, dtype: float64"
      ]
     },
     "execution_count": 344,
     "metadata": {},
     "output_type": "execute_result"
    }
   ],
   "source": [
    "shr_texas.VicRace.value_counts(normalize=True)"
   ]
  },
  {
   "cell_type": "code",
   "execution_count": 345,
   "metadata": {},
   "outputs": [
    {
     "data": {
      "text/plain": [
       "<AxesSubplot:ylabel='VicRace'>"
      ]
     },
     "execution_count": 345,
     "metadata": {},
     "output_type": "execute_result"
    },
    {
     "data": {
      "image/png": "[encoded data removed]",
      "text/plain": [
       "<Figure size 432x288 with 1 Axes>"
      ]
     },
     "metadata": {
      "needs_background": "light"
     },
     "output_type": "display_data"
    }
   ],
   "source": [
    "sns.barplot(x = shr_texas.VicRace.value_counts().index, y =shr_texas.VicRace.value_counts())"
   ]
  },
  {
   "cell_type": "code",
   "execution_count": 346,
   "metadata": {},
   "outputs": [
    {
     "data": {
      "text/plain": [
       "White                                  0.616866\n",
       "Black                                  0.368463\n",
       "Asian                                  0.009200\n",
       "Unknown                                0.004222\n",
       "American Indian or Alaskan Native      0.000932\n",
       "Native Hawaiian or Pacific Islander    0.000317\n",
       "Name: OffRace, dtype: float64"
      ]
     },
     "execution_count": 346,
     "metadata": {},
     "output_type": "execute_result"
    }
   ],
   "source": [
    "shr_texas.OffRace.value_counts(normalize=True)"
   ]
  },
  {
   "cell_type": "code",
   "execution_count": 347,
   "metadata": {},
   "outputs": [
    {
     "data": {
      "text/plain": [
       "Solved                 0\n",
       "Year                   0\n",
       "Homicide               0\n",
       "Situation              0\n",
       "VicAge                 0\n",
       "VicSex                 0\n",
       "VicRace                0\n",
       "VicEthnic              0\n",
       "OffAge                 0\n",
       "OffSex                 0\n",
       "OffRace                0\n",
       "OffEthnic              0\n",
       "Weapon_Type            0\n",
       "VicOff_Relationship    0\n",
       "dtype: int64"
      ]
     },
     "execution_count": 347,
     "metadata": {},
     "output_type": "execute_result"
    }
   ],
   "source": [
    "shr_texas.isna().sum()"
   ]
  },
  {
   "cell_type": "code",
   "execution_count": null,
   "metadata": {},
   "outputs": [],
   "source": []
  },
  {
   "cell_type": "code",
   "execution_count": null,
   "metadata": {},
   "outputs": [],
   "source": []
  },
  {
   "cell_type": "markdown",
   "metadata": {},
   "source": [
    "## Data is Cleaned? model building next"
   ]
  },
  {
   "cell_type": "markdown",
   "metadata": {},
   "source": [
    "### Preprocessing "
   ]
  },
  {
   "cell_type": "code",
   "execution_count": 374,
   "metadata": {},
   "outputs": [],
   "source": [
    "from sklearn.linear_model import Ridge, LinearRegression, LogisticRegression\n",
    "from sklearn.model_selection import train_test_split, KFold\n",
    "from sklearn.metrics import mean_squared_error, log_loss\n",
    "from sklearn.preprocessing import StandardScaler, OneHotEncoder\n",
    "from sklearn.dummy import DummyRegressor\n"
   ]
  },
  {
   "cell_type": "code",
   "execution_count": 349,
   "metadata": {},
   "outputs": [],
   "source": [
    "X = shr_texas.drop('Solved', axis =1)\n",
    "y = shr_texas['Solved']"
   ]
  },
  {
   "cell_type": "code",
   "execution_count": 350,
   "metadata": {},
   "outputs": [],
   "source": [
    "X_train, X_test, y_train, y_test = train_test_split(X,y, random_state=42)"
   ]
  },
  {
   "cell_type": "code",
   "execution_count": 351,
   "metadata": {},
   "outputs": [],
   "source": [
    "objectcols = X_train.select_dtypes(include=object).columns"
   ]
  },
  {
   "cell_type": "code",
   "execution_count": 352,
   "metadata": {},
   "outputs": [
    {
     "data": {
      "text/plain": [
       "['Homicide',\n",
       " 'Situation',\n",
       " 'VicSex',\n",
       " 'VicRace',\n",
       " 'VicEthnic',\n",
       " 'OffSex',\n",
       " 'OffRace',\n",
       " 'OffEthnic',\n",
       " 'Weapon_Type',\n",
       " 'VicOff_Relationship']"
      ]
     },
     "execution_count": 352,
     "metadata": {},
     "output_type": "execute_result"
    }
   ],
   "source": [
    "objectcolslist = [x for x in objectcols]\n",
    "objectcolslist\n"
   ]
  },
  {
   "cell_type": "code",
   "execution_count": 353,
   "metadata": {},
   "outputs": [],
   "source": [
    "ohe = OneHotEncoder(handle_unknown='ignore')"
   ]
  },
  {
   "cell_type": "code",
   "execution_count": 354,
   "metadata": {},
   "outputs": [],
   "source": [
    "X_train_ohe = ohe.fit_transform(X_train[objectcolslist]).todense()"
   ]
  },
  {
   "cell_type": "code",
   "execution_count": 355,
   "metadata": {},
   "outputs": [],
   "source": [
    "X_train_ohe_df = pd.DataFrame(X_train_ohe, columns= ohe.get_feature_names())"
   ]
  },
  {
   "cell_type": "code",
   "execution_count": 356,
   "metadata": {
    "collapsed": true
   },
   "outputs": [
    {
     "data": {
      "text/html": [
       "<div>\n",
       "<style scoped>\n",
       "    .dataframe tbody tr th:only-of-type {\n",
       "        vertical-align: middle;\n",
       "    }\n",
       "\n",
       "    .dataframe tbody tr th {\n",
       "        vertical-align: top;\n",
       "    }\n",
       "\n",
       "    .dataframe thead th {\n",
       "        text-align: right;\n",
       "    }\n",
       "</style>\n",
       "<table border=\"1\" class=\"dataframe\">\n",
       "  <thead>\n",
       "    <tr style=\"text-align: right;\">\n",
       "      <th></th>\n",
       "      <th>x0_Manslaughter by negligence</th>\n",
       "      <th>x0_Murder and non-negligent manslaughter</th>\n",
       "      <th>x1_Multiple victims/multiple offenders</th>\n",
       "      <th>x1_Multiple victims/single offender</th>\n",
       "      <th>x1_Single victim/multiple offenders</th>\n",
       "      <th>x1_Single victim/single offender</th>\n",
       "      <th>x2_Female</th>\n",
       "      <th>x2_Male</th>\n",
       "      <th>x2_Unknown</th>\n",
       "      <th>x3_American Indian or Alaskan Native</th>\n",
       "      <th>...</th>\n",
       "      <th>x8_Blunt Force Trauma</th>\n",
       "      <th>x8_Firearm</th>\n",
       "      <th>x8_Other</th>\n",
       "      <th>x8_Stabbing</th>\n",
       "      <th>x8_Strangle or Asphyx</th>\n",
       "      <th>x9_Acquaintance</th>\n",
       "      <th>x9_Family</th>\n",
       "      <th>x9_Partner</th>\n",
       "      <th>x9_Stranger</th>\n",
       "      <th>x9_Unknown</th>\n",
       "    </tr>\n",
       "  </thead>\n",
       "  <tbody>\n",
       "    <tr>\n",
       "      <th>0</th>\n",
       "      <td>0.0</td>\n",
       "      <td>1.0</td>\n",
       "      <td>0.0</td>\n",
       "      <td>0.0</td>\n",
       "      <td>1.0</td>\n",
       "      <td>0.0</td>\n",
       "      <td>1.0</td>\n",
       "      <td>0.0</td>\n",
       "      <td>0.0</td>\n",
       "      <td>0.0</td>\n",
       "      <td>...</td>\n",
       "      <td>0.0</td>\n",
       "      <td>0.0</td>\n",
       "      <td>1.0</td>\n",
       "      <td>0.0</td>\n",
       "      <td>0.0</td>\n",
       "      <td>0.0</td>\n",
       "      <td>0.0</td>\n",
       "      <td>0.0</td>\n",
       "      <td>1.0</td>\n",
       "      <td>0.0</td>\n",
       "    </tr>\n",
       "    <tr>\n",
       "      <th>1</th>\n",
       "      <td>0.0</td>\n",
       "      <td>1.0</td>\n",
       "      <td>0.0</td>\n",
       "      <td>0.0</td>\n",
       "      <td>0.0</td>\n",
       "      <td>1.0</td>\n",
       "      <td>0.0</td>\n",
       "      <td>1.0</td>\n",
       "      <td>0.0</td>\n",
       "      <td>0.0</td>\n",
       "      <td>...</td>\n",
       "      <td>0.0</td>\n",
       "      <td>1.0</td>\n",
       "      <td>0.0</td>\n",
       "      <td>0.0</td>\n",
       "      <td>0.0</td>\n",
       "      <td>1.0</td>\n",
       "      <td>0.0</td>\n",
       "      <td>0.0</td>\n",
       "      <td>0.0</td>\n",
       "      <td>0.0</td>\n",
       "    </tr>\n",
       "    <tr>\n",
       "      <th>2</th>\n",
       "      <td>0.0</td>\n",
       "      <td>1.0</td>\n",
       "      <td>0.0</td>\n",
       "      <td>0.0</td>\n",
       "      <td>0.0</td>\n",
       "      <td>1.0</td>\n",
       "      <td>1.0</td>\n",
       "      <td>0.0</td>\n",
       "      <td>0.0</td>\n",
       "      <td>0.0</td>\n",
       "      <td>...</td>\n",
       "      <td>0.0</td>\n",
       "      <td>1.0</td>\n",
       "      <td>0.0</td>\n",
       "      <td>0.0</td>\n",
       "      <td>0.0</td>\n",
       "      <td>0.0</td>\n",
       "      <td>1.0</td>\n",
       "      <td>0.0</td>\n",
       "      <td>0.0</td>\n",
       "      <td>0.0</td>\n",
       "    </tr>\n",
       "    <tr>\n",
       "      <th>3</th>\n",
       "      <td>0.0</td>\n",
       "      <td>1.0</td>\n",
       "      <td>0.0</td>\n",
       "      <td>0.0</td>\n",
       "      <td>0.0</td>\n",
       "      <td>1.0</td>\n",
       "      <td>0.0</td>\n",
       "      <td>1.0</td>\n",
       "      <td>0.0</td>\n",
       "      <td>0.0</td>\n",
       "      <td>...</td>\n",
       "      <td>0.0</td>\n",
       "      <td>1.0</td>\n",
       "      <td>0.0</td>\n",
       "      <td>0.0</td>\n",
       "      <td>0.0</td>\n",
       "      <td>1.0</td>\n",
       "      <td>0.0</td>\n",
       "      <td>0.0</td>\n",
       "      <td>0.0</td>\n",
       "      <td>0.0</td>\n",
       "    </tr>\n",
       "    <tr>\n",
       "      <th>4</th>\n",
       "      <td>0.0</td>\n",
       "      <td>1.0</td>\n",
       "      <td>0.0</td>\n",
       "      <td>0.0</td>\n",
       "      <td>0.0</td>\n",
       "      <td>1.0</td>\n",
       "      <td>1.0</td>\n",
       "      <td>0.0</td>\n",
       "      <td>0.0</td>\n",
       "      <td>0.0</td>\n",
       "      <td>...</td>\n",
       "      <td>0.0</td>\n",
       "      <td>1.0</td>\n",
       "      <td>0.0</td>\n",
       "      <td>0.0</td>\n",
       "      <td>0.0</td>\n",
       "      <td>0.0</td>\n",
       "      <td>0.0</td>\n",
       "      <td>1.0</td>\n",
       "      <td>0.0</td>\n",
       "      <td>0.0</td>\n",
       "    </tr>\n",
       "    <tr>\n",
       "      <th>...</th>\n",
       "      <td>...</td>\n",
       "      <td>...</td>\n",
       "      <td>...</td>\n",
       "      <td>...</td>\n",
       "      <td>...</td>\n",
       "      <td>...</td>\n",
       "      <td>...</td>\n",
       "      <td>...</td>\n",
       "      <td>...</td>\n",
       "      <td>...</td>\n",
       "      <td>...</td>\n",
       "      <td>...</td>\n",
       "      <td>...</td>\n",
       "      <td>...</td>\n",
       "      <td>...</td>\n",
       "      <td>...</td>\n",
       "      <td>...</td>\n",
       "      <td>...</td>\n",
       "      <td>...</td>\n",
       "      <td>...</td>\n",
       "      <td>...</td>\n",
       "    </tr>\n",
       "    <tr>\n",
       "      <th>42630</th>\n",
       "      <td>0.0</td>\n",
       "      <td>1.0</td>\n",
       "      <td>0.0</td>\n",
       "      <td>0.0</td>\n",
       "      <td>0.0</td>\n",
       "      <td>1.0</td>\n",
       "      <td>0.0</td>\n",
       "      <td>1.0</td>\n",
       "      <td>0.0</td>\n",
       "      <td>0.0</td>\n",
       "      <td>...</td>\n",
       "      <td>0.0</td>\n",
       "      <td>1.0</td>\n",
       "      <td>0.0</td>\n",
       "      <td>0.0</td>\n",
       "      <td>0.0</td>\n",
       "      <td>0.0</td>\n",
       "      <td>1.0</td>\n",
       "      <td>0.0</td>\n",
       "      <td>0.0</td>\n",
       "      <td>0.0</td>\n",
       "    </tr>\n",
       "    <tr>\n",
       "      <th>42631</th>\n",
       "      <td>0.0</td>\n",
       "      <td>1.0</td>\n",
       "      <td>0.0</td>\n",
       "      <td>1.0</td>\n",
       "      <td>0.0</td>\n",
       "      <td>0.0</td>\n",
       "      <td>1.0</td>\n",
       "      <td>0.0</td>\n",
       "      <td>0.0</td>\n",
       "      <td>0.0</td>\n",
       "      <td>...</td>\n",
       "      <td>0.0</td>\n",
       "      <td>1.0</td>\n",
       "      <td>0.0</td>\n",
       "      <td>0.0</td>\n",
       "      <td>0.0</td>\n",
       "      <td>0.0</td>\n",
       "      <td>0.0</td>\n",
       "      <td>1.0</td>\n",
       "      <td>0.0</td>\n",
       "      <td>0.0</td>\n",
       "    </tr>\n",
       "    <tr>\n",
       "      <th>42632</th>\n",
       "      <td>0.0</td>\n",
       "      <td>1.0</td>\n",
       "      <td>0.0</td>\n",
       "      <td>0.0</td>\n",
       "      <td>0.0</td>\n",
       "      <td>1.0</td>\n",
       "      <td>0.0</td>\n",
       "      <td>1.0</td>\n",
       "      <td>0.0</td>\n",
       "      <td>0.0</td>\n",
       "      <td>...</td>\n",
       "      <td>0.0</td>\n",
       "      <td>1.0</td>\n",
       "      <td>0.0</td>\n",
       "      <td>0.0</td>\n",
       "      <td>0.0</td>\n",
       "      <td>0.0</td>\n",
       "      <td>0.0</td>\n",
       "      <td>0.0</td>\n",
       "      <td>1.0</td>\n",
       "      <td>0.0</td>\n",
       "    </tr>\n",
       "    <tr>\n",
       "      <th>42633</th>\n",
       "      <td>0.0</td>\n",
       "      <td>1.0</td>\n",
       "      <td>0.0</td>\n",
       "      <td>0.0</td>\n",
       "      <td>0.0</td>\n",
       "      <td>1.0</td>\n",
       "      <td>0.0</td>\n",
       "      <td>1.0</td>\n",
       "      <td>0.0</td>\n",
       "      <td>0.0</td>\n",
       "      <td>...</td>\n",
       "      <td>0.0</td>\n",
       "      <td>1.0</td>\n",
       "      <td>0.0</td>\n",
       "      <td>0.0</td>\n",
       "      <td>0.0</td>\n",
       "      <td>0.0</td>\n",
       "      <td>0.0</td>\n",
       "      <td>0.0</td>\n",
       "      <td>1.0</td>\n",
       "      <td>0.0</td>\n",
       "    </tr>\n",
       "    <tr>\n",
       "      <th>42634</th>\n",
       "      <td>1.0</td>\n",
       "      <td>0.0</td>\n",
       "      <td>0.0</td>\n",
       "      <td>0.0</td>\n",
       "      <td>0.0</td>\n",
       "      <td>1.0</td>\n",
       "      <td>0.0</td>\n",
       "      <td>1.0</td>\n",
       "      <td>0.0</td>\n",
       "      <td>0.0</td>\n",
       "      <td>...</td>\n",
       "      <td>0.0</td>\n",
       "      <td>1.0</td>\n",
       "      <td>0.0</td>\n",
       "      <td>0.0</td>\n",
       "      <td>0.0</td>\n",
       "      <td>0.0</td>\n",
       "      <td>1.0</td>\n",
       "      <td>0.0</td>\n",
       "      <td>0.0</td>\n",
       "      <td>0.0</td>\n",
       "    </tr>\n",
       "  </tbody>\n",
       "</table>\n",
       "<p>42635 rows × 40 columns</p>\n",
       "</div>"
      ],
      "text/plain": [
       "       x0_Manslaughter by negligence  \\\n",
       "0                                0.0   \n",
       "1                                0.0   \n",
       "2                                0.0   \n",
       "3                                0.0   \n",
       "4                                0.0   \n",
       "...                              ...   \n",
       "42630                            0.0   \n",
       "42631                            0.0   \n",
       "42632                            0.0   \n",
       "42633                            0.0   \n",
       "42634                            1.0   \n",
       "\n",
       "       x0_Murder and non-negligent manslaughter  \\\n",
       "0                                           1.0   \n",
       "1                                           1.0   \n",
       "2                                           1.0   \n",
       "3                                           1.0   \n",
       "4                                           1.0   \n",
       "...                                         ...   \n",
       "42630                                       1.0   \n",
       "42631                                       1.0   \n",
       "42632                                       1.0   \n",
       "42633                                       1.0   \n",
       "42634                                       0.0   \n",
       "\n",
       "       x1_Multiple victims/multiple offenders  \\\n",
       "0                                         0.0   \n",
       "1                                         0.0   \n",
       "2                                         0.0   \n",
       "3                                         0.0   \n",
       "4                                         0.0   \n",
       "...                                       ...   \n",
       "42630                                     0.0   \n",
       "42631                                     0.0   \n",
       "42632                                     0.0   \n",
       "42633                                     0.0   \n",
       "42634                                     0.0   \n",
       "\n",
       "       x1_Multiple victims/single offender  \\\n",
       "0                                      0.0   \n",
       "1                                      0.0   \n",
       "2                                      0.0   \n",
       "3                                      0.0   \n",
       "4                                      0.0   \n",
       "...                                    ...   \n",
       "42630                                  0.0   \n",
       "42631                                  1.0   \n",
       "42632                                  0.0   \n",
       "42633                                  0.0   \n",
       "42634                                  0.0   \n",
       "\n",
       "       x1_Single victim/multiple offenders  x1_Single victim/single offender  \\\n",
       "0                                      1.0                               0.0   \n",
       "1                                      0.0                               1.0   \n",
       "2                                      0.0                               1.0   \n",
       "3                                      0.0                               1.0   \n",
       "4                                      0.0                               1.0   \n",
       "...                                    ...                               ...   \n",
       "42630                                  0.0                               1.0   \n",
       "42631                                  0.0                               0.0   \n",
       "42632                                  0.0                               1.0   \n",
       "42633                                  0.0                               1.0   \n",
       "42634                                  0.0                               1.0   \n",
       "\n",
       "       x2_Female  x2_Male  x2_Unknown  x3_American Indian or Alaskan Native  \\\n",
       "0            1.0      0.0         0.0                                   0.0   \n",
       "1            0.0      1.0         0.0                                   0.0   \n",
       "2            1.0      0.0         0.0                                   0.0   \n",
       "3            0.0      1.0         0.0                                   0.0   \n",
       "4            1.0      0.0         0.0                                   0.0   \n",
       "...          ...      ...         ...                                   ...   \n",
       "42630        0.0      1.0         0.0                                   0.0   \n",
       "42631        1.0      0.0         0.0                                   0.0   \n",
       "42632        0.0      1.0         0.0                                   0.0   \n",
       "42633        0.0      1.0         0.0                                   0.0   \n",
       "42634        0.0      1.0         0.0                                   0.0   \n",
       "\n",
       "       ...  x8_Blunt Force Trauma  x8_Firearm  x8_Other  x8_Stabbing  \\\n",
       "0      ...                    0.0         0.0       1.0          0.0   \n",
       "1      ...                    0.0         1.0       0.0          0.0   \n",
       "2      ...                    0.0         1.0       0.0          0.0   \n",
       "3      ...                    0.0         1.0       0.0          0.0   \n",
       "4      ...                    0.0         1.0       0.0          0.0   \n",
       "...    ...                    ...         ...       ...          ...   \n",
       "42630  ...                    0.0         1.0       0.0          0.0   \n",
       "42631  ...                    0.0         1.0       0.0          0.0   \n",
       "42632  ...                    0.0         1.0       0.0          0.0   \n",
       "42633  ...                    0.0         1.0       0.0          0.0   \n",
       "42634  ...                    0.0         1.0       0.0          0.0   \n",
       "\n",
       "       x8_Strangle or Asphyx  x9_Acquaintance  x9_Family  x9_Partner  \\\n",
       "0                        0.0              0.0        0.0         0.0   \n",
       "1                        0.0              1.0        0.0         0.0   \n",
       "2                        0.0              0.0        1.0         0.0   \n",
       "3                        0.0              1.0        0.0         0.0   \n",
       "4                        0.0              0.0        0.0         1.0   \n",
       "...                      ...              ...        ...         ...   \n",
       "42630                    0.0              0.0        1.0         0.0   \n",
       "42631                    0.0              0.0        0.0         1.0   \n",
       "42632                    0.0              0.0        0.0         0.0   \n",
       "42633                    0.0              0.0        0.0         0.0   \n",
       "42634                    0.0              0.0        1.0         0.0   \n",
       "\n",
       "       x9_Stranger  x9_Unknown  \n",
       "0              1.0         0.0  \n",
       "1              0.0         0.0  \n",
       "2              0.0         0.0  \n",
       "3              0.0         0.0  \n",
       "4              0.0         0.0  \n",
       "...            ...         ...  \n",
       "42630          0.0         0.0  \n",
       "42631          0.0         0.0  \n",
       "42632          1.0         0.0  \n",
       "42633          1.0         0.0  \n",
       "42634          0.0         0.0  \n",
       "\n",
       "[42635 rows x 40 columns]"
      ]
     },
     "execution_count": 356,
     "metadata": {},
     "output_type": "execute_result"
    }
   ],
   "source": [
    "X_train_ohe_df"
   ]
  },
  {
   "cell_type": "code",
   "execution_count": 358,
   "metadata": {},
   "outputs": [],
   "source": [
    "X_test_ohe = pd.DataFrame(ohe.transform(X_test[objectcolslist]).todense(), columns=ohe.get_feature_names())"
   ]
  },
  {
   "cell_type": "code",
   "execution_count": 359,
   "metadata": {},
   "outputs": [],
   "source": [
    "ss = StandardScaler()"
   ]
  },
  {
   "cell_type": "code",
   "execution_count": 360,
   "metadata": {},
   "outputs": [],
   "source": [
    "numcollist = [x for x in X_train.select_dtypes(exclude=object).columns]"
   ]
  },
  {
   "cell_type": "code",
   "execution_count": 361,
   "metadata": {},
   "outputs": [
    {
     "data": {
      "text/plain": [
       "['Year', 'VicAge', 'OffAge']"
      ]
     },
     "execution_count": 361,
     "metadata": {},
     "output_type": "execute_result"
    }
   ],
   "source": [
    "numcollist"
   ]
  },
  {
   "cell_type": "code",
   "execution_count": 362,
   "metadata": {},
   "outputs": [],
   "source": [
    "X_train_sc = pd.DataFrame(ss.fit_transform(X_train[numcollist]), columns = numcollist)"
   ]
  },
  {
   "cell_type": "code",
   "execution_count": 363,
   "metadata": {},
   "outputs": [],
   "source": [
    "X_test_sc = pd.DataFrame(ss.transform(X_test[numcollist]), columns = numcollist)"
   ]
  },
  {
   "cell_type": "code",
   "execution_count": 364,
   "metadata": {},
   "outputs": [],
   "source": [
    "X_train_combined =pd.concat([X_train_ohe_df,X_train_sc], axis=1)"
   ]
  },
  {
   "cell_type": "code",
   "execution_count": 369,
   "metadata": {},
   "outputs": [],
   "source": [
    "X_test_combined = pd.concat([X_test_ohe, X_test_sc], axis =1)"
   ]
  },
  {
   "cell_type": "code",
   "execution_count": 366,
   "metadata": {},
   "outputs": [],
   "source": [
    "X_test_combined = pd.concat([X_test_ohe, X_test_sc], axis =1)"
   ]
  },
  {
   "cell_type": "code",
   "execution_count": 370,
   "metadata": {},
   "outputs": [
    {
     "data": {
      "text/html": [
       "<div>\n",
       "<style scoped>\n",
       "    .dataframe tbody tr th:only-of-type {\n",
       "        vertical-align: middle;\n",
       "    }\n",
       "\n",
       "    .dataframe tbody tr th {\n",
       "        vertical-align: top;\n",
       "    }\n",
       "\n",
       "    .dataframe thead th {\n",
       "        text-align: right;\n",
       "    }\n",
       "</style>\n",
       "<table border=\"1\" class=\"dataframe\">\n",
       "  <thead>\n",
       "    <tr style=\"text-align: right;\">\n",
       "      <th></th>\n",
       "      <th>x0_Manslaughter by negligence</th>\n",
       "      <th>x0_Murder and non-negligent manslaughter</th>\n",
       "      <th>x1_Multiple victims/multiple offenders</th>\n",
       "      <th>x1_Multiple victims/single offender</th>\n",
       "      <th>x1_Single victim/multiple offenders</th>\n",
       "      <th>x1_Single victim/single offender</th>\n",
       "      <th>x2_Female</th>\n",
       "      <th>x2_Male</th>\n",
       "      <th>x2_Unknown</th>\n",
       "      <th>x3_American Indian or Alaskan Native</th>\n",
       "      <th>...</th>\n",
       "      <th>x8_Stabbing</th>\n",
       "      <th>x8_Strangle or Asphyx</th>\n",
       "      <th>x9_Acquaintance</th>\n",
       "      <th>x9_Family</th>\n",
       "      <th>x9_Partner</th>\n",
       "      <th>x9_Stranger</th>\n",
       "      <th>x9_Unknown</th>\n",
       "      <th>Year</th>\n",
       "      <th>VicAge</th>\n",
       "      <th>OffAge</th>\n",
       "    </tr>\n",
       "  </thead>\n",
       "  <tbody>\n",
       "    <tr>\n",
       "      <th>0</th>\n",
       "      <td>0.0</td>\n",
       "      <td>1.0</td>\n",
       "      <td>0.0</td>\n",
       "      <td>0.0</td>\n",
       "      <td>0.0</td>\n",
       "      <td>1.0</td>\n",
       "      <td>0.0</td>\n",
       "      <td>1.0</td>\n",
       "      <td>0.0</td>\n",
       "      <td>0.0</td>\n",
       "      <td>...</td>\n",
       "      <td>1.0</td>\n",
       "      <td>0.0</td>\n",
       "      <td>0.0</td>\n",
       "      <td>1.0</td>\n",
       "      <td>0.0</td>\n",
       "      <td>0.0</td>\n",
       "      <td>0.0</td>\n",
       "      <td>1.740258</td>\n",
       "      <td>0.072941</td>\n",
       "      <td>-0.482667</td>\n",
       "    </tr>\n",
       "    <tr>\n",
       "      <th>1</th>\n",
       "      <td>0.0</td>\n",
       "      <td>1.0</td>\n",
       "      <td>0.0</td>\n",
       "      <td>0.0</td>\n",
       "      <td>1.0</td>\n",
       "      <td>0.0</td>\n",
       "      <td>0.0</td>\n",
       "      <td>1.0</td>\n",
       "      <td>0.0</td>\n",
       "      <td>0.0</td>\n",
       "      <td>...</td>\n",
       "      <td>1.0</td>\n",
       "      <td>0.0</td>\n",
       "      <td>1.0</td>\n",
       "      <td>0.0</td>\n",
       "      <td>0.0</td>\n",
       "      <td>0.0</td>\n",
       "      <td>0.0</td>\n",
       "      <td>0.603046</td>\n",
       "      <td>-0.099569</td>\n",
       "      <td>-1.025620</td>\n",
       "    </tr>\n",
       "    <tr>\n",
       "      <th>2</th>\n",
       "      <td>0.0</td>\n",
       "      <td>1.0</td>\n",
       "      <td>0.0</td>\n",
       "      <td>0.0</td>\n",
       "      <td>0.0</td>\n",
       "      <td>1.0</td>\n",
       "      <td>0.0</td>\n",
       "      <td>1.0</td>\n",
       "      <td>0.0</td>\n",
       "      <td>0.0</td>\n",
       "      <td>...</td>\n",
       "      <td>0.0</td>\n",
       "      <td>0.0</td>\n",
       "      <td>1.0</td>\n",
       "      <td>0.0</td>\n",
       "      <td>0.0</td>\n",
       "      <td>0.0</td>\n",
       "      <td>0.0</td>\n",
       "      <td>0.754674</td>\n",
       "      <td>0.081566</td>\n",
       "      <td>0.680803</td>\n",
       "    </tr>\n",
       "    <tr>\n",
       "      <th>3</th>\n",
       "      <td>0.0</td>\n",
       "      <td>1.0</td>\n",
       "      <td>0.0</td>\n",
       "      <td>0.0</td>\n",
       "      <td>0.0</td>\n",
       "      <td>1.0</td>\n",
       "      <td>0.0</td>\n",
       "      <td>1.0</td>\n",
       "      <td>0.0</td>\n",
       "      <td>0.0</td>\n",
       "      <td>...</td>\n",
       "      <td>0.0</td>\n",
       "      <td>0.0</td>\n",
       "      <td>0.0</td>\n",
       "      <td>0.0</td>\n",
       "      <td>1.0</td>\n",
       "      <td>0.0</td>\n",
       "      <td>0.0</td>\n",
       "      <td>-0.761609</td>\n",
       "      <td>0.228199</td>\n",
       "      <td>1.456449</td>\n",
       "    </tr>\n",
       "    <tr>\n",
       "      <th>4</th>\n",
       "      <td>0.0</td>\n",
       "      <td>1.0</td>\n",
       "      <td>0.0</td>\n",
       "      <td>0.0</td>\n",
       "      <td>0.0</td>\n",
       "      <td>1.0</td>\n",
       "      <td>1.0</td>\n",
       "      <td>0.0</td>\n",
       "      <td>0.0</td>\n",
       "      <td>0.0</td>\n",
       "      <td>...</td>\n",
       "      <td>0.0</td>\n",
       "      <td>0.0</td>\n",
       "      <td>0.0</td>\n",
       "      <td>0.0</td>\n",
       "      <td>1.0</td>\n",
       "      <td>0.0</td>\n",
       "      <td>0.0</td>\n",
       "      <td>0.223975</td>\n",
       "      <td>-0.004689</td>\n",
       "      <td>1.378885</td>\n",
       "    </tr>\n",
       "    <tr>\n",
       "      <th>...</th>\n",
       "      <td>...</td>\n",
       "      <td>...</td>\n",
       "      <td>...</td>\n",
       "      <td>...</td>\n",
       "      <td>...</td>\n",
       "      <td>...</td>\n",
       "      <td>...</td>\n",
       "      <td>...</td>\n",
       "      <td>...</td>\n",
       "      <td>...</td>\n",
       "      <td>...</td>\n",
       "      <td>...</td>\n",
       "      <td>...</td>\n",
       "      <td>...</td>\n",
       "      <td>...</td>\n",
       "      <td>...</td>\n",
       "      <td>...</td>\n",
       "      <td>...</td>\n",
       "      <td>...</td>\n",
       "      <td>...</td>\n",
       "      <td>...</td>\n",
       "    </tr>\n",
       "    <tr>\n",
       "      <th>14207</th>\n",
       "      <td>0.0</td>\n",
       "      <td>1.0</td>\n",
       "      <td>0.0</td>\n",
       "      <td>0.0</td>\n",
       "      <td>0.0</td>\n",
       "      <td>1.0</td>\n",
       "      <td>0.0</td>\n",
       "      <td>1.0</td>\n",
       "      <td>0.0</td>\n",
       "      <td>0.0</td>\n",
       "      <td>...</td>\n",
       "      <td>1.0</td>\n",
       "      <td>0.0</td>\n",
       "      <td>0.0</td>\n",
       "      <td>1.0</td>\n",
       "      <td>0.0</td>\n",
       "      <td>0.0</td>\n",
       "      <td>0.0</td>\n",
       "      <td>-1.064865</td>\n",
       "      <td>-0.168573</td>\n",
       "      <td>0.448109</td>\n",
       "    </tr>\n",
       "    <tr>\n",
       "      <th>14208</th>\n",
       "      <td>0.0</td>\n",
       "      <td>1.0</td>\n",
       "      <td>0.0</td>\n",
       "      <td>0.0</td>\n",
       "      <td>0.0</td>\n",
       "      <td>1.0</td>\n",
       "      <td>1.0</td>\n",
       "      <td>0.0</td>\n",
       "      <td>0.0</td>\n",
       "      <td>0.0</td>\n",
       "      <td>...</td>\n",
       "      <td>0.0</td>\n",
       "      <td>0.0</td>\n",
       "      <td>1.0</td>\n",
       "      <td>0.0</td>\n",
       "      <td>0.0</td>\n",
       "      <td>0.0</td>\n",
       "      <td>0.0</td>\n",
       "      <td>-0.685795</td>\n",
       "      <td>-0.030565</td>\n",
       "      <td>1.611579</td>\n",
       "    </tr>\n",
       "    <tr>\n",
       "      <th>14209</th>\n",
       "      <td>0.0</td>\n",
       "      <td>1.0</td>\n",
       "      <td>0.0</td>\n",
       "      <td>0.0</td>\n",
       "      <td>0.0</td>\n",
       "      <td>1.0</td>\n",
       "      <td>0.0</td>\n",
       "      <td>1.0</td>\n",
       "      <td>0.0</td>\n",
       "      <td>0.0</td>\n",
       "      <td>...</td>\n",
       "      <td>0.0</td>\n",
       "      <td>0.0</td>\n",
       "      <td>1.0</td>\n",
       "      <td>0.0</td>\n",
       "      <td>0.0</td>\n",
       "      <td>0.0</td>\n",
       "      <td>0.0</td>\n",
       "      <td>-1.292308</td>\n",
       "      <td>-0.099569</td>\n",
       "      <td>2.387225</td>\n",
       "    </tr>\n",
       "    <tr>\n",
       "      <th>14210</th>\n",
       "      <td>0.0</td>\n",
       "      <td>1.0</td>\n",
       "      <td>0.0</td>\n",
       "      <td>0.0</td>\n",
       "      <td>0.0</td>\n",
       "      <td>1.0</td>\n",
       "      <td>0.0</td>\n",
       "      <td>1.0</td>\n",
       "      <td>0.0</td>\n",
       "      <td>0.0</td>\n",
       "      <td>...</td>\n",
       "      <td>0.0</td>\n",
       "      <td>0.0</td>\n",
       "      <td>0.0</td>\n",
       "      <td>0.0</td>\n",
       "      <td>0.0</td>\n",
       "      <td>1.0</td>\n",
       "      <td>0.0</td>\n",
       "      <td>1.740258</td>\n",
       "      <td>-0.228952</td>\n",
       "      <td>-0.327538</td>\n",
       "    </tr>\n",
       "    <tr>\n",
       "      <th>14211</th>\n",
       "      <td>0.0</td>\n",
       "      <td>1.0</td>\n",
       "      <td>0.0</td>\n",
       "      <td>0.0</td>\n",
       "      <td>0.0</td>\n",
       "      <td>1.0</td>\n",
       "      <td>1.0</td>\n",
       "      <td>0.0</td>\n",
       "      <td>0.0</td>\n",
       "      <td>0.0</td>\n",
       "      <td>...</td>\n",
       "      <td>1.0</td>\n",
       "      <td>0.0</td>\n",
       "      <td>0.0</td>\n",
       "      <td>0.0</td>\n",
       "      <td>1.0</td>\n",
       "      <td>0.0</td>\n",
       "      <td>0.0</td>\n",
       "      <td>-1.216494</td>\n",
       "      <td>-0.099569</td>\n",
       "      <td>1.301320</td>\n",
       "    </tr>\n",
       "  </tbody>\n",
       "</table>\n",
       "<p>14212 rows × 43 columns</p>\n",
       "</div>"
      ],
      "text/plain": [
       "       x0_Manslaughter by negligence  \\\n",
       "0                                0.0   \n",
       "1                                0.0   \n",
       "2                                0.0   \n",
       "3                                0.0   \n",
       "4                                0.0   \n",
       "...                              ...   \n",
       "14207                            0.0   \n",
       "14208                            0.0   \n",
       "14209                            0.0   \n",
       "14210                            0.0   \n",
       "14211                            0.0   \n",
       "\n",
       "       x0_Murder and non-negligent manslaughter  \\\n",
       "0                                           1.0   \n",
       "1                                           1.0   \n",
       "2                                           1.0   \n",
       "3                                           1.0   \n",
       "4                                           1.0   \n",
       "...                                         ...   \n",
       "14207                                       1.0   \n",
       "14208                                       1.0   \n",
       "14209                                       1.0   \n",
       "14210                                       1.0   \n",
       "14211                                       1.0   \n",
       "\n",
       "       x1_Multiple victims/multiple offenders  \\\n",
       "0                                         0.0   \n",
       "1                                         0.0   \n",
       "2                                         0.0   \n",
       "3                                         0.0   \n",
       "4                                         0.0   \n",
       "...                                       ...   \n",
       "14207                                     0.0   \n",
       "14208                                     0.0   \n",
       "14209                                     0.0   \n",
       "14210                                     0.0   \n",
       "14211                                     0.0   \n",
       "\n",
       "       x1_Multiple victims/single offender  \\\n",
       "0                                      0.0   \n",
       "1                                      0.0   \n",
       "2                                      0.0   \n",
       "3                                      0.0   \n",
       "4                                      0.0   \n",
       "...                                    ...   \n",
       "14207                                  0.0   \n",
       "14208                                  0.0   \n",
       "14209                                  0.0   \n",
       "14210                                  0.0   \n",
       "14211                                  0.0   \n",
       "\n",
       "       x1_Single victim/multiple offenders  x1_Single victim/single offender  \\\n",
       "0                                      0.0                               1.0   \n",
       "1                                      1.0                               0.0   \n",
       "2                                      0.0                               1.0   \n",
       "3                                      0.0                               1.0   \n",
       "4                                      0.0                               1.0   \n",
       "...                                    ...                               ...   \n",
       "14207                                  0.0                               1.0   \n",
       "14208                                  0.0                               1.0   \n",
       "14209                                  0.0                               1.0   \n",
       "14210                                  0.0                               1.0   \n",
       "14211                                  0.0                               1.0   \n",
       "\n",
       "       x2_Female  x2_Male  x2_Unknown  x3_American Indian or Alaskan Native  \\\n",
       "0            0.0      1.0         0.0                                   0.0   \n",
       "1            0.0      1.0         0.0                                   0.0   \n",
       "2            0.0      1.0         0.0                                   0.0   \n",
       "3            0.0      1.0         0.0                                   0.0   \n",
       "4            1.0      0.0         0.0                                   0.0   \n",
       "...          ...      ...         ...                                   ...   \n",
       "14207        0.0      1.0         0.0                                   0.0   \n",
       "14208        1.0      0.0         0.0                                   0.0   \n",
       "14209        0.0      1.0         0.0                                   0.0   \n",
       "14210        0.0      1.0         0.0                                   0.0   \n",
       "14211        1.0      0.0         0.0                                   0.0   \n",
       "\n",
       "       ...  x8_Stabbing  x8_Strangle or Asphyx  x9_Acquaintance  x9_Family  \\\n",
       "0      ...          1.0                    0.0              0.0        1.0   \n",
       "1      ...          1.0                    0.0              1.0        0.0   \n",
       "2      ...          0.0                    0.0              1.0        0.0   \n",
       "3      ...          0.0                    0.0              0.0        0.0   \n",
       "4      ...          0.0                    0.0              0.0        0.0   \n",
       "...    ...          ...                    ...              ...        ...   \n",
       "14207  ...          1.0                    0.0              0.0        1.0   \n",
       "14208  ...          0.0                    0.0              1.0        0.0   \n",
       "14209  ...          0.0                    0.0              1.0        0.0   \n",
       "14210  ...          0.0                    0.0              0.0        0.0   \n",
       "14211  ...          1.0                    0.0              0.0        0.0   \n",
       "\n",
       "       x9_Partner  x9_Stranger  x9_Unknown      Year    VicAge    OffAge  \n",
       "0             0.0          0.0         0.0  1.740258  0.072941 -0.482667  \n",
       "1             0.0          0.0         0.0  0.603046 -0.099569 -1.025620  \n",
       "2             0.0          0.0         0.0  0.754674  0.081566  0.680803  \n",
       "3             1.0          0.0         0.0 -0.761609  0.228199  1.456449  \n",
       "4             1.0          0.0         0.0  0.223975 -0.004689  1.378885  \n",
       "...           ...          ...         ...       ...       ...       ...  \n",
       "14207         0.0          0.0         0.0 -1.064865 -0.168573  0.448109  \n",
       "14208         0.0          0.0         0.0 -0.685795 -0.030565  1.611579  \n",
       "14209         0.0          0.0         0.0 -1.292308 -0.099569  2.387225  \n",
       "14210         0.0          1.0         0.0  1.740258 -0.228952 -0.327538  \n",
       "14211         1.0          0.0         0.0 -1.216494 -0.099569  1.301320  \n",
       "\n",
       "[14212 rows x 43 columns]"
      ]
     },
     "execution_count": 370,
     "metadata": {},
     "output_type": "execute_result"
    }
   ],
   "source": [
    "X_test_combined"
   ]
  },
  {
   "cell_type": "code",
   "execution_count": 371,
   "metadata": {},
   "outputs": [],
   "source": [
    "dum = DummyRegressor()"
   ]
  },
  {
   "cell_type": "code",
   "execution_count": 372,
   "metadata": {},
   "outputs": [
    {
     "data": {
      "text/plain": [
       "DummyRegressor()"
      ]
     },
     "execution_count": 372,
     "metadata": {},
     "output_type": "execute_result"
    }
   ],
   "source": [
    "dum.fit(X_train_combined, y_train)"
   ]
  },
  {
   "cell_type": "code",
   "execution_count": 373,
   "metadata": {},
   "outputs": [
    {
     "data": {
      "text/plain": [
       "-0.00010910798338259475"
      ]
     },
     "execution_count": 373,
     "metadata": {},
     "output_type": "execute_result"
    }
   ],
   "source": [
    "dum.score(X_test_combined, y_test)"
   ]
  },
  {
   "cell_type": "code",
   "execution_count": 375,
   "metadata": {},
   "outputs": [],
   "source": [
    "logreg = LogisticRegression(random_state=42)"
   ]
  },
  {
   "cell_type": "code",
   "execution_count": 376,
   "metadata": {},
   "outputs": [
    {
     "data": {
      "text/plain": [
       "LogisticRegression(random_state=42)"
      ]
     },
     "execution_count": 376,
     "metadata": {},
     "output_type": "execute_result"
    }
   ],
   "source": [
    "logreg.fit(X_train_combined, y_train)"
   ]
  },
  {
   "cell_type": "code",
   "execution_count": 377,
   "metadata": {},
   "outputs": [
    {
     "data": {
      "text/plain": [
       "0.9999296369265409"
      ]
     },
     "execution_count": 377,
     "metadata": {},
     "output_type": "execute_result"
    }
   ],
   "source": [
    "logreg.score(X_test_combined, y_test)"
   ]
  },
  {
   "cell_type": "code",
   "execution_count": 379,
   "metadata": {},
   "outputs": [],
   "source": [
    "from sklearn.metrics import confusion_matrix, plot_confusion_matrix,\\\n",
    "    precision_score, recall_score, accuracy_score, f1_score, log_loss,\\\n",
    "    roc_curve, roc_auc_score, classification_report"
   ]
  },
  {
   "cell_type": "code",
   "execution_count": 383,
   "metadata": {},
   "outputs": [
    {
     "data": {
      "image/png": "[encoded data removed]",
      "text/plain": [
       "<Figure size 432x288 with 2 Axes>"
      ]
     },
     "metadata": {
      "needs_background": "light"
     },
     "output_type": "display_data"
    }
   ],
   "source": [
    "plot_confusion_matrix(logreg, X_test_combined, y_test);"
   ]
  },
  {
   "cell_type": "code",
   "execution_count": null,
   "metadata": {},
   "outputs": [],
   "source": []
  }
 ],
 "metadata": {
  "kernelspec": {
   "display_name": "Python (learn-env)",
   "language": "python",
   "name": "learn-env"
  },
  "language_info": {
   "codemirror_mode": {
    "name": "ipython",
    "version": 3
   },
   "file_extension": ".py",
   "mimetype": "text/x-python",
   "name": "python",
   "nbconvert_exporter": "python",
   "pygments_lexer": "ipython3",
   "version": "3.8.5"
  }
 },
 "nbformat": 4,
 "nbformat_minor": 4
}
